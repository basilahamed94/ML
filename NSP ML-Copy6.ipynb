{
 "cells": [
  {
   "cell_type": "code",
   "execution_count": 1,
   "metadata": {},
   "outputs": [],
   "source": [
    "import numpy as np\n",
    "import pandas as pd\n",
    "\n",
    "from sklearn.model_selection import train_test_split\n",
    "from sklearn.preprocessing import StandardScaler\n",
    "\n",
    "import seaborn as sns\n",
    "from matplotlib import pyplot\n",
    "import matplotlib.pyplot as plt\n",
    "\n",
    "from sklearn.metrics import precision_recall_curve, average_precision_score, f1_score, auc, confusion_matrix, accuracy_score\n",
    "\n",
    "from keras.models import load_model\n",
    "#import pickle\n",
    "\n",
    "from sklearn.decomposition import PCA\n",
    "\n",
    "#from sklearn.model_selection import RepeatedStratifiedKFold\n",
    "#from sklearn.model_selection import cross_val_score\n",
    "#from sklearn.model_selection import KFold"
   ]
  },
  {
   "cell_type": "code",
   "execution_count": 2,
   "metadata": {},
   "outputs": [
    {
     "name": "stderr",
     "output_type": "stream",
     "text": [
      "D:\\anac\\lib\\site-packages\\sklearn\\utils\\deprecation.py:144: FutureWarning: The sklearn.neighbors.base module is  deprecated in version 0.22 and will be removed in version 0.24. The corresponding classes / functions should instead be imported from sklearn.neighbors. Anything that cannot be imported from sklearn.neighbors is now part of the private API.\n",
      "  warnings.warn(message, FutureWarning)\n",
      "D:\\anac\\lib\\site-packages\\sklearn\\utils\\deprecation.py:144: FutureWarning: The sklearn.ensemble.bagging module is  deprecated in version 0.22 and will be removed in version 0.24. The corresponding classes / functions should instead be imported from sklearn.ensemble. Anything that cannot be imported from sklearn.ensemble is now part of the private API.\n",
      "  warnings.warn(message, FutureWarning)\n",
      "D:\\anac\\lib\\site-packages\\sklearn\\utils\\deprecation.py:144: FutureWarning: The sklearn.ensemble.base module is  deprecated in version 0.22 and will be removed in version 0.24. The corresponding classes / functions should instead be imported from sklearn.ensemble. Anything that cannot be imported from sklearn.ensemble is now part of the private API.\n",
      "  warnings.warn(message, FutureWarning)\n",
      "D:\\anac\\lib\\site-packages\\sklearn\\utils\\deprecation.py:144: FutureWarning: The sklearn.ensemble.forest module is  deprecated in version 0.22 and will be removed in version 0.24. The corresponding classes / functions should instead be imported from sklearn.ensemble. Anything that cannot be imported from sklearn.ensemble is now part of the private API.\n",
      "  warnings.warn(message, FutureWarning)\n",
      "D:\\anac\\lib\\site-packages\\sklearn\\utils\\deprecation.py:144: FutureWarning: The sklearn.utils.testing module is  deprecated in version 0.22 and will be removed in version 0.24. The corresponding classes / functions should instead be imported from sklearn.utils. Anything that cannot be imported from sklearn.utils is now part of the private API.\n",
      "  warnings.warn(message, FutureWarning)\n",
      "D:\\anac\\lib\\site-packages\\sklearn\\utils\\deprecation.py:144: FutureWarning: The sklearn.metrics.classification module is  deprecated in version 0.22 and will be removed in version 0.24. The corresponding classes / functions should instead be imported from sklearn.metrics. Anything that cannot be imported from sklearn.metrics is now part of the private API.\n",
      "  warnings.warn(message, FutureWarning)\n"
     ]
    }
   ],
   "source": [
    "from imblearn.over_sampling import SMOTE"
   ]
  },
  {
   "cell_type": "code",
   "execution_count": 3,
   "metadata": {
    "scrolled": true
   },
   "outputs": [
    {
     "name": "stderr",
     "output_type": "stream",
     "text": [
      "D:\\anac\\lib\\site-packages\\IPython\\core\\interactiveshell.py:3058: DtypeWarning: Columns (15,69,72) have mixed types. Specify dtype option on import or set low_memory=False.\n",
      "  interactivity=interactivity, compiler=compiler, result=result)\n"
     ]
    },
    {
     "data": {
      "text/plain": [
       "(232593, 83)"
      ]
     },
     "execution_count": 3,
     "metadata": {},
     "output_type": "execute_result"
    }
   ],
   "source": [
    "#x = pd.read_csv(r'D:\\NSP ML\\New folder\\New folder\\PREMATRIC-MODEL-python.csv')\n",
    "G = pd.read_csv(r'D:\\NSP ML\\New folder\\New folder\\PREMATRIC-MODEL-python-FINAL.csv',parse_dates=['updated_dt','password_last_updated_on'], dayfirst=True)\n",
    "G.shape"
   ]
  },
  {
   "cell_type": "code",
   "execution_count": 4,
   "metadata": {},
   "outputs": [
    {
     "data": {
      "text/plain": [
       "c_institution_id                 int64\n",
       "max_application_level          float64\n",
       "min_application_level          float64\n",
       "avg_application_level          float64\n",
       "median_as_application_level    float64\n",
       "                                ...   \n",
       "is_first_login                  object\n",
       "is_namedies_change              object\n",
       "is_valid_institute              object\n",
       "Expr1                            int64\n",
       "PREPOST                         object\n",
       "Length: 83, dtype: object"
      ]
     },
     "execution_count": 4,
     "metadata": {},
     "output_type": "execute_result"
    }
   ],
   "source": [
    "G.dtypes"
   ]
  },
  {
   "cell_type": "code",
   "execution_count": 5,
   "metadata": {},
   "outputs": [],
   "source": [
    "#G['Expr1'] = G['Expr1'].astype('object')\n",
    "G['c_institution_id'] = G['c_institution_id'].astype('object')"
   ]
  },
  {
   "cell_type": "code",
   "execution_count": 6,
   "metadata": {},
   "outputs": [
    {
     "data": {
      "text/plain": [
       "(232593, 83)"
      ]
     },
     "execution_count": 6,
     "metadata": {},
     "output_type": "execute_result"
    }
   ],
   "source": [
    "G = G.drop_duplicates()\n",
    "G.shape"
   ]
  },
  {
   "cell_type": "code",
   "execution_count": 7,
   "metadata": {},
   "outputs": [
    {
     "data": {
      "text/plain": [
       "c_institution_id                   0\n",
       "max_application_level          43538\n",
       "min_application_level          43538\n",
       "avg_application_level          43538\n",
       "median_as_application_level    43538\n",
       "max_annual_family_income           0\n",
       "min_annual_family_income           0\n",
       "avg_annual_family_income           0\n",
       "median_annual_family_income        0\n",
       "count_of_application_id            0\n",
       "dtype: int64"
      ]
     },
     "execution_count": 7,
     "metadata": {},
     "output_type": "execute_result"
    }
   ],
   "source": [
    "G.iloc[:,0:10].isnull().sum()"
   ]
  },
  {
   "cell_type": "code",
   "execution_count": 8,
   "metadata": {},
   "outputs": [
    {
     "data": {
      "text/plain": [
       "(232593, 83)"
      ]
     },
     "execution_count": 8,
     "metadata": {},
     "output_type": "execute_result"
    }
   ],
   "source": [
    "G = G[G['c_institution_id']!=0].reset_index(drop=True)\n",
    "G.shape"
   ]
  },
  {
   "cell_type": "code",
   "execution_count": 9,
   "metadata": {
    "scrolled": true
   },
   "outputs": [],
   "source": [
    "values = {'max_application_level':0, 'min_application_level':0,\n",
    "       'avg_application_level':0, 'median_as_application_level':0,\n",
    "       'max_annual_family_income':0, 'min_annual_family_income':0,\n",
    "       'avg_annual_family_income':0, 'median_annual_family_income':0,\n",
    "       'Percent_Inrank':0, 'sunday':0, 'average_of_verification_time':0, 'ZERO':0,\n",
    "       'average_scholarship_amount':0, 'R1':0, 'R2':0, 'R3':0, 'R4':0, 'R5':0, 'R6':0, 'R7':0,\n",
    "       'R8':0, 'M':0, 'F':0, 'T':0, 'CountOfIp Address':0, 'count(ACCEPTED_BY_PFMS)':0,\n",
    "       'count(NEW)':0, 'count(REJECTED_BY_PFMS)':0, 'count (HOSTELLER_TRUE)':0,\n",
    "       'count(PAYMENT_STATUS_ACCP)':0, 'count AADHAAR_REG_MODE':0, 'less_than_3':0,\n",
    "       '4':0, '5':0, '6':0, '7':0, '8':0, '9':0, '10':0, '11':0, '12':0, '13':0, '14':0, '15':0, '16':0,\n",
    "       '17':0, '18':0, '19':0, '20':0, '21':0, '22':0, '23':0, '24':0, '25':0, '26':0, '27':0, '28':0,\n",
    "       '29':0, '30':0, 'above_30':0, 'SC':0, 'ST':0, 'OBC':0, 'rural_urban':'NNA', 'boys_girls':'NNA',\n",
    "       'board_org_not_mapped':'NNA', 'registration_status':'NNA',\n",
    "       'mhrd_flag':'NNA', 'is_contact_updated':'NNA',\n",
    "       'is_validated_mobileno':'NNA', 'is_password_changed':'NNA',\n",
    "       'is_first_login':'NNA', 'is_NNAmedies_change':'NNA', 'is_valid_institute':'NNA'}\n",
    "X_T = G.drop(columns=['PREPOST','count_of_application_id', 'count_of_in_rank','schlorcolg','MaxOfAc Year','is_contact_updated'])\n",
    "#print(X_T.shape)\n",
    "X_T = X_T.fillna(value=values)"
   ]
  },
  {
   "cell_type": "code",
   "execution_count": 10,
   "metadata": {},
   "outputs": [
    {
     "data": {
      "text/plain": [
       "above_30                         0\n",
       "SC                               0\n",
       "ST                               0\n",
       "OBC                              0\n",
       "rural_urban                      0\n",
       "boys_girls                       0\n",
       "board_org_not_mapped             0\n",
       "registration_status              0\n",
       "password_last_updated_on     11078\n",
       "mhrd_flag                        0\n",
       "is_validated_mobileno            0\n",
       "is_password_changed              0\n",
       "updated_dt                  232593\n",
       "is_first_login                   0\n",
       "is_namedies_change               0\n",
       "is_valid_institute               0\n",
       "Expr1                            0\n",
       "dtype: int64"
      ]
     },
     "execution_count": 10,
     "metadata": {},
     "output_type": "execute_result"
    }
   ],
   "source": [
    "X_T.iloc[:,60:].isnull().sum()"
   ]
  },
  {
   "cell_type": "code",
   "execution_count": 11,
   "metadata": {},
   "outputs": [
    {
     "data": {
      "text/plain": [
       "above_30                             int64\n",
       "SC                                 float64\n",
       "ST                                 float64\n",
       "OBC                                float64\n",
       "rural_urban                         object\n",
       "boys_girls                          object\n",
       "board_org_not_mapped                object\n",
       "registration_status                 object\n",
       "password_last_updated_on    datetime64[ns]\n",
       "mhrd_flag                           object\n",
       "is_validated_mobileno               object\n",
       "is_password_changed                 object\n",
       "updated_dt                  datetime64[ns]\n",
       "is_first_login                      object\n",
       "is_namedies_change                  object\n",
       "is_valid_institute                  object\n",
       "Expr1                                int64\n",
       "dtype: object"
      ]
     },
     "execution_count": 11,
     "metadata": {},
     "output_type": "execute_result"
    }
   ],
   "source": [
    "X_T.iloc[:,60:].dtypes"
   ]
  },
  {
   "cell_type": "code",
   "execution_count": 12,
   "metadata": {},
   "outputs": [],
   "source": [
    "result=[]\n",
    "for v in X_T['updated_dt']:\n",
    "    if pd.isna(v):\n",
    "        result.append(0)\n",
    "    else:\n",
    "        v= (v- np.datetime64('1900-01-01')).days+2\n",
    "        result.append(v)\n",
    "X_T[\"updated_dt\"] = result   \n",
    "result=[]\n",
    "for v in X_T['password_last_updated_on']:\n",
    "    if pd.isna(v):\n",
    "        result.append(0)\n",
    "    else:\n",
    "        v= (v- np.datetime64('1900-01-01')).days+2\n",
    "        result.append(v)\n",
    "X_T[\"password_last_updated_on\"] = result"
   ]
  },
  {
   "cell_type": "code",
   "execution_count": 13,
   "metadata": {},
   "outputs": [
    {
     "data": {
      "text/plain": [
       "(232593, 77)"
      ]
     },
     "execution_count": 13,
     "metadata": {},
     "output_type": "execute_result"
    }
   ],
   "source": [
    "X_T.shape"
   ]
  },
  {
   "cell_type": "code",
   "execution_count": 14,
   "metadata": {
    "scrolled": true
   },
   "outputs": [
    {
     "data": {
      "text/plain": [
       "above_30                    0\n",
       "SC                          0\n",
       "ST                          0\n",
       "OBC                         0\n",
       "rural_urban                 0\n",
       "boys_girls                  0\n",
       "board_org_not_mapped        0\n",
       "registration_status         0\n",
       "password_last_updated_on    0\n",
       "mhrd_flag                   0\n",
       "is_validated_mobileno       0\n",
       "is_password_changed         0\n",
       "updated_dt                  0\n",
       "is_first_login              0\n",
       "is_namedies_change          0\n",
       "is_valid_institute          0\n",
       "Expr1                       0\n",
       "dtype: int64"
      ]
     },
     "execution_count": 14,
     "metadata": {},
     "output_type": "execute_result"
    }
   ],
   "source": [
    "X_T.iloc[:,60:].isnull().sum()"
   ]
  },
  {
   "cell_type": "code",
   "execution_count": 15,
   "metadata": {},
   "outputs": [
    {
     "name": "stdout",
     "output_type": "stream",
     "text": [
      "(232593, 101)\n"
     ]
    }
   ],
   "source": [
    "X_T = X_T.drop(columns=['Expr1','c_institution_id'])\n",
    "X_T = pd.get_dummies(X_T)\n",
    "print(X_T.shape)"
   ]
  },
  {
   "cell_type": "code",
   "execution_count": 16,
   "metadata": {},
   "outputs": [
    {
     "name": "stdout",
     "output_type": "stream",
     "text": [
      "(232593, 101)\n"
     ]
    }
   ],
   "source": [
    "from sklearn import preprocessing\n",
    "X_T = preprocessing.scale(X_T)\n",
    "print(X_T.shape)"
   ]
  },
  {
   "cell_type": "code",
   "execution_count": 17,
   "metadata": {},
   "outputs": [
    {
     "data": {
      "text/plain": [
       "(232593, 101)"
      ]
     },
     "execution_count": 17,
     "metadata": {},
     "output_type": "execute_result"
    }
   ],
   "source": [
    "X_T = pd.DataFrame(X_T)\n",
    "X_T.shape"
   ]
  },
  {
   "cell_type": "code",
   "execution_count": 18,
   "metadata": {
    "scrolled": true
   },
   "outputs": [
    {
     "data": {
      "image/png": "[encoded data removed]",
      "text/plain": [
       "<Figure size 432x288 with 1 Axes>"
      ]
     },
     "metadata": {
      "needs_background": "light"
     },
     "output_type": "display_data"
    }
   ],
   "source": [
    "pca = PCA(0.9).fit(X_T)\n",
    "X_pca  = pca.transform(X_T)\n",
    "plt.plot(np.cumsum(pca.explained_variance_ratio_))\n",
    "plt.xlabel('number of components')\n",
    "plt.ylabel('cumulative explained variance')\n",
    "plt.show()"
   ]
  },
  {
   "cell_type": "code",
   "execution_count": 19,
   "metadata": {},
   "outputs": [
    {
     "data": {
      "text/html": [
       "<div>\n",
       "<style scoped>\n",
       "    .dataframe tbody tr th:only-of-type {\n",
       "        vertical-align: middle;\n",
       "    }\n",
       "\n",
       "    .dataframe tbody tr th {\n",
       "        vertical-align: top;\n",
       "    }\n",
       "\n",
       "    .dataframe thead th {\n",
       "        text-align: right;\n",
       "    }\n",
       "</style>\n",
       "<table border=\"1\" class=\"dataframe\">\n",
       "  <thead>\n",
       "    <tr style=\"text-align: right;\">\n",
       "      <th></th>\n",
       "      <th>0</th>\n",
       "      <th>1</th>\n",
       "      <th>2</th>\n",
       "      <th>3</th>\n",
       "      <th>4</th>\n",
       "      <th>5</th>\n",
       "      <th>6</th>\n",
       "      <th>7</th>\n",
       "      <th>8</th>\n",
       "      <th>9</th>\n",
       "      <th>...</th>\n",
       "      <th>37</th>\n",
       "      <th>38</th>\n",
       "      <th>39</th>\n",
       "      <th>40</th>\n",
       "      <th>41</th>\n",
       "      <th>42</th>\n",
       "      <th>43</th>\n",
       "      <th>44</th>\n",
       "      <th>Expr1</th>\n",
       "      <th>c_institution_id</th>\n",
       "    </tr>\n",
       "  </thead>\n",
       "  <tbody>\n",
       "    <tr>\n",
       "      <td>0</td>\n",
       "      <td>19.825997</td>\n",
       "      <td>5.079863</td>\n",
       "      <td>-4.874522</td>\n",
       "      <td>-9.764847</td>\n",
       "      <td>-5.836459</td>\n",
       "      <td>0.469429</td>\n",
       "      <td>-4.351514</td>\n",
       "      <td>8.202045</td>\n",
       "      <td>9.809360</td>\n",
       "      <td>1.390740</td>\n",
       "      <td>...</td>\n",
       "      <td>-42.710419</td>\n",
       "      <td>92.523316</td>\n",
       "      <td>41.926415</td>\n",
       "      <td>17.324938</td>\n",
       "      <td>34.617930</td>\n",
       "      <td>-19.917549</td>\n",
       "      <td>4.579735</td>\n",
       "      <td>-19.605970</td>\n",
       "      <td>0</td>\n",
       "      <td>10010100303</td>\n",
       "    </tr>\n",
       "    <tr>\n",
       "      <td>1</td>\n",
       "      <td>-1.613049</td>\n",
       "      <td>1.749357</td>\n",
       "      <td>-0.610415</td>\n",
       "      <td>-0.809919</td>\n",
       "      <td>-0.352301</td>\n",
       "      <td>0.504027</td>\n",
       "      <td>-0.815753</td>\n",
       "      <td>-0.251294</td>\n",
       "      <td>-0.102658</td>\n",
       "      <td>0.351737</td>\n",
       "      <td>...</td>\n",
       "      <td>-1.921387</td>\n",
       "      <td>-0.082842</td>\n",
       "      <td>-0.763896</td>\n",
       "      <td>-0.584622</td>\n",
       "      <td>-0.828428</td>\n",
       "      <td>0.419799</td>\n",
       "      <td>0.855232</td>\n",
       "      <td>-0.088878</td>\n",
       "      <td>0</td>\n",
       "      <td>10010100505</td>\n",
       "    </tr>\n",
       "    <tr>\n",
       "      <td>2</td>\n",
       "      <td>-2.595342</td>\n",
       "      <td>3.567287</td>\n",
       "      <td>0.492573</td>\n",
       "      <td>-4.162511</td>\n",
       "      <td>-2.321073</td>\n",
       "      <td>4.818698</td>\n",
       "      <td>1.721271</td>\n",
       "      <td>0.810043</td>\n",
       "      <td>0.400479</td>\n",
       "      <td>0.987331</td>\n",
       "      <td>...</td>\n",
       "      <td>1.640101</td>\n",
       "      <td>0.245780</td>\n",
       "      <td>0.446932</td>\n",
       "      <td>-0.242546</td>\n",
       "      <td>0.991093</td>\n",
       "      <td>-0.269632</td>\n",
       "      <td>-0.485553</td>\n",
       "      <td>0.267929</td>\n",
       "      <td>0</td>\n",
       "      <td>10010100808</td>\n",
       "    </tr>\n",
       "    <tr>\n",
       "      <td>3</td>\n",
       "      <td>-2.416536</td>\n",
       "      <td>3.122555</td>\n",
       "      <td>0.780029</td>\n",
       "      <td>-3.886292</td>\n",
       "      <td>-2.309035</td>\n",
       "      <td>4.188017</td>\n",
       "      <td>0.491370</td>\n",
       "      <td>0.223970</td>\n",
       "      <td>0.504850</td>\n",
       "      <td>-1.016335</td>\n",
       "      <td>...</td>\n",
       "      <td>1.486037</td>\n",
       "      <td>0.046764</td>\n",
       "      <td>0.757554</td>\n",
       "      <td>-0.667949</td>\n",
       "      <td>0.527741</td>\n",
       "      <td>-0.684442</td>\n",
       "      <td>-0.396169</td>\n",
       "      <td>0.358722</td>\n",
       "      <td>0</td>\n",
       "      <td>10010101901</td>\n",
       "    </tr>\n",
       "    <tr>\n",
       "      <td>4</td>\n",
       "      <td>-2.608699</td>\n",
       "      <td>3.486405</td>\n",
       "      <td>0.431210</td>\n",
       "      <td>-4.018980</td>\n",
       "      <td>-2.164909</td>\n",
       "      <td>4.720121</td>\n",
       "      <td>1.257342</td>\n",
       "      <td>0.639733</td>\n",
       "      <td>0.313831</td>\n",
       "      <td>0.780561</td>\n",
       "      <td>...</td>\n",
       "      <td>1.736139</td>\n",
       "      <td>0.017970</td>\n",
       "      <td>0.301780</td>\n",
       "      <td>-0.357133</td>\n",
       "      <td>0.823064</td>\n",
       "      <td>-0.271397</td>\n",
       "      <td>-0.471189</td>\n",
       "      <td>0.292928</td>\n",
       "      <td>0</td>\n",
       "      <td>10010102003</td>\n",
       "    </tr>\n",
       "  </tbody>\n",
       "</table>\n",
       "<p>5 rows × 47 columns</p>\n",
       "</div>"
      ],
      "text/plain": [
       "           0         1         2         3         4         5         6  \\\n",
       "0  19.825997  5.079863 -4.874522 -9.764847 -5.836459  0.469429 -4.351514   \n",
       "1  -1.613049  1.749357 -0.610415 -0.809919 -0.352301  0.504027 -0.815753   \n",
       "2  -2.595342  3.567287  0.492573 -4.162511 -2.321073  4.818698  1.721271   \n",
       "3  -2.416536  3.122555  0.780029 -3.886292 -2.309035  4.188017  0.491370   \n",
       "4  -2.608699  3.486405  0.431210 -4.018980 -2.164909  4.720121  1.257342   \n",
       "\n",
       "          7         8         9  ...         37         38         39  \\\n",
       "0  8.202045  9.809360  1.390740  ... -42.710419  92.523316  41.926415   \n",
       "1 -0.251294 -0.102658  0.351737  ...  -1.921387  -0.082842  -0.763896   \n",
       "2  0.810043  0.400479  0.987331  ...   1.640101   0.245780   0.446932   \n",
       "3  0.223970  0.504850 -1.016335  ...   1.486037   0.046764   0.757554   \n",
       "4  0.639733  0.313831  0.780561  ...   1.736139   0.017970   0.301780   \n",
       "\n",
       "          40         41         42        43         44  Expr1  \\\n",
       "0  17.324938  34.617930 -19.917549  4.579735 -19.605970      0   \n",
       "1  -0.584622  -0.828428   0.419799  0.855232  -0.088878      0   \n",
       "2  -0.242546   0.991093  -0.269632 -0.485553   0.267929      0   \n",
       "3  -0.667949   0.527741  -0.684442 -0.396169   0.358722      0   \n",
       "4  -0.357133   0.823064  -0.271397 -0.471189   0.292928      0   \n",
       "\n",
       "   c_institution_id  \n",
       "0       10010100303  \n",
       "1       10010100505  \n",
       "2       10010100808  \n",
       "3       10010101901  \n",
       "4       10010102003  \n",
       "\n",
       "[5 rows x 47 columns]"
      ]
     },
     "execution_count": 19,
     "metadata": {},
     "output_type": "execute_result"
    }
   ],
   "source": [
    "X_pca = pd.DataFrame(X_pca)\n",
    "X_pca['Expr1'] = G['Expr1']\n",
    "X_pca['c_institution_id'] = G['c_institution_id']\n",
    "X_pca.head()"
   ]
  },
  {
   "cell_type": "code",
   "execution_count": 20,
   "metadata": {},
   "outputs": [
    {
     "data": {
      "text/plain": [
       "0    161464\n",
       "1      1351\n",
       "Name: Expr1, dtype: int64"
      ]
     },
     "execution_count": 20,
     "metadata": {},
     "output_type": "execute_result"
    }
   ],
   "source": [
    "#Under Sampling\n",
    "#a = d1[d1['Fake']==1] \n",
    "d2 = X_pca.sample(frac=0.7, replace=False, random_state=3)\n",
    "#d2 = d1[d1['Fake']==0].append(a, ignore_index=True)\n",
    "d2['Expr1'].value_counts()"
   ]
  },
  {
   "cell_type": "code",
   "execution_count": 21,
   "metadata": {},
   "outputs": [
    {
     "data": {
      "text/plain": [
       "(162815, 47)"
      ]
     },
     "execution_count": 21,
     "metadata": {},
     "output_type": "execute_result"
    }
   ],
   "source": [
    "d2.shape"
   ]
  },
  {
   "cell_type": "code",
   "execution_count": 22,
   "metadata": {},
   "outputs": [
    {
     "data": {
      "text/plain": [
       "(69778, 47)"
      ]
     },
     "execution_count": 22,
     "metadata": {},
     "output_type": "execute_result"
    }
   ],
   "source": [
    "d3 = X_pca[~X_pca['c_institution_id'].isin(d2['c_institution_id'])]\n",
    "d3.shape"
   ]
  },
  {
   "cell_type": "code",
   "execution_count": 23,
   "metadata": {},
   "outputs": [
    {
     "data": {
      "text/plain": [
       "232593"
      ]
     },
     "execution_count": 23,
     "metadata": {},
     "output_type": "execute_result"
    }
   ],
   "source": [
    "161464+69778+1351"
   ]
  },
  {
   "cell_type": "code",
   "execution_count": 24,
   "metadata": {},
   "outputs": [
    {
     "data": {
      "text/plain": [
       "0    69151\n",
       "1      627\n",
       "Name: Expr1, dtype: int64"
      ]
     },
     "execution_count": 24,
     "metadata": {},
     "output_type": "execute_result"
    }
   ],
   "source": [
    "d3['Expr1'].value_counts()"
   ]
  },
  {
   "cell_type": "code",
   "execution_count": 25,
   "metadata": {},
   "outputs": [
    {
     "data": {
      "text/plain": [
       "Text(0, 0.5, 'Second Principal Component')"
      ]
     },
     "execution_count": 25,
     "metadata": {},
     "output_type": "execute_result"
    },
    {
     "data": {
      "image/png": "[encoded data removed]",
      "text/plain": [
       "<Figure size 576x432 with 1 Axes>"
      ]
     },
     "metadata": {
      "needs_background": "light"
     },
     "output_type": "display_data"
    }
   ],
   "source": [
    "#x_pca = pca.transform(X)\n",
    "plt.figure(figsize=(8,6))\n",
    "plt.scatter(d2[0],d2[1],c=d2['Expr1'],cmap='rainbow')\n",
    "plt.xlabel('First principal component')\n",
    "plt.ylabel('Second Principal Component')"
   ]
  },
  {
   "cell_type": "code",
   "execution_count": 26,
   "metadata": {},
   "outputs": [
    {
     "data": {
      "text/plain": [
       "Text(0, 0.5, 'Second Principal Component')"
      ]
     },
     "execution_count": 26,
     "metadata": {},
     "output_type": "execute_result"
    },
    {
     "data": {
      "image/png": "[encoded data removed]",
      "text/plain": [
       "<Figure size 576x432 with 1 Axes>"
      ]
     },
     "metadata": {
      "needs_background": "light"
     },
     "output_type": "display_data"
    }
   ],
   "source": [
    "#Remove outliers\n",
    "x_pca_df = d2[d2[0]<200]\n",
    "#x_pca_df = x_pca_df[x_pca_df[1]<50000]\n",
    "x_pca_df.shape\n",
    "plt.figure(figsize=(8,6))\n",
    "plt.scatter(x_pca_df[0],x_pca_df[1],c=x_pca_df['Expr1'],cmap='rainbow')\n",
    "plt.xlabel('First principal component')\n",
    "plt.ylabel('Second Principal Component')"
   ]
  },
  {
   "cell_type": "code",
   "execution_count": 28,
   "metadata": {},
   "outputs": [
    {
     "data": {
      "text/plain": [
       "(162813, 47)"
      ]
     },
     "execution_count": 28,
     "metadata": {},
     "output_type": "execute_result"
    }
   ],
   "source": [
    "x_pca_df.shape"
   ]
  },
  {
   "cell_type": "code",
   "execution_count": 29,
   "metadata": {},
   "outputs": [
    {
     "data": {
      "text/plain": [
       "(162815, 47)"
      ]
     },
     "execution_count": 29,
     "metadata": {},
     "output_type": "execute_result"
    }
   ],
   "source": [
    "d2.shape"
   ]
  },
  {
   "cell_type": "code",
   "execution_count": 30,
   "metadata": {},
   "outputs": [
    {
     "name": "stderr",
     "output_type": "stream",
     "text": [
      "D:\\anac\\lib\\site-packages\\sklearn\\utils\\deprecation.py:87: FutureWarning: Function safe_indexing is deprecated; safe_indexing is deprecated in version 0.22 and will be removed in version 0.24.\n",
      "  warnings.warn(msg, category=FutureWarning)\n"
     ]
    }
   ],
   "source": [
    "X = x_pca_df.drop(columns=['Expr1','c_institution_id'])\n",
    "Y = x_pca_df['Expr1'].astype('int')\n",
    "# Splitting the dataset into the Training set and Test set\n",
    "X_train, X_test, Y_train, Y_test = train_test_split(X, Y, test_size = 0.25, random_state = 0)\n",
    "sm = SMOTE(random_state=27, ratio=1.0)\n",
    "X_train, Y_train = sm.fit_sample(X_train, Y_train)"
   ]
  },
  {
   "cell_type": "code",
   "execution_count": 31,
   "metadata": {},
   "outputs": [
    {
     "data": {
      "text/plain": [
       "0    40359\n",
       "1      345\n",
       "Name: Expr1, dtype: int64"
      ]
     },
     "execution_count": 31,
     "metadata": {},
     "output_type": "execute_result"
    }
   ],
   "source": [
    "Y_test.value_counts()"
   ]
  },
  {
   "cell_type": "code",
   "execution_count": 32,
   "metadata": {},
   "outputs": [
    {
     "data": {
      "text/plain": [
       "Index([ 0,  1,  2,  3,  4,  5,  6,  7,  8,  9, 10, 11, 12, 13, 14, 15, 16, 17,\n",
       "       18, 19, 20, 21, 22, 23, 24, 25, 26, 27, 28, 29, 30, 31, 32, 33, 34, 35,\n",
       "       36, 37, 38, 39, 40, 41, 42, 43, 44],\n",
       "      dtype='object')"
      ]
     },
     "execution_count": 32,
     "metadata": {},
     "output_type": "execute_result"
    }
   ],
   "source": [
    "X.columns"
   ]
  },
  {
   "cell_type": "code",
   "execution_count": 85,
   "metadata": {},
   "outputs": [
    {
     "name": "stdout",
     "output_type": "stream",
     "text": [
      "Accuracy  0.9915241745283019\n",
      "F1 Score  0.0\n",
      "Confusion Matrix\n",
      "        0  1\n",
      "0  40359  0\n",
      "1    345  0\n",
      "AUC PR 0.5042379127358491\n"
     ]
    }
   ],
   "source": [
    "from sklearn.dummy import DummyClassifier\n",
    "smote_dummy = DummyClassifier(strategy='most_frequent').fit(X_train, Y_train)\n",
    "smote_pred = smote_dummy.predict(X_test)\n",
    "# Checking accuracy\n",
    "print('Accuracy ',accuracy_score(Y_test, smote_pred))\n",
    "print('F1 Score ',f1_score(Y_test, smote_pred))\n",
    "print('Confusion Matrix\\n',pd.DataFrame(confusion_matrix(Y_test, smote_pred)))\n",
    "\n",
    "precision, recall, thresholds = precision_recall_curve(Y_test, smote_pred)\n",
    "print('AUC PR',auc(recall, precision))"
   ]
  },
  {
   "cell_type": "code",
   "execution_count": 41,
   "metadata": {},
   "outputs": [
    {
     "name": "stdout",
     "output_type": "stream",
     "text": [
      "Accuracy  0.7700963050314465\n",
      "F1 Score  0.04937017472572125\n",
      "Confusion Matrix\n",
      "        0     1\n",
      "0  31103  9256\n",
      "1    102   243\n",
      "AUC PR 0.36621768124301074\n"
     ]
    },
    {
     "data": {
      "image/png": "[encoded data removed]",
      "text/plain": [
       "<Figure size 432x288 with 1 Axes>"
      ]
     },
     "metadata": {
      "needs_background": "light"
     },
     "output_type": "display_data"
    }
   ],
   "source": [
    "from sklearn.linear_model import LogisticRegression\n",
    "smote_lr = LogisticRegression(solver='liblinear').fit(X_train, Y_train)\n",
    "smote_pred = smote_lr.predict(X_test)\n",
    "# Checking accuracy\n",
    "print('Accuracy ',accuracy_score(Y_test, smote_pred))\n",
    "print('F1 Score ',f1_score(Y_test, smote_pred))\n",
    "print('Confusion Matrix\\n',pd.DataFrame(confusion_matrix(Y_test, smote_pred)))\n",
    "\n",
    "precision, recall, thresholds = precision_recall_curve(Y_test, smote_pred)\n",
    "print('AUC PR',auc(recall, precision))"
   ]
  },
  {
   "cell_type": "code",
   "execution_count": 42,
   "metadata": {},
   "outputs": [
    {
     "name": "stdout",
     "output_type": "stream",
     "text": [
      "Accuracy  0.9312843946540881\n",
      "F1 Score  0.07720224348399868\n",
      "Confusion Matrix\n",
      "        0     1\n",
      "0  37790  2569\n",
      "1    228   117\n",
      "AUC PR 0.19414552285358955\n"
     ]
    },
    {
     "data": {
      "image/png": "[encoded data removed]",
      "text/plain": [
       "<Figure size 432x288 with 1 Axes>"
      ]
     },
     "metadata": {
      "needs_background": "light"
     },
     "output_type": "display_data"
    }
   ],
   "source": [
    "#Using KNeighborsClassifier Method of neighbors class to use Nearest Neighbor algorithm\n",
    "from sklearn.neighbors import KNeighborsClassifier\n",
    "smote_knn = KNeighborsClassifier(n_neighbors = 5, metric = 'minkowski', p = 2).fit(X_train, Y_train)\n",
    "smote_pred = smote_knn.predict(X_test)\n",
    "print('Accuracy ',accuracy_score(Y_test, smote_pred))\n",
    "print('F1 Score ',f1_score(Y_test, smote_pred))\n",
    "print('Confusion Matrix\\n',pd.DataFrame(confusion_matrix(Y_test, smote_pred)))\n",
    "\n",
    "precision, recall, thresholds = precision_recall_curve(Y_test, smote_pred)\n",
    "print('AUC PR',auc(recall, precision))\n",
    "\n",
    "plt.plot(recall, precision)\n",
    "plt.show()"
   ]
  },
  {
   "cell_type": "code",
   "execution_count": 33,
   "metadata": {},
   "outputs": [
    {
     "name": "stdout",
     "output_type": "stream",
     "text": [
      "Accuracy  0.7799233490566038\n",
      "F1 Score  0.05146124523506988\n",
      "Confusion Matrix\n",
      "        0     1\n",
      "0  31503  8856\n",
      "1    102   243\n",
      "AUC PR 0.36677997688368874\n"
     ]
    },
    {
     "data": {
      "image/png": "[encoded data removed]",
      "text/plain": [
       "<Figure size 432x288 with 1 Axes>"
      ]
     },
     "metadata": {
      "needs_background": "light"
     },
     "output_type": "display_data"
    }
   ],
   "source": [
    "#Using SVC method of svm class to use Support Vector Machine Algorithm\n",
    "from sklearn.svm import SVC\n",
    "smote_svc = SVC(kernel = 'linear', random_state = 0).fit(X_train, Y_train)\n",
    "smote_pred = smote_svc.predict(X_test)\n",
    "print('Accuracy ',accuracy_score(Y_test, smote_pred))\n",
    "print('F1 Score ',f1_score(Y_test, smote_pred))\n",
    "print('Confusion Matrix\\n',pd.DataFrame(confusion_matrix(Y_test, smote_pred)))\n",
    "\n",
    "precision, recall, thresholds = precision_recall_curve(Y_test, smote_pred)\n",
    "print('AUC PR',auc(recall, precision))\n",
    "\n",
    "plt.plot(recall, precision)\n",
    "plt.show()"
   ]
  },
  {
   "cell_type": "code",
   "execution_count": 38,
   "metadata": {},
   "outputs": [
    {
     "name": "stdout",
     "output_type": "stream",
     "text": [
      "Accuracy  0.8201405267295597\n",
      "F1 Score  0.05669372503543357\n",
      "Confusion Matrix\n",
      "        0     1\n",
      "0  33163  7196\n",
      "1    125   220\n",
      "AUC PR 0.33520884929808326\n"
     ]
    },
    {
     "data": {
      "image/png": "[encoded data removed]",
      "text/plain": [
       "<Figure size 432x288 with 1 Axes>"
      ]
     },
     "metadata": {
      "needs_background": "light"
     },
     "output_type": "display_data"
    }
   ],
   "source": [
    "#Using SVC method of svm class to use Kernel SVM Algorithm\n",
    "from sklearn.svm import SVC\n",
    "smote_svc2 = SVC(kernel = 'rbf', random_state = 0).fit(X_train, Y_train)\n",
    "smote_pred = smote_svc2.predict(X_test)\n",
    "print('Accuracy ',accuracy_score(Y_test, smote_pred))\n",
    "print('F1 Score ',f1_score(Y_test, smote_pred))\n",
    "print('Confusion Matrix\\n',pd.DataFrame(confusion_matrix(Y_test, smote_pred)))\n",
    "\n",
    "precision, recall, thresholds = precision_recall_curve(Y_test, smote_pred)\n",
    "print('AUC PR',auc(recall, precision))\n",
    "\n",
    "plt.plot(recall, precision)\n",
    "plt.show()"
   ]
  },
  {
   "cell_type": "code",
   "execution_count": 44,
   "metadata": {},
   "outputs": [
    {
     "name": "stdout",
     "output_type": "stream",
     "text": [
      "Accuracy  0.7663374606918238\n",
      "F1 Score  0.04460070316423908\n",
      "Confusion Matrix\n",
      "        0     1\n",
      "0  30971  9388\n",
      "1    123   222\n",
      "AUC PR 0.33480050671587736\n"
     ]
    }
   ],
   "source": [
    "#Using GaussianNB method of naïve_bayes class to use Naïve Bayes Algorithm\n",
    "from sklearn.naive_bayes import GaussianNB\n",
    "smote_ga = GaussianNB().fit(X_train, Y_train)\n",
    "smote_pred = smote_ga.predict(X_test)\n",
    "print('Accuracy ',accuracy_score(Y_test, smote_pred))\n",
    "print('F1 Score ',f1_score(Y_test, smote_pred))\n",
    "print('Confusion Matrix\\n',pd.DataFrame(confusion_matrix(Y_test, smote_pred)))\n",
    "\n",
    "precision, recall, thresholds = precision_recall_curve(Y_test, smote_pred)\n",
    "print('AUC PR',auc(recall, precision))"
   ]
  },
  {
   "cell_type": "code",
   "execution_count": 45,
   "metadata": {},
   "outputs": [
    {
     "name": "stdout",
     "output_type": "stream",
     "text": [
      "Accuracy  0.9556063286163522\n",
      "F1 Score  0.06614987080103359\n",
      "Confusion Matrix\n",
      "        0     1\n",
      "0  38833  1526\n",
      "1    281    64\n",
      "AUC PR 0.11633115856576429\n"
     ]
    }
   ],
   "source": [
    "#Using DecisionTreeClassifier of tree class to use Decision Tree Algorithm\n",
    "from sklearn.tree import DecisionTreeClassifier\n",
    "smote_dt = DecisionTreeClassifier(criterion = 'entropy', random_state = 0).fit(X_train, Y_train)\n",
    "smote_pred = smote_dt.predict(X_test)\n",
    "print('Accuracy ',accuracy_score(Y_test, smote_pred))\n",
    "print('F1 Score ',f1_score(Y_test, smote_pred))\n",
    "print('Confusion Matrix\\n',pd.DataFrame(confusion_matrix(Y_test, smote_pred)))\n",
    "\n",
    "precision, recall, thresholds = precision_recall_curve(Y_test, smote_pred)\n",
    "print('AUC PR',auc(recall, precision))"
   ]
  },
  {
   "cell_type": "code",
   "execution_count": 46,
   "metadata": {},
   "outputs": [
    {
     "name": "stdout",
     "output_type": "stream",
     "text": [
      "Accuracy  0.9814268867924528\n",
      "F1 Score  0.11058823529411765\n",
      "Confusion Matrix\n",
      "        0    1\n",
      "0  39901  458\n",
      "1    298   47\n",
      "AUC PR 0.11831116939370312\n"
     ]
    }
   ],
   "source": [
    "from sklearn.ensemble import RandomForestClassifier\n",
    "smote_rf = RandomForestClassifier(n_estimators = 10, criterion = 'entropy', random_state = 0).fit(X_train, Y_train)\n",
    "smote_pred = smote_rf.predict(X_test)\n",
    "print('Accuracy ',accuracy_score(Y_test, smote_pred))\n",
    "print('F1 Score ',f1_score(Y_test, smote_pred))\n",
    "print('Confusion Matrix\\n',pd.DataFrame(confusion_matrix(Y_test, smote_pred)))\n",
    "\n",
    "precision, recall, thresholds = precision_recall_curve(Y_test, smote_pred)\n",
    "print('AUC PR',auc(recall, precision))"
   ]
  },
  {
   "cell_type": "code",
   "execution_count": 48,
   "metadata": {},
   "outputs": [
    {
     "name": "stdout",
     "output_type": "stream",
     "text": [
      "Accuracy  0.7727004716981132\n",
      "F1 Score  0.04775627830382873\n",
      "Confusion Matrix\n",
      "        0     1\n",
      "0  31220  9139\n",
      "1    113   232\n",
      "AUC PR 0.3499985689022047\n"
     ]
    }
   ],
   "source": [
    "from sklearn.ensemble import AdaBoostClassifier\n",
    "smote_ab = AdaBoostClassifier().fit(X_train, Y_train)\n",
    "smote_pred = smote_ab.predict(X_test)\n",
    "print('Accuracy ',accuracy_score(Y_test, smote_pred))\n",
    "print('F1 Score ',f1_score(Y_test, smote_pred))\n",
    "print('Confusion Matrix\\n',pd.DataFrame(confusion_matrix(Y_test, smote_pred)))\n",
    "\n",
    "precision, recall, thresholds = precision_recall_curve(Y_test, smote_pred)\n",
    "print('AUC PR',auc(recall, precision))"
   ]
  },
  {
   "cell_type": "code",
   "execution_count": 84,
   "metadata": {},
   "outputs": [
    {
     "name": "stderr",
     "output_type": "stream",
     "text": [
      "D:\\anac\\lib\\site-packages\\xgboost\\sklearn.py:1146: UserWarning: The use of label encoder in XGBClassifier is deprecated and will be removed in a future release. To remove this warning, do the following: 1) Pass option use_label_encoder=False when constructing XGBClassifier object; and 2) Encode your labels (y) as integers starting with 0, i.e. 0, 1, 2, ..., [num_class - 1].\n",
      "  warnings.warn(label_encoder_deprecation_msg, UserWarning)\n"
     ]
    },
    {
     "name": "stdout",
     "output_type": "stream",
     "text": [
      "[16:15:42] WARNING: C:/Users/Administrator/workspace/xgboost-win64_release_1.4.0/src/learner.cc:1095: Starting in XGBoost 1.3.0, the default evaluation metric used with the objective 'binary:logistic' was changed from 'error' to 'logloss'. Explicitly set eval_metric if you'd like to restore the old behavior.\n",
      "Accuracy  0.9555326257861635\n",
      "F1 Score  0.1021825396825397\n",
      "Confusion Matrix\n",
      "        0     1\n",
      "0  38791  1568\n",
      "1    242   103\n",
      "AUC PR 0.18306791147876067\n"
     ]
    }
   ],
   "source": [
    "from xgboost import XGBClassifier\n",
    "smote_xgbc = XGBClassifier(\n",
    "    learning_rate =0.1, n_estimators=1000,\n",
    "    max_depth=5, min_child_weight=1, gamma=0,subsample=0.8,colsample_bytree=0.8,\n",
    "    objective= 'binary:logistic', nthread=4,scale_pos_weight=1,seed=27).fit(X_train, Y_train)\n",
    "smote_pred = smote_xgbc.predict(X_test)\n",
    "print('Accuracy ',accuracy_score(Y_test, smote_pred))\n",
    "print('F1 Score ',f1_score(Y_test, smote_pred))\n",
    "print('Confusion Matrix\\n',pd.DataFrame(confusion_matrix(Y_test, smote_pred)))\n",
    "\n",
    "precision, recall, thresholds = precision_recall_curve(Y_test, smote_pred)\n",
    "print('AUC PR',auc(recall, precision))"
   ]
  },
  {
   "cell_type": "code",
   "execution_count": 64,
   "metadata": {},
   "outputs": [
    {
     "name": "stdout",
     "output_type": "stream",
     "text": [
      "(69778, 45)\n"
     ]
    },
    {
     "name": "stderr",
     "output_type": "stream",
     "text": [
      "D:\\anac\\lib\\site-packages\\ipykernel_launcher.py:6: SettingWithCopyWarning: \n",
      "A value is trying to be set on a copy of a slice from a DataFrame.\n",
      "Try using .loc[row_indexer,col_indexer] = value instead\n",
      "\n",
      "See the caveats in the documentation: http://pandas.pydata.org/pandas-docs/stable/user_guide/indexing.html#returning-a-view-versus-a-copy\n",
      "  \n"
     ]
    },
    {
     "data": {
      "text/html": [
       "<div>\n",
       "<style scoped>\n",
       "    .dataframe tbody tr th:only-of-type {\n",
       "        vertical-align: middle;\n",
       "    }\n",
       "\n",
       "    .dataframe tbody tr th {\n",
       "        vertical-align: top;\n",
       "    }\n",
       "\n",
       "    .dataframe thead th {\n",
       "        text-align: right;\n",
       "    }\n",
       "</style>\n",
       "<table border=\"1\" class=\"dataframe\">\n",
       "  <thead>\n",
       "    <tr style=\"text-align: right;\">\n",
       "      <th>Predicted FK_FLAG</th>\n",
       "      <th>0</th>\n",
       "      <th>1</th>\n",
       "    </tr>\n",
       "    <tr>\n",
       "      <th>Expr1</th>\n",
       "      <th></th>\n",
       "      <th></th>\n",
       "    </tr>\n",
       "  </thead>\n",
       "  <tbody>\n",
       "    <tr>\n",
       "      <td>0</td>\n",
       "      <td>68446</td>\n",
       "      <td>705</td>\n",
       "    </tr>\n",
       "    <tr>\n",
       "      <td>1</td>\n",
       "      <td>546</td>\n",
       "      <td>81</td>\n",
       "    </tr>\n",
       "  </tbody>\n",
       "</table>\n",
       "</div>"
      ],
      "text/plain": [
       "Predicted FK_FLAG      0    1\n",
       "Expr1                        \n",
       "0                  68446  705\n",
       "1                    546   81"
      ]
     },
     "execution_count": 64,
     "metadata": {},
     "output_type": "execute_result"
    }
   ],
   "source": [
    "d3_X = d3.drop(columns=['Expr1','c_institution_id','Predicted FK_FLAG'])\n",
    "d3_Y = d3['Expr1']\n",
    "print(d3_X.shape)\n",
    "X_T_pred = smote_rf.predict(d3_X)\n",
    "#X_T_pred = [ 1 if y>=0.5 else 0 for y in X_T_pred ]\n",
    "d3['Predicted FK_FLAG'] = X_T_pred\n",
    "pd.crosstab(d3['Expr1'],d3['Predicted FK_FLAG'])"
   ]
  },
  {
   "cell_type": "code",
   "execution_count": 66,
   "metadata": {},
   "outputs": [],
   "source": [
    "######## ARTIFICIAL NEURAL NETWORK #######"
   ]
  },
  {
   "cell_type": "code",
   "execution_count": 67,
   "metadata": {},
   "outputs": [],
   "source": [
    "from keras.models import Sequential\n",
    "from keras.layers import Dense, Dropout\n",
    "from keras.wrappers.scikit_learn import KerasClassifier\n",
    "from sklearn.model_selection import GridSearchCV\n",
    "import keras_metrics"
   ]
  },
  {
   "cell_type": "code",
   "execution_count": 68,
   "metadata": {},
   "outputs": [
    {
     "data": {
      "text/plain": [
       "(162813, 47)"
      ]
     },
     "execution_count": 68,
     "metadata": {},
     "output_type": "execute_result"
    }
   ],
   "source": [
    "x_pca_df.shape"
   ]
  },
  {
   "cell_type": "code",
   "execution_count": 69,
   "metadata": {},
   "outputs": [
    {
     "name": "stderr",
     "output_type": "stream",
     "text": [
      "D:\\anac\\lib\\site-packages\\sklearn\\utils\\deprecation.py:87: FutureWarning: Function safe_indexing is deprecated; safe_indexing is deprecated in version 0.22 and will be removed in version 0.24.\n",
      "  warnings.warn(msg, category=FutureWarning)\n"
     ]
    }
   ],
   "source": [
    "X = x_pca_df.drop(columns=['Expr1','c_institution_id'])\n",
    "Y = x_pca_df['Expr1'].astype('int')\n",
    "# Splitting the dataset into the Training set and Test set\n",
    "X_train, X_test, Y_train, Y_test = train_test_split(X, Y, test_size = 0.25, random_state = 0)\n",
    "sm = SMOTE(random_state=27, ratio=1.0)\n",
    "X_train, Y_train = sm.fit_sample(X_train, Y_train)"
   ]
  },
  {
   "cell_type": "code",
   "execution_count": 71,
   "metadata": {},
   "outputs": [
    {
     "data": {
      "text/plain": [
       "(242206, 45)"
      ]
     },
     "execution_count": 71,
     "metadata": {},
     "output_type": "execute_result"
    }
   ],
   "source": [
    "X_train.shape"
   ]
  },
  {
   "cell_type": "code",
   "execution_count": 72,
   "metadata": {},
   "outputs": [],
   "source": [
    "classifier = Sequential() # Initialising the ANN\n",
    "\n",
    "classifier.add(Dense(units = 256, kernel_initializer = 'uniform', activation = 'relu', input_dim = 45))\n",
    "classifier.add(Dense(units = 64, kernel_initializer = 'uniform', activation = 'relu'))\n",
    "classifier.add(Dense(units = 32, kernel_initializer = 'uniform', activation = 'relu'))\n",
    "classifier.add(Dense(units = 16, kernel_initializer = 'uniform', activation = 'relu'))\n",
    "classifier.add(Dense(units = 8, kernel_initializer = 'uniform', activation = 'relu'))\n",
    "classifier.add(Dense(units = 4, kernel_initializer = 'uniform', activation = 'relu'))\n",
    "classifier.add(Dense(units = 1, kernel_initializer = 'uniform', activation = 'sigmoid'))"
   ]
  },
  {
   "cell_type": "code",
   "execution_count": 73,
   "metadata": {},
   "outputs": [],
   "source": [
    "classifier.compile(optimizer = 'adam', loss = 'binary_crossentropy', metrics = [keras_metrics.precision()])"
   ]
  },
  {
   "cell_type": "code",
   "execution_count": 74,
   "metadata": {
    "scrolled": true
   },
   "outputs": [
    {
     "name": "stdout",
     "output_type": "stream",
     "text": [
      "Epoch 1/10\n",
      "WARNING:tensorflow:`add_update` `inputs` kwarg has been deprecated. You no longer need to pass a value to `inputs` as it is being automatically inferred.\n",
      "WARNING:tensorflow:`add_update` `inputs` kwarg has been deprecated. You no longer need to pass a value to `inputs` as it is being automatically inferred.\n",
      "WARNING:tensorflow:`add_update` `inputs` kwarg has been deprecated. You no longer need to pass a value to `inputs` as it is being automatically inferred.\n",
      "WARNING:tensorflow:`add_update` `inputs` kwarg has been deprecated. You no longer need to pass a value to `inputs` as it is being automatically inferred.\n"
     ]
    },
    {
     "name": "stderr",
     "output_type": "stream",
     "text": [
      "D:\\anac\\lib\\site-packages\\tensorflow\\python\\keras\\engine\\base_layer.py:1402: UserWarning: `layer.updates` will be removed in a future version. This property should not be used in TensorFlow 2.0, as `updates` are applied automatically.\n",
      "  warnings.warn('`layer.updates` will be removed in a future version. '\n"
     ]
    },
    {
     "name": "stdout",
     "output_type": "stream",
     "text": [
      "48442/48442 [==============================] - 59s 1ms/step - loss: 0.6932 - precision: 0.4924\n",
      "Epoch 2/10\n",
      "48442/48442 [==============================] - 57s 1ms/step - loss: 0.6932 - precision: 0.4081\n",
      "Epoch 3/10\n",
      "48442/48442 [==============================] - 57s 1ms/step - loss: 0.6932 - precision: 0.4940\n",
      "Epoch 4/10\n",
      "48442/48442 [==============================] - 56s 1ms/step - loss: 0.6932 - precision: 0.5023\n",
      "Epoch 5/10\n",
      "48442/48442 [==============================] - 56s 1ms/step - loss: 0.6932 - precision: 0.3969\n",
      "Epoch 6/10\n",
      "48442/48442 [==============================] - 57s 1ms/step - loss: 0.6932 - precision: 0.4455\n",
      "Epoch 7/10\n",
      "48442/48442 [==============================] - 56s 1ms/step - loss: 0.6932 - precision: 0.4942\n",
      "Epoch 8/10\n",
      "48442/48442 [==============================] - 57s 1ms/step - loss: 0.6932 - precision: 0.4659\n",
      "Epoch 9/10\n",
      "48442/48442 [==============================] - 56s 1ms/step - loss: 0.6932 - precision: 0.4554\n",
      "Epoch 10/10\n",
      "48442/48442 [==============================] - 61s 1ms/step - loss: 0.6932 - precision: 0.4946\n"
     ]
    },
    {
     "data": {
      "text/plain": [
       "<tensorflow.python.keras.callbacks.History at 0x23755057148>"
      ]
     },
     "execution_count": 74,
     "metadata": {},
     "output_type": "execute_result"
    }
   ],
   "source": [
    "classifier.fit(X_train, Y_train, batch_size = 5, epochs = 10)"
   ]
  },
  {
   "cell_type": "code",
   "execution_count": 75,
   "metadata": {},
   "outputs": [
    {
     "name": "stdout",
     "output_type": "stream",
     "text": [
      "Accuracy  0.9915241745283019\n",
      "F1 Score  0.0\n",
      "Confusion Matrix\n",
      "        0  1\n",
      "0  40359  0\n",
      "1    345  0\n",
      "AUC PR 0.5042379127358491\n"
     ]
    }
   ],
   "source": [
    "y_pred = classifier.predict(X_test)\n",
    "y_pred = [ 1 if y>=0.5 else 0 for y in y_pred ]\n",
    "\n",
    "print('Accuracy ',accuracy_score(Y_test, y_pred))\n",
    "print('F1 Score ',f1_score(Y_test, y_pred))\n",
    "print('Confusion Matrix\\n',pd.DataFrame(confusion_matrix(Y_test, y_pred)))\n",
    "\n",
    "precision, recall, thresholds = precision_recall_curve(Y_test, y_pred)\n",
    "print('AUC PR',auc(recall, precision))"
   ]
  },
  {
   "cell_type": "code",
   "execution_count": 79,
   "metadata": {
    "scrolled": true
   },
   "outputs": [
    {
     "name": "stdout",
     "output_type": "stream",
     "text": [
      "(69778, 45)\n"
     ]
    },
    {
     "name": "stderr",
     "output_type": "stream",
     "text": [
      "D:\\anac\\lib\\site-packages\\ipykernel_launcher.py:6: SettingWithCopyWarning: \n",
      "A value is trying to be set on a copy of a slice from a DataFrame.\n",
      "Try using .loc[row_indexer,col_indexer] = value instead\n",
      "\n",
      "See the caveats in the documentation: http://pandas.pydata.org/pandas-docs/stable/user_guide/indexing.html#returning-a-view-versus-a-copy\n",
      "  \n"
     ]
    },
    {
     "data": {
      "text/html": [
       "<div>\n",
       "<style scoped>\n",
       "    .dataframe tbody tr th:only-of-type {\n",
       "        vertical-align: middle;\n",
       "    }\n",
       "\n",
       "    .dataframe tbody tr th {\n",
       "        vertical-align: top;\n",
       "    }\n",
       "\n",
       "    .dataframe thead th {\n",
       "        text-align: right;\n",
       "    }\n",
       "</style>\n",
       "<table border=\"1\" class=\"dataframe\">\n",
       "  <thead>\n",
       "    <tr style=\"text-align: right;\">\n",
       "      <th>Predicted FK_FLAG</th>\n",
       "      <th>0</th>\n",
       "    </tr>\n",
       "    <tr>\n",
       "      <th>Expr1</th>\n",
       "      <th></th>\n",
       "    </tr>\n",
       "  </thead>\n",
       "  <tbody>\n",
       "    <tr>\n",
       "      <td>0</td>\n",
       "      <td>69151</td>\n",
       "    </tr>\n",
       "    <tr>\n",
       "      <td>1</td>\n",
       "      <td>627</td>\n",
       "    </tr>\n",
       "  </tbody>\n",
       "</table>\n",
       "</div>"
      ],
      "text/plain": [
       "Predicted FK_FLAG      0\n",
       "Expr1                   \n",
       "0                  69151\n",
       "1                    627"
      ]
     },
     "execution_count": 79,
     "metadata": {},
     "output_type": "execute_result"
    }
   ],
   "source": [
    "d3_X = d3.drop(columns=['Expr1','c_institution_id','Predicted FK_FLAG'])\n",
    "d3_Y = d3['Expr1']\n",
    "print(d3_X.shape)\n",
    "X_T_pred = classifier.predict(d3_X)\n",
    "X_T_pred = [ 1 if y>=0.5 else 0 for y in X_T_pred ]\n",
    "d3['Predicted FK_FLAG'] = X_T_pred\n",
    "pd.crosstab(d3['Expr1'],d3['Predicted FK_FLAG'])"
   ]
  },
  {
   "cell_type": "code",
   "execution_count": 93,
   "metadata": {},
   "outputs": [
    {
     "name": "stdout",
     "output_type": "stream",
     "text": [
      "Performance on the train :  0.954696291504419\n",
      "Performance on the test :  0.7732982352947514\n"
     ]
    }
   ],
   "source": [
    "from xgboost import XGBRegressor\n",
    "my_model = XGBRegressor()\n",
    "# Add silent=True to avoid printing out updates with each cycle\n",
    "my_model.fit(train_X, train_y, verbose=False)\n",
    "\n",
    "\"\"\"\n",
    "XGBRegressor(base_score=0.5, booster='gbtree', colsample_bylevel=1,\n",
    "       colsample_bytree=1, gamma=0, learning_rate=0.1, max_delta_step=0,\n",
    "       max_depth=3, min_child_weight=1, missing=None, n_estimators=100,\n",
    "       n_jobs=1, nthread=None, objective='reg:linear', random_state=0,\n",
    "       reg_alpha=0, reg_lambda=1, scale_pos_weight=1, seed=None,\n",
    "       silent=True, subsample=1)\n",
    "\"\"\"\n",
    "\n",
    "# Performance sur le train\n",
    "train_y_pred = my_model.predict(train_X)\n",
    "auc = roc_auc_score(train_y, train_y_pred)\n",
    "print(\"Performance on the train : \", auc)\n",
    "\n",
    "# Performance sur le test\n",
    "test_y_pred = my_model.predict(test_X)\n",
    "auc = roc_auc_score(test_y, test_y_pred)\n",
    "print(\"Performance on the test : \", auc)"
   ]
  },
  {
   "cell_type": "code",
   "execution_count": 71,
   "metadata": {},
   "outputs": [
    {
     "name": "stdout",
     "output_type": "stream",
     "text": [
      "Performance sur le train :  0.848904557839129\n",
      "Performance sur le test :  0.8059503995122042\n"
     ]
    }
   ],
   "source": [
    "\"\"\" Tuning XGBoost \"\"\"\n",
    "my_model = XGBRegressor(n_estimators=1000)\n",
    "my_model.fit(train_X, train_y, early_stopping_rounds=2, \n",
    "             eval_set=[(test_X, test_y)], verbose=False)\n",
    "\"\"\"\n",
    "XGBRegressor(base_score=0.5, booster='gbtree', colsample_bylevel=1,\n",
    "       colsample_bytree=1, gamma=0, learning_rate=0.1, max_delta_step=0,\n",
    "       max_depth=3, min_child_weight=1, missing=None, n_estimators=1000,\n",
    "       n_jobs=1, nthread=None, objective='reg:linear', random_state=0,\n",
    "       reg_alpha=0, reg_lambda=1, scale_pos_weight=1, seed=None,\n",
    "       silent=True, subsample=1)\n",
    "\"\"\"\n",
    "\n",
    "# Performance sur le train\n",
    "train_y_pred = my_model.predict(train_X)\n",
    "auc = roc_auc_score(train_y, train_y_pred)\n",
    "print(\"Performance sur le train : \", auc)\n",
    "\n",
    "# Performance sur le test\n",
    "test_y_pred = my_model.predict(test_X)\n",
    "auc = roc_auc_score(test_y, test_y_pred)\n",
    "print(\"Performance sur le test : \", auc)"
   ]
  },
  {
   "cell_type": "code",
   "execution_count": 75,
   "metadata": {},
   "outputs": [
    {
     "name": "stderr",
     "output_type": "stream",
     "text": [
      "D:\\anac\\lib\\site-packages\\xgboost\\sklearn.py:1146: UserWarning: The use of label encoder in XGBClassifier is deprecated and will be removed in a future release. To remove this warning, do the following: 1) Pass option use_label_encoder=False when constructing XGBClassifier object; and 2) Encode your labels (y) as integers starting with 0, i.e. 0, 1, 2, ..., [num_class - 1].\n",
      "  warnings.warn(label_encoder_deprecation_msg, UserWarning)\n"
     ]
    },
    {
     "name": "stdout",
     "output_type": "stream",
     "text": [
      "[14:40:34] WARNING: C:/Users/Administrator/workspace/xgboost-win64_release_1.4.0/src/learner.cc:1095: Starting in XGBoost 1.3.0, the default evaluation metric used with the objective 'binary:logistic' was changed from 'error' to 'logloss'. Explicitly set eval_metric if you'd like to restore the old behavior.\n",
      "Performance sur le train :  0.976631901611971\n",
      "Performance sur le test :  0.5127461468106355\n"
     ]
    }
   ],
   "source": [
    "xgb1 = XGBClassifier(\n",
    "    learning_rate =0.1, n_estimators=1000,\n",
    "    max_depth=5, min_child_weight=1, gamma=0,subsample=0.8,colsample_bytree=0.8,\n",
    "    objective= 'binary:logistic', nthread=4,scale_pos_weight=1,seed=27)\n",
    "# modelfit(xgb1, train, train_X)\n",
    "xgb1.fit(train_X, train_y)\n",
    "\n",
    "# Performance sur le train\n",
    "auc = roc_auc_score(train_y, xgb1.predict(train_X))\n",
    "print(\"Performance sur le train : \", auc)\n",
    "\n",
    "# Performance sur le test\n",
    "auc = roc_auc_score(test_y, xgb1.predict(test_X))\n",
    "print(\"Performance sur le test : \", auc)"
   ]
  },
  {
   "cell_type": "code",
   "execution_count": null,
   "metadata": {},
   "outputs": [],
   "source": [
    "from sklearn.model_selection import GridSearchCV\n",
    "param_test1 = {\n",
    "    'max_depth':range(3,10,2),\n",
    "    'min_child_weight':range(1,6,2)\n",
    "}\n",
    "gsearch1 = GridSearchCV(estimator = XGBClassifier( learning_rate =0.1, \n",
    "                                                  n_estimators=1000, \n",
    "                                                  max_depth=5,\n",
    "                                                  min_child_weight=1,\n",
    "                                                  gamma=0, \n",
    "                                                  subsample=0.8, \n",
    "                                                  colsample_bytree=0.8,\n",
    "                                                  objective= 'binary:logistic', nthread=4, scale_pos_weight=1, seed=27), \n",
    "                        param_grid = param_test1, \n",
    "                        scoring='roc_auc',\n",
    "                        n_jobs=4,\n",
    "                        iid=False, \n",
    "                        cv=5)\n",
    "\n",
    "gsearch1.fit(train_X,train_y)\n",
    "gsearch1.grid_scores_, gsearch1.best_params_, gsearch1.best_score_"
   ]
  },
  {
   "cell_type": "code",
   "execution_count": 79,
   "metadata": {},
   "outputs": [
    {
     "name": "stderr",
     "output_type": "stream",
     "text": [
      "D:\\anac\\lib\\site-packages\\xgboost\\sklearn.py:1146: UserWarning: The use of label encoder in XGBClassifier is deprecated and will be removed in a future release. To remove this warning, do the following: 1) Pass option use_label_encoder=False when constructing XGBClassifier object; and 2) Encode your labels (y) as integers starting with 0, i.e. 0, 1, 2, ..., [num_class - 1].\n",
      "  warnings.warn(label_encoder_deprecation_msg, UserWarning)\n"
     ]
    },
    {
     "name": "stdout",
     "output_type": "stream",
     "text": [
      "[14:49:25] WARNING: C:/Users/Administrator/workspace/xgboost-win64_release_1.4.0/src/learner.cc:1095: Starting in XGBoost 1.3.0, the default evaluation metric used with the objective 'binary:logistic' was changed from 'error' to 'logloss'. Explicitly set eval_metric if you'd like to restore the old behavior.\n",
      "Performance sur le train :  0.5964214711729622\n",
      "Performance sur le test :  0.5085469864487959\n"
     ]
    }
   ],
   "source": [
    "# Fix new param with optimal parameter\n",
    "xgb2 = XGBClassifier(\n",
    "    learning_rate =0.1, n_estimators=1000,\n",
    "    gamma=0,subsample=0.8,colsample_bytree=0.8,\n",
    "    objective= 'binary:logistic', nthread=4,scale_pos_weight=1,seed=27,\n",
    "    max_depth = 3,\n",
    "    min_child_weight = 5\n",
    ")\n",
    "# modelfit(xgb1, train, train_X)\n",
    "xgb2.fit(train_X, train_y)\n",
    "\n",
    "# Performance sur le train\n",
    "auc = roc_auc_score(train_y, xgb2.predict(train_X))\n",
    "print(\"Performance sur le train : \", auc)\n",
    "\n",
    "# Performance sur le test\n",
    "auc = roc_auc_score(test_y, xgb2.predict(test_X))\n",
    "print(\"Performance sur le test : \", auc)"
   ]
  },
  {
   "cell_type": "code",
   "execution_count": null,
   "metadata": {},
   "outputs": [],
   "source": [
    "param_test3 = { \n",
    "    'gamma':[i/10.0 for i in range(0,5)] \n",
    "}\n",
    "gsearch3 = GridSearchCV(estimator = XGBClassifier( learning_rate =0.1, \n",
    "                                                  n_estimators=1000, \n",
    "                                                  max_depth = 3,\n",
    "                                                  min_child_weight = 5,\n",
    "                                                  gamma=0, subsample=0.8, colsample_bytree=0.8,\n",
    "                                                  objective= 'binary:logistic', nthread=4, scale_pos_weight=1,seed=27), \n",
    "                        param_grid = param_test3, \n",
    "                        scoring='roc_auc',\n",
    "                        n_jobs=4,\n",
    "                        iid=False, \n",
    "                        cv=5)\n",
    "\n",
    "gsearch3.fit(train_X,train_y)\n",
    "gsearch3.grid_scores_, gsearch3.best_params_, gsearch3.best_score_"
   ]
  },
  {
   "cell_type": "code",
   "execution_count": 92,
   "metadata": {},
   "outputs": [
    {
     "name": "stderr",
     "output_type": "stream",
     "text": [
      "D:\\anac\\lib\\site-packages\\xgboost\\sklearn.py:1146: UserWarning: The use of label encoder in XGBClassifier is deprecated and will be removed in a future release. To remove this warning, do the following: 1) Pass option use_label_encoder=False when constructing XGBClassifier object; and 2) Encode your labels (y) as integers starting with 0, i.e. 0, 1, 2, ..., [num_class - 1].\n",
      "  warnings.warn(label_encoder_deprecation_msg, UserWarning)\n"
     ]
    },
    {
     "name": "stdout",
     "output_type": "stream",
     "text": [
      "[15:02:50] WARNING: C:/Users/Administrator/workspace/xgboost-win64_release_1.4.0/src/learner.cc:1095: Starting in XGBoost 1.3.0, the default evaluation metric used with the objective 'binary:logistic' was changed from 'error' to 'logloss'. Explicitly set eval_metric if you'd like to restore the old behavior.\n",
      "Performance sur le train :  0.5004970178926441\n",
      "Performance sur le test :  0.5\n"
     ]
    }
   ],
   "source": [
    "xgb6 = XGBClassifier(\n",
    "    learning_rate =0.007,\n",
    "    n_estimators=1000,\n",
    "    max_depth = 3,\n",
    "    min_child_weight = 5,\n",
    "    gamma=0.4,\n",
    "    subsample=0.55,\n",
    "    colsample_bytree=0.85,\n",
    "    reg_alpha=0.005,\n",
    "    objective= 'binary:logistic',\n",
    "    nthread=4,\n",
    "    scale_pos_weight=1,\n",
    "    seed=27\n",
    ")\n",
    "# modelfit(xgb1, train, train_X)\n",
    "xgb6.fit(train_X, train_y)\n",
    "\n",
    "# Performance sur le train\n",
    "auc = roc_auc_score(train_y, xgb6.predict(train_X))\n",
    "print(\"Performance sur le train : \", auc)\n",
    "\n",
    "# Performance sur le test\n",
    "auc = roc_auc_score(test_y, xgb6.predict(test_X))\n",
    "print(\"Performance sur le test : \", auc)\n"
   ]
  },
  {
   "cell_type": "code",
   "execution_count": 109,
   "metadata": {},
   "outputs": [],
   "source": [
    "X = x_pca_df.drop(columns=['Expr1','c_institution_id'])\n",
    "Y = x_pca_df['Expr1']\n",
    "# Splitting the dataset into the Training set and Test set\n",
    "X_train, X_test, Y_train, Y_test = train_test_split(X, Y, test_size = 0.25, random_state = 0)"
   ]
  },
  {
   "cell_type": "code",
   "execution_count": 112,
   "metadata": {},
   "outputs": [
    {
     "name": "stdout",
     "output_type": "stream",
     "text": [
      "Unique predicted labels:  [0]\n",
      "Test score:  0.9915241745283019\n"
     ]
    }
   ],
   "source": [
    "from sklearn.dummy import DummyClassifier\n",
    "dummy = DummyClassifier(strategy='most_frequent').fit(X_train, Y_train)\n",
    "dummy_pred = dummy.predict(X_test)\n",
    "\n",
    "# checking unique labels\n",
    "print('Unique predicted labels: ', (np.unique(dummy_pred)))\n",
    "\n",
    "# checking accuracy\n",
    "print('Test score: ', accuracy_score(Y_test, dummy_pred))"
   ]
  },
  {
   "cell_type": "code",
   "execution_count": 115,
   "metadata": {},
   "outputs": [],
   "source": [
    "from sklearn.linear_model import LogisticRegression\n",
    "lr = LogisticRegression(solver='liblinear').fit(X_train, Y_train)\n",
    " \n",
    "# Predict on training set\n",
    "lr_pred = lr.predict(X_test)"
   ]
  },
  {
   "cell_type": "code",
   "execution_count": 117,
   "metadata": {},
   "outputs": [
    {
     "data": {
      "text/plain": [
       "0.9914504716981132"
      ]
     },
     "execution_count": 117,
     "metadata": {},
     "output_type": "execute_result"
    }
   ],
   "source": [
    "accuracy_score(Y_test, lr_pred)"
   ]
  },
  {
   "cell_type": "code",
   "execution_count": 119,
   "metadata": {},
   "outputs": [],
   "source": [
    "from sklearn.metrics import accuracy_score, f1_score, confusion_matrix, recall_score"
   ]
  },
  {
   "cell_type": "code",
   "execution_count": 121,
   "metadata": {},
   "outputs": [
    {
     "data": {
      "text/plain": [
       "0.0"
      ]
     },
     "execution_count": 121,
     "metadata": {},
     "output_type": "execute_result"
    }
   ],
   "source": [
    "f1_score(Y_test, lr_pred)"
   ]
  },
  {
   "cell_type": "code",
   "execution_count": 122,
   "metadata": {},
   "outputs": [
    {
     "data": {
      "text/html": [
       "<div>\n",
       "<style scoped>\n",
       "    .dataframe tbody tr th:only-of-type {\n",
       "        vertical-align: middle;\n",
       "    }\n",
       "\n",
       "    .dataframe tbody tr th {\n",
       "        vertical-align: top;\n",
       "    }\n",
       "\n",
       "    .dataframe thead th {\n",
       "        text-align: right;\n",
       "    }\n",
       "</style>\n",
       "<table border=\"1\" class=\"dataframe\">\n",
       "  <thead>\n",
       "    <tr style=\"text-align: right;\">\n",
       "      <th></th>\n",
       "      <th>0</th>\n",
       "      <th>1</th>\n",
       "    </tr>\n",
       "  </thead>\n",
       "  <tbody>\n",
       "    <tr>\n",
       "      <td>0</td>\n",
       "      <td>40356</td>\n",
       "      <td>3</td>\n",
       "    </tr>\n",
       "    <tr>\n",
       "      <td>1</td>\n",
       "      <td>345</td>\n",
       "      <td>0</td>\n",
       "    </tr>\n",
       "  </tbody>\n",
       "</table>\n",
       "</div>"
      ],
      "text/plain": [
       "       0  1\n",
       "0  40356  3\n",
       "1    345  0"
      ]
     },
     "execution_count": 122,
     "metadata": {},
     "output_type": "execute_result"
    }
   ],
   "source": [
    "pd.DataFrame(confusion_matrix(Y_test, lr_pred))"
   ]
  },
  {
   "cell_type": "code",
   "execution_count": 124,
   "metadata": {},
   "outputs": [
    {
     "data": {
      "text/plain": [
       "0.9912784984276729"
      ]
     },
     "execution_count": 124,
     "metadata": {},
     "output_type": "execute_result"
    }
   ],
   "source": [
    "rfc = RandomForestClassifier(n_estimators=10).fit(X_train, Y_train)\n",
    "\n",
    "# predict on test set\n",
    "rfc_pred = rfc.predict(X_test)\n",
    "\n",
    "accuracy_score(Y_test, rfc_pred)"
   ]
  },
  {
   "cell_type": "code",
   "execution_count": 126,
   "metadata": {},
   "outputs": [
    {
     "data": {
      "text/plain": [
       "0.043126684636118594"
      ]
     },
     "execution_count": 126,
     "metadata": {},
     "output_type": "execute_result"
    }
   ],
   "source": [
    "f1_score(Y_test, rfc_pred)"
   ]
  },
  {
   "cell_type": "code",
   "execution_count": 134,
   "metadata": {},
   "outputs": [
    {
     "data": {
      "text/plain": [
       "1    161462\n",
       "0    161462\n",
       "Name: Expr1, dtype: int64"
      ]
     },
     "execution_count": 134,
     "metadata": {},
     "output_type": "execute_result"
    }
   ],
   "source": [
    "from sklearn.utils import resample\n",
    "not_fraud =x_pca_df[x_pca_df.Expr1==0]\n",
    "fraud = x_pca_df[x_pca_df.Expr1==1]\n",
    "\n",
    "# upsample minority\n",
    "fraud_upsampled = resample(fraud,\n",
    "                          replace=True, # sample with replacement\n",
    "                          n_samples=len(not_fraud), # match number in majority class\n",
    "                          random_state=27) # reproducible results\n",
    "\n",
    "# combine majority and upsampled minority\n",
    "upsampled = pd.concat([not_fraud, fraud_upsampled])\n",
    "\n",
    "# check new class counts\n",
    "upsampled.Expr1.value_counts()"
   ]
  },
  {
   "cell_type": "code",
   "execution_count": null,
   "metadata": {},
   "outputs": [],
   "source": []
  },
  {
   "cell_type": "code",
   "execution_count": 137,
   "metadata": {},
   "outputs": [
    {
     "data": {
      "text/plain": [
       "Index([                 0,                  1,                  2,\n",
       "                        3,                  4,                  5,\n",
       "                        6,                  7,                  8,\n",
       "                        9,                 10,                 11,\n",
       "                       12,                 13,                 14,\n",
       "                       15,                 16,                 17,\n",
       "                       18,                 19,                 20,\n",
       "                       21,                 22,                 23,\n",
       "                       24,                 25,                 26,\n",
       "                       27,                 28,                 29,\n",
       "                       30,                 31,                 32,\n",
       "                       33,                 34,                 35,\n",
       "                       36,                 37,                 38,\n",
       "                       39,                 40,                 41,\n",
       "                       42,                 43,                 44,\n",
       "                  'Expr1', 'c_institution_id'],\n",
       "      dtype='object')"
      ]
     },
     "execution_count": 137,
     "metadata": {},
     "output_type": "execute_result"
    }
   ],
   "source": [
    "upsampled.columns"
   ]
  },
  {
   "cell_type": "code",
   "execution_count": 138,
   "metadata": {},
   "outputs": [],
   "source": [
    "upsampled = upsampled.drop(columns=['c_institution_id'])\n",
    "Y_train = upsampled.Expr1\n",
    "X_train = upsampled.drop('Expr1', axis=1)\n",
    "\n",
    "upsampled = LogisticRegression(solver='liblinear').fit(X_train, Y_train)\n",
    "\n",
    "upsampled_pred = upsampled.predict(X_test)"
   ]
  },
  {
   "cell_type": "code",
   "execution_count": 139,
   "metadata": {},
   "outputs": [
    {
     "data": {
      "text/plain": [
       "0.050180691791430046"
      ]
     },
     "execution_count": 139,
     "metadata": {},
     "output_type": "execute_result"
    }
   ],
   "source": [
    "f1_score(Y_test, upsampled_pred)"
   ]
  },
  {
   "cell_type": "code",
   "execution_count": 140,
   "metadata": {},
   "outputs": [
    {
     "data": {
      "text/html": [
       "<div>\n",
       "<style scoped>\n",
       "    .dataframe tbody tr th:only-of-type {\n",
       "        vertical-align: middle;\n",
       "    }\n",
       "\n",
       "    .dataframe tbody tr th {\n",
       "        vertical-align: top;\n",
       "    }\n",
       "\n",
       "    .dataframe thead th {\n",
       "        text-align: right;\n",
       "    }\n",
       "</style>\n",
       "<table border=\"1\" class=\"dataframe\">\n",
       "  <thead>\n",
       "    <tr style=\"text-align: right;\">\n",
       "      <th></th>\n",
       "      <th>0</th>\n",
       "      <th>1</th>\n",
       "    </tr>\n",
       "  </thead>\n",
       "  <tbody>\n",
       "    <tr>\n",
       "      <td>0</td>\n",
       "      <td>31262</td>\n",
       "      <td>9097</td>\n",
       "    </tr>\n",
       "    <tr>\n",
       "      <td>1</td>\n",
       "      <td>102</td>\n",
       "      <td>243</td>\n",
       "    </tr>\n",
       "  </tbody>\n",
       "</table>\n",
       "</div>"
      ],
      "text/plain": [
       "       0     1\n",
       "0  31262  9097\n",
       "1    102   243"
      ]
     },
     "execution_count": 140,
     "metadata": {},
     "output_type": "execute_result"
    }
   ],
   "source": [
    "pd.DataFrame(confusion_matrix(Y_test, upsampled_pred))"
   ]
  },
  {
   "cell_type": "code",
   "execution_count": 40,
   "metadata": {},
   "outputs": [],
   "source": []
  },
  {
   "cell_type": "code",
   "execution_count": null,
   "metadata": {},
   "outputs": [],
   "source": [
    "a = "
   ]
  },
  {
   "cell_type": "code",
   "execution_count": null,
   "metadata": {},
   "outputs": [],
   "source": [
    "pd.DataFrame(confusion_matrix(y_test, smote_pred))"
   ]
  }
 ],
 "metadata": {
  "kernelspec": {
   "display_name": "Python 3",
   "language": "python",
   "name": "python3"
  },
  "language_info": {
   "codemirror_mode": {
    "name": "ipython",
    "version": 3
   },
   "file_extension": ".py",
   "mimetype": "text/x-python",
   "name": "python",
   "nbconvert_exporter": "python",
   "pygments_lexer": "ipython3",
   "version": "3.7.4"
  }
 },
 "nbformat": 4,
 "nbformat_minor": 2
}
