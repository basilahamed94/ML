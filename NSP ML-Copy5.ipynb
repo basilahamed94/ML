{
 "cells": [
  {
   "cell_type": "code",
   "execution_count": null,
   "metadata": {},
   "outputs": [],
   "source": [
    "import numpy as np\n",
    "import matplotlib.pyplot as plt\n",
    "import pandas as pd\n",
    "from sklearn.model_selection import train_test_split\n",
    "from sklearn.preprocessing import StandardScaler\n",
    "from sklearn.metrics import confusion_matrix\n",
    "from sklearn.metrics import accuracy_score\n",
    "import seaborn as sns\n",
    "from matplotlib import pyplot\n",
    "from sklearn.metrics import roc_curve\n",
    "from sklearn.metrics import roc_auc_score\n",
    "from keras.models import load_model\n",
    "import pickle\n",
    "from sklearn.decomposition import PCA"
   ]
  },
  {
   "cell_type": "code",
   "execution_count": null,
   "metadata": {
    "scrolled": true
   },
   "outputs": [],
   "source": [
    "#x = pd.read_csv(r'D:\\NSP ML\\New folder\\New folder\\PREMATRIC-MODEL-python.csv')\n",
    "G = pd.read_csv(r'D:\\NSP ML\\New folder\\New folder\\PREMATRIC-MODEL-python-FINAL.csv',parse_dates=['updated_dt','password_last_updated_on'], dayfirst=True)\n",
    "G.shape"
   ]
  },
  {
   "cell_type": "code",
   "execution_count": null,
   "metadata": {},
   "outputs": [],
   "source": [
    "G.dtypes"
   ]
  },
  {
   "cell_type": "code",
   "execution_count": null,
   "metadata": {},
   "outputs": [],
   "source": [
    "#G['Expr1'] = G['Expr1'].astype('object')\n",
    "G['c_institution_id'] = G['c_institution_id'].astype('object')"
   ]
  },
  {
   "cell_type": "code",
   "execution_count": null,
   "metadata": {},
   "outputs": [],
   "source": [
    "G = G.drop_duplicates()\n",
    "G.shape"
   ]
  },
  {
   "cell_type": "code",
   "execution_count": null,
   "metadata": {},
   "outputs": [],
   "source": [
    "G.iloc[:,0:10].isnull().sum()"
   ]
  },
  {
   "cell_type": "code",
   "execution_count": null,
   "metadata": {},
   "outputs": [],
   "source": [
    "G = G[G['c_institution_id']!=0].reset_index(drop=True)\n",
    "G.shape"
   ]
  },
  {
   "cell_type": "code",
   "execution_count": null,
   "metadata": {
    "scrolled": true
   },
   "outputs": [],
   "source": [
    "values = {'max_application_level':0, 'min_application_level':0,\n",
    "       'avg_application_level':0, 'median_as_application_level':0,\n",
    "       'max_annual_family_income':0, 'min_annual_family_income':0,\n",
    "       'avg_annual_family_income':0, 'median_annual_family_income':0,\n",
    "       'Percent_Inrank':0, 'sunday':0, 'average_of_verification_time':0, 'ZERO':0,\n",
    "       'average_scholarship_amount':0, 'R1':0, 'R2':0, 'R3':0, 'R4':0, 'R5':0, 'R6':0, 'R7':0,\n",
    "       'R8':0, 'M':0, 'F':0, 'T':0, 'CountOfIp Address':0, 'count(ACCEPTED_BY_PFMS)':0,\n",
    "       'count(NEW)':0, 'count(REJECTED_BY_PFMS)':0, 'count (HOSTELLER_TRUE)':0,\n",
    "       'count(PAYMENT_STATUS_ACCP)':0, 'count AADHAAR_REG_MODE':0, 'less_than_3':0,\n",
    "       '4':0, '5':0, '6':0, '7':0, '8':0, '9':0, '10':0, '11':0, '12':0, '13':0, '14':0, '15':0, '16':0,\n",
    "       '17':0, '18':0, '19':0, '20':0, '21':0, '22':0, '23':0, '24':0, '25':0, '26':0, '27':0, '28':0,\n",
    "       '29':0, '30':0, 'above_30':0, 'SC':0, 'ST':0, 'OBC':0, 'rural_urban':'NNA', 'boys_girls':'NNA',\n",
    "       'board_org_not_mapped':'NNA', 'registration_status':'NNA',\n",
    "       'mhrd_flag':'NNA', 'is_contact_updated':'NNA',\n",
    "       'is_validated_mobileno':'NNA', 'is_password_changed':'NNA',\n",
    "       'is_first_login':'NNA', 'is_NNAmedies_change':'NNA', 'is_valid_institute':'NNA'}\n",
    "X_T = G.drop(columns=['PREPOST','count_of_application_id', 'count_of_in_rank','schlorcolg','MaxOfAc Year','is_contact_updated'])\n",
    "#print(X_T.shape)\n",
    "X_T = X_T.fillna(value=values)"
   ]
  },
  {
   "cell_type": "code",
   "execution_count": null,
   "metadata": {},
   "outputs": [],
   "source": [
    "X_T.iloc[:,60:].isnull().sum()"
   ]
  },
  {
   "cell_type": "code",
   "execution_count": null,
   "metadata": {},
   "outputs": [],
   "source": [
    "X_T.iloc[:,60:].dtypes"
   ]
  },
  {
   "cell_type": "code",
   "execution_count": null,
   "metadata": {},
   "outputs": [],
   "source": [
    "result=[]\n",
    "for v in X_T['updated_dt']:\n",
    "    if pd.isna(v):\n",
    "        result.append(0)\n",
    "    else:\n",
    "        v= (v- np.datetime64('1900-01-01')).days+2\n",
    "        result.append(v)\n",
    "X_T[\"updated_dt\"] = result   \n",
    "result=[]\n",
    "for v in X_T['password_last_updated_on']:\n",
    "    if pd.isna(v):\n",
    "        result.append(0)\n",
    "    else:\n",
    "        v= (v- np.datetime64('1900-01-01')).days+2\n",
    "        result.append(v)\n",
    "X_T[\"password_last_updated_on\"] = result"
   ]
  },
  {
   "cell_type": "code",
   "execution_count": null,
   "metadata": {},
   "outputs": [],
   "source": [
    "X_T.shape"
   ]
  },
  {
   "cell_type": "code",
   "execution_count": null,
   "metadata": {
    "scrolled": true
   },
   "outputs": [],
   "source": [
    "X_T.iloc[:,60:].isnull().sum()"
   ]
  },
  {
   "cell_type": "code",
   "execution_count": null,
   "metadata": {},
   "outputs": [],
   "source": [
    "X_T = X_T.drop(columns=['Expr1','c_institution_id'])\n",
    "X_T = pd.get_dummies(X_T)\n",
    "print(X_T.shape)"
   ]
  },
  {
   "cell_type": "code",
   "execution_count": null,
   "metadata": {},
   "outputs": [],
   "source": [
    "from sklearn import preprocessing\n",
    "X_T = preprocessing.scale(X_T)\n",
    "print(X_T.shape)"
   ]
  },
  {
   "cell_type": "code",
   "execution_count": null,
   "metadata": {},
   "outputs": [],
   "source": [
    "X_T = pd.DataFrame(X_T)\n",
    "X_T.shape"
   ]
  },
  {
   "cell_type": "code",
   "execution_count": null,
   "metadata": {
    "scrolled": true
   },
   "outputs": [],
   "source": [
    "pca = PCA(0.9).fit(X_T)\n",
    "X_pca  = pca.transform(X_T)\n",
    "plt.plot(np.cumsum(pca.explained_variance_ratio_))\n",
    "plt.xlabel('number of components')\n",
    "plt.ylabel('cumulative explained variance')\n",
    "plt.show()"
   ]
  },
  {
   "cell_type": "code",
   "execution_count": null,
   "metadata": {},
   "outputs": [],
   "source": [
    "X_pca = pd.DataFrame(X_pca)\n",
    "X_pca['Expr1'] = G['Expr1']\n",
    "X_pca['c_institution_id'] = G['c_institution_id']\n",
    "X_pca.head()"
   ]
  },
  {
   "cell_type": "code",
   "execution_count": null,
   "metadata": {},
   "outputs": [],
   "source": [
    "#Under Sampling\n",
    "#a = d1[d1['Fake']==1] \n",
    "d2 = X_pca.sample(frac=0.7, replace=False, random_state=3)\n",
    "#d2 = d1[d1['Fake']==0].append(a, ignore_index=True)\n",
    "d2['Expr1'].value_counts()"
   ]
  },
  {
   "cell_type": "code",
   "execution_count": 35,
   "metadata": {},
   "outputs": [],
   "source": [
    "d2=X_pca"
   ]
  },
  {
   "cell_type": "code",
   "execution_count": 14,
   "metadata": {},
   "outputs": [
    {
     "data": {
      "text/plain": [
       "(1351, 47)"
      ]
     },
     "execution_count": 14,
     "metadata": {},
     "output_type": "execute_result"
    }
   ],
   "source": [
    "a = d2[d2['Expr1']==1]\n",
    "a.shape"
   ]
  },
  {
   "cell_type": "code",
   "execution_count": 15,
   "metadata": {},
   "outputs": [
    {
     "data": {
      "text/plain": [
       "(86464, 47)"
      ]
     },
     "execution_count": 15,
     "metadata": {},
     "output_type": "execute_result"
    }
   ],
   "source": [
    "a=d2[d2['Expr1']==1]\n",
    "while len(a)<70000:\n",
    "    a=a.append(a)\n",
    "a.shape"
   ]
  },
  {
   "cell_type": "code",
   "execution_count": 16,
   "metadata": {},
   "outputs": [
    {
     "data": {
      "text/plain": [
       "1    86464\n",
       "Name: Expr1, dtype: int64"
      ]
     },
     "execution_count": 16,
     "metadata": {},
     "output_type": "execute_result"
    }
   ],
   "source": [
    "a['Expr1'].value_counts()"
   ]
  },
  {
   "cell_type": "code",
   "execution_count": 233,
   "metadata": {},
   "outputs": [
    {
     "data": {
      "text/plain": [
       "(249279, 47)"
      ]
     },
     "execution_count": 233,
     "metadata": {},
     "output_type": "execute_result"
    }
   ],
   "source": [
    "d2=d2.append(a)\n",
    "d2.shape"
   ]
  },
  {
   "cell_type": "code",
   "execution_count": 17,
   "metadata": {},
   "outputs": [
    {
     "data": {
      "text/plain": [
       "0    161464\n",
       "1      1351\n",
       "Name: Expr1, dtype: int64"
      ]
     },
     "execution_count": 17,
     "metadata": {},
     "output_type": "execute_result"
    }
   ],
   "source": [
    "d2['Expr1'].value_counts()"
   ]
  },
  {
   "cell_type": "code",
   "execution_count": 18,
   "metadata": {},
   "outputs": [
    {
     "data": {
      "text/plain": [
       "(162815, 47)"
      ]
     },
     "execution_count": 18,
     "metadata": {},
     "output_type": "execute_result"
    }
   ],
   "source": [
    "d2.shape"
   ]
  },
  {
   "cell_type": "code",
   "execution_count": 81,
   "metadata": {},
   "outputs": [],
   "source": [
    "d3 = X_pca[~X_pca['c_institution_id'].isin(d2['c_institution_id'])]"
   ]
  },
  {
   "cell_type": "code",
   "execution_count": 82,
   "metadata": {},
   "outputs": [
    {
     "data": {
      "text/plain": [
       "(69778, 47)"
      ]
     },
     "execution_count": 82,
     "metadata": {},
     "output_type": "execute_result"
    }
   ],
   "source": [
    "d3.shape"
   ]
  },
  {
   "cell_type": "code",
   "execution_count": 83,
   "metadata": {},
   "outputs": [
    {
     "data": {
      "text/plain": [
       "232593"
      ]
     },
     "execution_count": 83,
     "metadata": {},
     "output_type": "execute_result"
    }
   ],
   "source": [
    "161464+69778+1351"
   ]
  },
  {
   "cell_type": "code",
   "execution_count": 84,
   "metadata": {},
   "outputs": [
    {
     "data": {
      "text/plain": [
       "0    69151\n",
       "1      627\n",
       "Name: Expr1, dtype: int64"
      ]
     },
     "execution_count": 84,
     "metadata": {},
     "output_type": "execute_result"
    }
   ],
   "source": [
    "d3['Expr1'].value_counts()"
   ]
  },
  {
   "cell_type": "code",
   "execution_count": 163,
   "metadata": {},
   "outputs": [
    {
     "data": {
      "text/plain": [
       "0.008367190209582322"
      ]
     },
     "execution_count": 163,
     "metadata": {},
     "output_type": "execute_result"
    }
   ],
   "source": [
    "1351/161464"
   ]
  },
  {
   "cell_type": "code",
   "execution_count": 164,
   "metadata": {},
   "outputs": [
    {
     "data": {
      "text/plain": [
       "0.009067113996905324"
      ]
     },
     "execution_count": 164,
     "metadata": {},
     "output_type": "execute_result"
    }
   ],
   "source": [
    "627/69151"
   ]
  },
  {
   "cell_type": "code",
   "execution_count": 85,
   "metadata": {},
   "outputs": [
    {
     "data": {
      "text/plain": [
       "Text(0, 0.5, 'Second Principal Component')"
      ]
     },
     "execution_count": 85,
     "metadata": {},
     "output_type": "execute_result"
    },
    {
     "data": {
      "image/png": "[encoded data removed]",
      "text/plain": [
       "<Figure size 576x432 with 1 Axes>"
      ]
     },
     "metadata": {
      "needs_background": "light"
     },
     "output_type": "display_data"
    }
   ],
   "source": [
    "#x_pca = pca.transform(X)\n",
    "plt.figure(figsize=(8,6))\n",
    "plt.scatter(d2[0],d2[1],c=d2['Expr1'],cmap='rainbow')\n",
    "plt.xlabel('First principal component')\n",
    "plt.ylabel('Second Principal Component')"
   ]
  },
  {
   "cell_type": "code",
   "execution_count": 86,
   "metadata": {},
   "outputs": [
    {
     "data": {
      "text/plain": [
       "Text(0, 0.5, 'Second Principal Component')"
      ]
     },
     "execution_count": 86,
     "metadata": {},
     "output_type": "execute_result"
    },
    {
     "data": {
      "image/png": "[encoded data removed]",
      "text/plain": [
       "<Figure size 576x432 with 1 Axes>"
      ]
     },
     "metadata": {
      "needs_background": "light"
     },
     "output_type": "display_data"
    }
   ],
   "source": [
    "#Remove outliers\n",
    "x_pca_df = d2[d2[0]<200]\n",
    "#x_pca_df = x_pca_df[x_pca_df[1]<50000]\n",
    "x_pca_df.shape\n",
    "plt.figure(figsize=(8,6))\n",
    "plt.scatter(x_pca_df[0],x_pca_df[1],c=x_pca_df['Expr1'],cmap='rainbow')\n",
    "plt.xlabel('First principal component')\n",
    "plt.ylabel('Second Principal Component')"
   ]
  },
  {
   "cell_type": "code",
   "execution_count": 87,
   "metadata": {
    "scrolled": true
   },
   "outputs": [
    {
     "data": {
      "text/html": [
       "<div>\n",
       "<style scoped>\n",
       "    .dataframe tbody tr th:only-of-type {\n",
       "        vertical-align: middle;\n",
       "    }\n",
       "\n",
       "    .dataframe tbody tr th {\n",
       "        vertical-align: top;\n",
       "    }\n",
       "\n",
       "    .dataframe thead th {\n",
       "        text-align: right;\n",
       "    }\n",
       "</style>\n",
       "<table border=\"1\" class=\"dataframe\">\n",
       "  <thead>\n",
       "    <tr style=\"text-align: right;\">\n",
       "      <th></th>\n",
       "      <th>0</th>\n",
       "      <th>1</th>\n",
       "      <th>2</th>\n",
       "      <th>3</th>\n",
       "      <th>4</th>\n",
       "      <th>5</th>\n",
       "      <th>6</th>\n",
       "      <th>7</th>\n",
       "      <th>8</th>\n",
       "      <th>9</th>\n",
       "      <th>...</th>\n",
       "      <th>36</th>\n",
       "      <th>37</th>\n",
       "      <th>38</th>\n",
       "      <th>39</th>\n",
       "      <th>40</th>\n",
       "      <th>41</th>\n",
       "      <th>42</th>\n",
       "      <th>43</th>\n",
       "      <th>44</th>\n",
       "      <th>Expr1</th>\n",
       "    </tr>\n",
       "  </thead>\n",
       "  <tbody>\n",
       "    <tr>\n",
       "      <td>0</td>\n",
       "      <td>1.000000</td>\n",
       "      <td>-0.095796</td>\n",
       "      <td>-0.035111</td>\n",
       "      <td>-0.033138</td>\n",
       "      <td>0.004660</td>\n",
       "      <td>0.004137</td>\n",
       "      <td>0.032686</td>\n",
       "      <td>-0.111856</td>\n",
       "      <td>-0.018342</td>\n",
       "      <td>-0.042145</td>\n",
       "      <td>...</td>\n",
       "      <td>0.007877</td>\n",
       "      <td>0.008257</td>\n",
       "      <td>0.012452</td>\n",
       "      <td>-0.030499</td>\n",
       "      <td>0.002206</td>\n",
       "      <td>0.002712</td>\n",
       "      <td>-0.015143</td>\n",
       "      <td>0.002934</td>\n",
       "      <td>-0.005605</td>\n",
       "      <td>-0.003786</td>\n",
       "    </tr>\n",
       "    <tr>\n",
       "      <td>1</td>\n",
       "      <td>-0.095796</td>\n",
       "      <td>1.000000</td>\n",
       "      <td>-0.039811</td>\n",
       "      <td>-0.040775</td>\n",
       "      <td>-0.004942</td>\n",
       "      <td>0.002544</td>\n",
       "      <td>0.029558</td>\n",
       "      <td>-0.126807</td>\n",
       "      <td>-0.025879</td>\n",
       "      <td>-0.022992</td>\n",
       "      <td>...</td>\n",
       "      <td>0.003682</td>\n",
       "      <td>0.005805</td>\n",
       "      <td>0.004401</td>\n",
       "      <td>-0.025947</td>\n",
       "      <td>0.008825</td>\n",
       "      <td>0.006914</td>\n",
       "      <td>-0.027689</td>\n",
       "      <td>0.009132</td>\n",
       "      <td>0.003490</td>\n",
       "      <td>0.040553</td>\n",
       "    </tr>\n",
       "    <tr>\n",
       "      <td>2</td>\n",
       "      <td>-0.035111</td>\n",
       "      <td>-0.039811</td>\n",
       "      <td>1.000000</td>\n",
       "      <td>-0.015662</td>\n",
       "      <td>-0.004273</td>\n",
       "      <td>0.000190</td>\n",
       "      <td>0.011659</td>\n",
       "      <td>-0.057235</td>\n",
       "      <td>-0.011547</td>\n",
       "      <td>-0.005783</td>\n",
       "      <td>...</td>\n",
       "      <td>0.001468</td>\n",
       "      <td>0.000765</td>\n",
       "      <td>-0.001368</td>\n",
       "      <td>-0.013067</td>\n",
       "      <td>-0.002710</td>\n",
       "      <td>0.005421</td>\n",
       "      <td>-0.014713</td>\n",
       "      <td>0.003588</td>\n",
       "      <td>0.004391</td>\n",
       "      <td>-0.005368</td>\n",
       "    </tr>\n",
       "    <tr>\n",
       "      <td>3</td>\n",
       "      <td>-0.033138</td>\n",
       "      <td>-0.040775</td>\n",
       "      <td>-0.015662</td>\n",
       "      <td>1.000000</td>\n",
       "      <td>-0.001757</td>\n",
       "      <td>-0.003746</td>\n",
       "      <td>0.019124</td>\n",
       "      <td>-0.056314</td>\n",
       "      <td>-0.010958</td>\n",
       "      <td>0.001650</td>\n",
       "      <td>...</td>\n",
       "      <td>-0.000586</td>\n",
       "      <td>0.002631</td>\n",
       "      <td>-0.006855</td>\n",
       "      <td>-0.006344</td>\n",
       "      <td>0.010616</td>\n",
       "      <td>0.007536</td>\n",
       "      <td>-0.012816</td>\n",
       "      <td>0.005102</td>\n",
       "      <td>0.004593</td>\n",
       "      <td>-0.050448</td>\n",
       "    </tr>\n",
       "    <tr>\n",
       "      <td>4</td>\n",
       "      <td>0.004660</td>\n",
       "      <td>-0.004942</td>\n",
       "      <td>-0.004273</td>\n",
       "      <td>-0.001757</td>\n",
       "      <td>1.000000</td>\n",
       "      <td>-0.000516</td>\n",
       "      <td>0.008059</td>\n",
       "      <td>-0.013751</td>\n",
       "      <td>-0.001376</td>\n",
       "      <td>0.012534</td>\n",
       "      <td>...</td>\n",
       "      <td>0.001147</td>\n",
       "      <td>-0.000848</td>\n",
       "      <td>-0.010059</td>\n",
       "      <td>0.010147</td>\n",
       "      <td>0.012006</td>\n",
       "      <td>0.003894</td>\n",
       "      <td>-0.000506</td>\n",
       "      <td>0.001702</td>\n",
       "      <td>0.006018</td>\n",
       "      <td>-0.026064</td>\n",
       "    </tr>\n",
       "    <tr>\n",
       "      <td>5</td>\n",
       "      <td>0.004137</td>\n",
       "      <td>0.002544</td>\n",
       "      <td>0.000190</td>\n",
       "      <td>-0.003746</td>\n",
       "      <td>-0.000516</td>\n",
       "      <td>1.000000</td>\n",
       "      <td>-0.004460</td>\n",
       "      <td>-0.009366</td>\n",
       "      <td>-0.000676</td>\n",
       "      <td>0.001014</td>\n",
       "      <td>...</td>\n",
       "      <td>-0.002341</td>\n",
       "      <td>-0.001227</td>\n",
       "      <td>0.002073</td>\n",
       "      <td>0.001655</td>\n",
       "      <td>-0.008174</td>\n",
       "      <td>-0.001132</td>\n",
       "      <td>-0.001321</td>\n",
       "      <td>0.002119</td>\n",
       "      <td>0.004470</td>\n",
       "      <td>0.038762</td>\n",
       "    </tr>\n",
       "    <tr>\n",
       "      <td>6</td>\n",
       "      <td>0.032686</td>\n",
       "      <td>0.029558</td>\n",
       "      <td>0.011659</td>\n",
       "      <td>0.019124</td>\n",
       "      <td>0.008059</td>\n",
       "      <td>-0.004460</td>\n",
       "      <td>1.000000</td>\n",
       "      <td>0.012441</td>\n",
       "      <td>-0.003833</td>\n",
       "      <td>-0.024867</td>\n",
       "      <td>...</td>\n",
       "      <td>0.002569</td>\n",
       "      <td>-0.016664</td>\n",
       "      <td>0.032886</td>\n",
       "      <td>-0.025903</td>\n",
       "      <td>-0.082717</td>\n",
       "      <td>-0.043584</td>\n",
       "      <td>0.010842</td>\n",
       "      <td>0.005171</td>\n",
       "      <td>-0.008807</td>\n",
       "      <td>-0.025357</td>\n",
       "    </tr>\n",
       "    <tr>\n",
       "      <td>7</td>\n",
       "      <td>-0.111856</td>\n",
       "      <td>-0.126807</td>\n",
       "      <td>-0.057235</td>\n",
       "      <td>-0.056314</td>\n",
       "      <td>-0.013751</td>\n",
       "      <td>-0.009366</td>\n",
       "      <td>0.012441</td>\n",
       "      <td>1.000000</td>\n",
       "      <td>-0.033614</td>\n",
       "      <td>-0.013264</td>\n",
       "      <td>...</td>\n",
       "      <td>0.011603</td>\n",
       "      <td>-0.007621</td>\n",
       "      <td>0.003595</td>\n",
       "      <td>-0.019783</td>\n",
       "      <td>-0.028370</td>\n",
       "      <td>-0.000628</td>\n",
       "      <td>-0.033278</td>\n",
       "      <td>0.009421</td>\n",
       "      <td>0.025362</td>\n",
       "      <td>-0.005889</td>\n",
       "    </tr>\n",
       "    <tr>\n",
       "      <td>8</td>\n",
       "      <td>-0.018342</td>\n",
       "      <td>-0.025879</td>\n",
       "      <td>-0.011547</td>\n",
       "      <td>-0.010958</td>\n",
       "      <td>-0.001376</td>\n",
       "      <td>-0.000676</td>\n",
       "      <td>-0.003833</td>\n",
       "      <td>-0.033614</td>\n",
       "      <td>1.000000</td>\n",
       "      <td>-0.001126</td>\n",
       "      <td>...</td>\n",
       "      <td>-0.003640</td>\n",
       "      <td>-0.009436</td>\n",
       "      <td>0.007889</td>\n",
       "      <td>-0.009094</td>\n",
       "      <td>-0.018650</td>\n",
       "      <td>0.002440</td>\n",
       "      <td>-0.007473</td>\n",
       "      <td>0.005279</td>\n",
       "      <td>0.010202</td>\n",
       "      <td>0.011408</td>\n",
       "    </tr>\n",
       "    <tr>\n",
       "      <td>9</td>\n",
       "      <td>-0.042145</td>\n",
       "      <td>-0.022992</td>\n",
       "      <td>-0.005783</td>\n",
       "      <td>0.001650</td>\n",
       "      <td>0.012534</td>\n",
       "      <td>0.001014</td>\n",
       "      <td>-0.024867</td>\n",
       "      <td>-0.013264</td>\n",
       "      <td>-0.001126</td>\n",
       "      <td>1.000000</td>\n",
       "      <td>...</td>\n",
       "      <td>0.005433</td>\n",
       "      <td>0.000452</td>\n",
       "      <td>0.030700</td>\n",
       "      <td>-0.032292</td>\n",
       "      <td>-0.050006</td>\n",
       "      <td>-0.027097</td>\n",
       "      <td>-0.002875</td>\n",
       "      <td>0.000454</td>\n",
       "      <td>-0.019685</td>\n",
       "      <td>0.000572</td>\n",
       "    </tr>\n",
       "    <tr>\n",
       "      <td>10</td>\n",
       "      <td>-0.017022</td>\n",
       "      <td>-0.015653</td>\n",
       "      <td>-0.006870</td>\n",
       "      <td>-0.003063</td>\n",
       "      <td>-0.002604</td>\n",
       "      <td>-0.001782</td>\n",
       "      <td>-0.005686</td>\n",
       "      <td>-0.014374</td>\n",
       "      <td>-0.004956</td>\n",
       "      <td>-0.016730</td>\n",
       "      <td>...</td>\n",
       "      <td>0.005522</td>\n",
       "      <td>-0.003825</td>\n",
       "      <td>0.008491</td>\n",
       "      <td>-0.011846</td>\n",
       "      <td>-0.019195</td>\n",
       "      <td>-0.011043</td>\n",
       "      <td>0.000784</td>\n",
       "      <td>0.006286</td>\n",
       "      <td>-0.004892</td>\n",
       "      <td>-0.036846</td>\n",
       "    </tr>\n",
       "    <tr>\n",
       "      <td>11</td>\n",
       "      <td>-0.033856</td>\n",
       "      <td>-0.016890</td>\n",
       "      <td>-0.005757</td>\n",
       "      <td>0.001309</td>\n",
       "      <td>0.008070</td>\n",
       "      <td>0.005915</td>\n",
       "      <td>0.006851</td>\n",
       "      <td>0.006300</td>\n",
       "      <td>0.008610</td>\n",
       "      <td>-0.024961</td>\n",
       "      <td>...</td>\n",
       "      <td>0.007490</td>\n",
       "      <td>0.015345</td>\n",
       "      <td>0.005484</td>\n",
       "      <td>-0.003739</td>\n",
       "      <td>0.013074</td>\n",
       "      <td>-0.012325</td>\n",
       "      <td>0.000700</td>\n",
       "      <td>-0.007372</td>\n",
       "      <td>-0.027222</td>\n",
       "      <td>0.006549</td>\n",
       "    </tr>\n",
       "    <tr>\n",
       "      <td>12</td>\n",
       "      <td>0.015985</td>\n",
       "      <td>0.005803</td>\n",
       "      <td>-0.000095</td>\n",
       "      <td>0.003596</td>\n",
       "      <td>-0.001617</td>\n",
       "      <td>-0.008809</td>\n",
       "      <td>-0.038465</td>\n",
       "      <td>-0.017844</td>\n",
       "      <td>-0.013306</td>\n",
       "      <td>0.002005</td>\n",
       "      <td>...</td>\n",
       "      <td>-0.002576</td>\n",
       "      <td>-0.022528</td>\n",
       "      <td>0.025533</td>\n",
       "      <td>-0.028558</td>\n",
       "      <td>-0.080822</td>\n",
       "      <td>-0.018585</td>\n",
       "      <td>-0.004385</td>\n",
       "      <td>0.013996</td>\n",
       "      <td>0.023614</td>\n",
       "      <td>-0.006866</td>\n",
       "    </tr>\n",
       "    <tr>\n",
       "      <td>13</td>\n",
       "      <td>-0.001664</td>\n",
       "      <td>0.000159</td>\n",
       "      <td>0.000948</td>\n",
       "      <td>-0.000223</td>\n",
       "      <td>0.000376</td>\n",
       "      <td>0.000199</td>\n",
       "      <td>0.010384</td>\n",
       "      <td>0.005973</td>\n",
       "      <td>0.000566</td>\n",
       "      <td>0.000797</td>\n",
       "      <td>...</td>\n",
       "      <td>-0.002107</td>\n",
       "      <td>0.004988</td>\n",
       "      <td>-0.002111</td>\n",
       "      <td>0.003531</td>\n",
       "      <td>0.017572</td>\n",
       "      <td>0.005086</td>\n",
       "      <td>0.003833</td>\n",
       "      <td>-0.001304</td>\n",
       "      <td>-0.005282</td>\n",
       "      <td>0.018672</td>\n",
       "    </tr>\n",
       "    <tr>\n",
       "      <td>14</td>\n",
       "      <td>0.009341</td>\n",
       "      <td>0.006635</td>\n",
       "      <td>-0.000703</td>\n",
       "      <td>0.011446</td>\n",
       "      <td>0.006168</td>\n",
       "      <td>-0.004469</td>\n",
       "      <td>-0.063139</td>\n",
       "      <td>-0.012743</td>\n",
       "      <td>-0.011558</td>\n",
       "      <td>-0.022595</td>\n",
       "      <td>...</td>\n",
       "      <td>-0.004023</td>\n",
       "      <td>-0.024247</td>\n",
       "      <td>0.050122</td>\n",
       "      <td>-0.037563</td>\n",
       "      <td>-0.118900</td>\n",
       "      <td>-0.050804</td>\n",
       "      <td>-0.001272</td>\n",
       "      <td>0.007685</td>\n",
       "      <td>0.004485</td>\n",
       "      <td>-0.046374</td>\n",
       "    </tr>\n",
       "    <tr>\n",
       "      <td>15</td>\n",
       "      <td>-0.140044</td>\n",
       "      <td>-0.136573</td>\n",
       "      <td>-0.053029</td>\n",
       "      <td>-0.054955</td>\n",
       "      <td>-0.013233</td>\n",
       "      <td>-0.003918</td>\n",
       "      <td>0.039146</td>\n",
       "      <td>-0.148386</td>\n",
       "      <td>-0.019810</td>\n",
       "      <td>-0.035270</td>\n",
       "      <td>...</td>\n",
       "      <td>-0.002299</td>\n",
       "      <td>0.001367</td>\n",
       "      <td>0.014528</td>\n",
       "      <td>-0.012922</td>\n",
       "      <td>0.032798</td>\n",
       "      <td>0.021619</td>\n",
       "      <td>-0.050720</td>\n",
       "      <td>0.006054</td>\n",
       "      <td>-0.007698</td>\n",
       "      <td>-0.014896</td>\n",
       "    </tr>\n",
       "    <tr>\n",
       "      <td>16</td>\n",
       "      <td>-0.019393</td>\n",
       "      <td>-0.019833</td>\n",
       "      <td>-0.008432</td>\n",
       "      <td>-0.006514</td>\n",
       "      <td>-0.000699</td>\n",
       "      <td>-0.003337</td>\n",
       "      <td>-0.003015</td>\n",
       "      <td>-0.028341</td>\n",
       "      <td>-0.005792</td>\n",
       "      <td>-0.011871</td>\n",
       "      <td>...</td>\n",
       "      <td>0.002494</td>\n",
       "      <td>0.000765</td>\n",
       "      <td>0.014044</td>\n",
       "      <td>-0.012772</td>\n",
       "      <td>-0.017268</td>\n",
       "      <td>-0.008018</td>\n",
       "      <td>-0.007853</td>\n",
       "      <td>0.000271</td>\n",
       "      <td>-0.011221</td>\n",
       "      <td>-0.009900</td>\n",
       "    </tr>\n",
       "    <tr>\n",
       "      <td>17</td>\n",
       "      <td>0.005632</td>\n",
       "      <td>0.003270</td>\n",
       "      <td>-0.007107</td>\n",
       "      <td>0.009536</td>\n",
       "      <td>0.014113</td>\n",
       "      <td>-0.018013</td>\n",
       "      <td>-0.134074</td>\n",
       "      <td>-0.032042</td>\n",
       "      <td>-0.027471</td>\n",
       "      <td>-0.067744</td>\n",
       "      <td>...</td>\n",
       "      <td>0.038584</td>\n",
       "      <td>-0.049642</td>\n",
       "      <td>0.115951</td>\n",
       "      <td>-0.105895</td>\n",
       "      <td>-0.299216</td>\n",
       "      <td>-0.136508</td>\n",
       "      <td>0.011630</td>\n",
       "      <td>0.030745</td>\n",
       "      <td>-0.004364</td>\n",
       "      <td>0.032757</td>\n",
       "    </tr>\n",
       "    <tr>\n",
       "      <td>18</td>\n",
       "      <td>-0.048338</td>\n",
       "      <td>-0.041862</td>\n",
       "      <td>-0.013879</td>\n",
       "      <td>-0.015897</td>\n",
       "      <td>-0.003796</td>\n",
       "      <td>0.001344</td>\n",
       "      <td>0.024301</td>\n",
       "      <td>-0.034760</td>\n",
       "      <td>-0.005427</td>\n",
       "      <td>-0.012799</td>\n",
       "      <td>...</td>\n",
       "      <td>-0.013616</td>\n",
       "      <td>0.001486</td>\n",
       "      <td>-0.002576</td>\n",
       "      <td>0.004673</td>\n",
       "      <td>0.037612</td>\n",
       "      <td>0.026354</td>\n",
       "      <td>-0.021789</td>\n",
       "      <td>-0.000844</td>\n",
       "      <td>0.002012</td>\n",
       "      <td>0.012047</td>\n",
       "    </tr>\n",
       "    <tr>\n",
       "      <td>19</td>\n",
       "      <td>0.020147</td>\n",
       "      <td>0.021091</td>\n",
       "      <td>0.004818</td>\n",
       "      <td>0.018588</td>\n",
       "      <td>0.013689</td>\n",
       "      <td>0.001261</td>\n",
       "      <td>-0.055032</td>\n",
       "      <td>-0.013537</td>\n",
       "      <td>-0.006123</td>\n",
       "      <td>-0.031123</td>\n",
       "      <td>...</td>\n",
       "      <td>-0.059471</td>\n",
       "      <td>-0.043232</td>\n",
       "      <td>0.036454</td>\n",
       "      <td>-0.039259</td>\n",
       "      <td>-0.125629</td>\n",
       "      <td>-0.058481</td>\n",
       "      <td>-0.005135</td>\n",
       "      <td>0.010638</td>\n",
       "      <td>0.007201</td>\n",
       "      <td>0.005724</td>\n",
       "    </tr>\n",
       "    <tr>\n",
       "      <td>20</td>\n",
       "      <td>-0.034165</td>\n",
       "      <td>-0.030676</td>\n",
       "      <td>-0.014310</td>\n",
       "      <td>-0.013226</td>\n",
       "      <td>0.002086</td>\n",
       "      <td>-0.001231</td>\n",
       "      <td>0.005676</td>\n",
       "      <td>-0.027557</td>\n",
       "      <td>-0.004892</td>\n",
       "      <td>-0.011345</td>\n",
       "      <td>...</td>\n",
       "      <td>0.021206</td>\n",
       "      <td>0.005361</td>\n",
       "      <td>0.020717</td>\n",
       "      <td>-0.016974</td>\n",
       "      <td>-0.001626</td>\n",
       "      <td>0.003433</td>\n",
       "      <td>-0.011364</td>\n",
       "      <td>0.005155</td>\n",
       "      <td>-0.004484</td>\n",
       "      <td>0.044127</td>\n",
       "    </tr>\n",
       "    <tr>\n",
       "      <td>21</td>\n",
       "      <td>-0.036507</td>\n",
       "      <td>-0.030168</td>\n",
       "      <td>-0.008808</td>\n",
       "      <td>-0.009506</td>\n",
       "      <td>0.002118</td>\n",
       "      <td>-0.001343</td>\n",
       "      <td>-0.002753</td>\n",
       "      <td>-0.030287</td>\n",
       "      <td>-0.008854</td>\n",
       "      <td>-0.014907</td>\n",
       "      <td>...</td>\n",
       "      <td>0.011082</td>\n",
       "      <td>-0.001802</td>\n",
       "      <td>0.019359</td>\n",
       "      <td>-0.014852</td>\n",
       "      <td>-0.011692</td>\n",
       "      <td>-0.013108</td>\n",
       "      <td>-0.011450</td>\n",
       "      <td>0.000889</td>\n",
       "      <td>-0.010336</td>\n",
       "      <td>-0.004653</td>\n",
       "    </tr>\n",
       "    <tr>\n",
       "      <td>22</td>\n",
       "      <td>0.020301</td>\n",
       "      <td>0.017696</td>\n",
       "      <td>0.007113</td>\n",
       "      <td>0.005545</td>\n",
       "      <td>-0.002584</td>\n",
       "      <td>0.005524</td>\n",
       "      <td>0.036007</td>\n",
       "      <td>0.026620</td>\n",
       "      <td>0.015699</td>\n",
       "      <td>0.017990</td>\n",
       "      <td>...</td>\n",
       "      <td>-0.030455</td>\n",
       "      <td>0.025641</td>\n",
       "      <td>-0.029067</td>\n",
       "      <td>0.040268</td>\n",
       "      <td>0.116358</td>\n",
       "      <td>0.031739</td>\n",
       "      <td>0.005645</td>\n",
       "      <td>-0.024013</td>\n",
       "      <td>-0.009974</td>\n",
       "      <td>0.007077</td>\n",
       "    </tr>\n",
       "    <tr>\n",
       "      <td>23</td>\n",
       "      <td>-0.021341</td>\n",
       "      <td>-0.014938</td>\n",
       "      <td>-0.010316</td>\n",
       "      <td>-0.000231</td>\n",
       "      <td>0.008839</td>\n",
       "      <td>-0.001570</td>\n",
       "      <td>-0.036732</td>\n",
       "      <td>-0.038171</td>\n",
       "      <td>-0.012006</td>\n",
       "      <td>-0.031000</td>\n",
       "      <td>...</td>\n",
       "      <td>-0.015286</td>\n",
       "      <td>-0.038249</td>\n",
       "      <td>0.040758</td>\n",
       "      <td>-0.042377</td>\n",
       "      <td>-0.113802</td>\n",
       "      <td>-0.032481</td>\n",
       "      <td>-0.016148</td>\n",
       "      <td>0.020108</td>\n",
       "      <td>0.011699</td>\n",
       "      <td>0.010765</td>\n",
       "    </tr>\n",
       "    <tr>\n",
       "      <td>24</td>\n",
       "      <td>-0.001751</td>\n",
       "      <td>-0.003212</td>\n",
       "      <td>-0.003576</td>\n",
       "      <td>-0.000646</td>\n",
       "      <td>0.000243</td>\n",
       "      <td>-0.006032</td>\n",
       "      <td>-0.006874</td>\n",
       "      <td>-0.009442</td>\n",
       "      <td>-0.004840</td>\n",
       "      <td>-0.005376</td>\n",
       "      <td>...</td>\n",
       "      <td>0.021495</td>\n",
       "      <td>0.001701</td>\n",
       "      <td>0.017582</td>\n",
       "      <td>-0.009709</td>\n",
       "      <td>-0.034080</td>\n",
       "      <td>-0.015268</td>\n",
       "      <td>-0.001244</td>\n",
       "      <td>-0.001556</td>\n",
       "      <td>-0.000818</td>\n",
       "      <td>-0.008870</td>\n",
       "    </tr>\n",
       "    <tr>\n",
       "      <td>25</td>\n",
       "      <td>-0.023348</td>\n",
       "      <td>-0.017003</td>\n",
       "      <td>-0.005156</td>\n",
       "      <td>0.001153</td>\n",
       "      <td>0.008076</td>\n",
       "      <td>0.003840</td>\n",
       "      <td>-0.016214</td>\n",
       "      <td>-0.017805</td>\n",
       "      <td>0.002308</td>\n",
       "      <td>-0.030382</td>\n",
       "      <td>...</td>\n",
       "      <td>-0.055922</td>\n",
       "      <td>-0.027319</td>\n",
       "      <td>0.009634</td>\n",
       "      <td>-0.027224</td>\n",
       "      <td>-0.043677</td>\n",
       "      <td>-0.020443</td>\n",
       "      <td>-0.006749</td>\n",
       "      <td>0.009719</td>\n",
       "      <td>-0.001138</td>\n",
       "      <td>-0.002540</td>\n",
       "    </tr>\n",
       "    <tr>\n",
       "      <td>26</td>\n",
       "      <td>0.005565</td>\n",
       "      <td>0.007232</td>\n",
       "      <td>0.004263</td>\n",
       "      <td>-0.000069</td>\n",
       "      <td>-0.003048</td>\n",
       "      <td>0.000725</td>\n",
       "      <td>0.014536</td>\n",
       "      <td>0.008745</td>\n",
       "      <td>0.006994</td>\n",
       "      <td>0.011206</td>\n",
       "      <td>...</td>\n",
       "      <td>-0.008639</td>\n",
       "      <td>0.003818</td>\n",
       "      <td>-0.029336</td>\n",
       "      <td>0.015338</td>\n",
       "      <td>0.042237</td>\n",
       "      <td>0.013585</td>\n",
       "      <td>0.006363</td>\n",
       "      <td>0.004435</td>\n",
       "      <td>0.002003</td>\n",
       "      <td>-0.006393</td>\n",
       "    </tr>\n",
       "    <tr>\n",
       "      <td>27</td>\n",
       "      <td>-0.013599</td>\n",
       "      <td>-0.014981</td>\n",
       "      <td>-0.016291</td>\n",
       "      <td>-0.005228</td>\n",
       "      <td>0.003917</td>\n",
       "      <td>-0.002751</td>\n",
       "      <td>-0.021938</td>\n",
       "      <td>-0.010295</td>\n",
       "      <td>-0.003048</td>\n",
       "      <td>-0.020466</td>\n",
       "      <td>...</td>\n",
       "      <td>-0.020808</td>\n",
       "      <td>-0.014627</td>\n",
       "      <td>0.028316</td>\n",
       "      <td>-0.024868</td>\n",
       "      <td>-0.051484</td>\n",
       "      <td>-0.013582</td>\n",
       "      <td>-0.004592</td>\n",
       "      <td>0.006058</td>\n",
       "      <td>0.000713</td>\n",
       "      <td>-0.000270</td>\n",
       "    </tr>\n",
       "    <tr>\n",
       "      <td>28</td>\n",
       "      <td>-0.012021</td>\n",
       "      <td>-0.008750</td>\n",
       "      <td>-0.003960</td>\n",
       "      <td>-0.001672</td>\n",
       "      <td>-0.002376</td>\n",
       "      <td>0.001028</td>\n",
       "      <td>0.009715</td>\n",
       "      <td>0.001768</td>\n",
       "      <td>0.011796</td>\n",
       "      <td>-0.002350</td>\n",
       "      <td>...</td>\n",
       "      <td>-0.058261</td>\n",
       "      <td>-0.020867</td>\n",
       "      <td>-0.037062</td>\n",
       "      <td>0.013053</td>\n",
       "      <td>0.036918</td>\n",
       "      <td>0.018612</td>\n",
       "      <td>0.001050</td>\n",
       "      <td>0.006022</td>\n",
       "      <td>0.001033</td>\n",
       "      <td>0.004649</td>\n",
       "    </tr>\n",
       "    <tr>\n",
       "      <td>29</td>\n",
       "      <td>-0.002915</td>\n",
       "      <td>0.000190</td>\n",
       "      <td>0.001797</td>\n",
       "      <td>-0.001042</td>\n",
       "      <td>-0.002235</td>\n",
       "      <td>-0.000122</td>\n",
       "      <td>0.009760</td>\n",
       "      <td>-0.001690</td>\n",
       "      <td>0.004706</td>\n",
       "      <td>0.007018</td>\n",
       "      <td>...</td>\n",
       "      <td>-0.010546</td>\n",
       "      <td>-0.004385</td>\n",
       "      <td>-0.023250</td>\n",
       "      <td>0.012444</td>\n",
       "      <td>0.023617</td>\n",
       "      <td>0.005390</td>\n",
       "      <td>0.001015</td>\n",
       "      <td>0.005507</td>\n",
       "      <td>0.003031</td>\n",
       "      <td>-0.036936</td>\n",
       "    </tr>\n",
       "    <tr>\n",
       "      <td>30</td>\n",
       "      <td>0.003422</td>\n",
       "      <td>0.000778</td>\n",
       "      <td>-0.001810</td>\n",
       "      <td>-0.000140</td>\n",
       "      <td>0.000223</td>\n",
       "      <td>-0.002711</td>\n",
       "      <td>-0.006402</td>\n",
       "      <td>-0.003135</td>\n",
       "      <td>-0.003246</td>\n",
       "      <td>-0.004713</td>\n",
       "      <td>...</td>\n",
       "      <td>0.011177</td>\n",
       "      <td>0.011485</td>\n",
       "      <td>0.015881</td>\n",
       "      <td>-0.006781</td>\n",
       "      <td>-0.021638</td>\n",
       "      <td>-0.025896</td>\n",
       "      <td>0.001901</td>\n",
       "      <td>-0.011092</td>\n",
       "      <td>-0.013238</td>\n",
       "      <td>0.016696</td>\n",
       "    </tr>\n",
       "    <tr>\n",
       "      <td>31</td>\n",
       "      <td>-0.011718</td>\n",
       "      <td>-0.013582</td>\n",
       "      <td>-0.008580</td>\n",
       "      <td>-0.006566</td>\n",
       "      <td>0.000649</td>\n",
       "      <td>0.000716</td>\n",
       "      <td>-0.009704</td>\n",
       "      <td>-0.022839</td>\n",
       "      <td>-0.005823</td>\n",
       "      <td>-0.011402</td>\n",
       "      <td>...</td>\n",
       "      <td>-0.007772</td>\n",
       "      <td>-0.003895</td>\n",
       "      <td>0.030075</td>\n",
       "      <td>-0.014002</td>\n",
       "      <td>-0.032747</td>\n",
       "      <td>-0.008661</td>\n",
       "      <td>-0.007144</td>\n",
       "      <td>0.001759</td>\n",
       "      <td>0.002862</td>\n",
       "      <td>-0.040032</td>\n",
       "    </tr>\n",
       "    <tr>\n",
       "      <td>32</td>\n",
       "      <td>-0.004810</td>\n",
       "      <td>-0.006883</td>\n",
       "      <td>-0.002188</td>\n",
       "      <td>-0.003341</td>\n",
       "      <td>-0.003499</td>\n",
       "      <td>-0.003320</td>\n",
       "      <td>-0.006235</td>\n",
       "      <td>-0.000762</td>\n",
       "      <td>0.001649</td>\n",
       "      <td>-0.000685</td>\n",
       "      <td>...</td>\n",
       "      <td>0.006093</td>\n",
       "      <td>-0.001148</td>\n",
       "      <td>0.005047</td>\n",
       "      <td>-0.010676</td>\n",
       "      <td>-0.023957</td>\n",
       "      <td>-0.000654</td>\n",
       "      <td>0.000465</td>\n",
       "      <td>0.003089</td>\n",
       "      <td>-0.000074</td>\n",
       "      <td>0.006413</td>\n",
       "    </tr>\n",
       "    <tr>\n",
       "      <td>33</td>\n",
       "      <td>0.010267</td>\n",
       "      <td>-0.001739</td>\n",
       "      <td>-0.007054</td>\n",
       "      <td>-0.006813</td>\n",
       "      <td>-0.006434</td>\n",
       "      <td>-0.007813</td>\n",
       "      <td>-0.011498</td>\n",
       "      <td>-0.008556</td>\n",
       "      <td>-0.003948</td>\n",
       "      <td>-0.001555</td>\n",
       "      <td>...</td>\n",
       "      <td>0.022022</td>\n",
       "      <td>-0.001669</td>\n",
       "      <td>0.024754</td>\n",
       "      <td>-0.007557</td>\n",
       "      <td>-0.023707</td>\n",
       "      <td>-0.013007</td>\n",
       "      <td>-0.004383</td>\n",
       "      <td>0.001648</td>\n",
       "      <td>-0.000229</td>\n",
       "      <td>0.006948</td>\n",
       "    </tr>\n",
       "    <tr>\n",
       "      <td>34</td>\n",
       "      <td>-0.003934</td>\n",
       "      <td>-0.016064</td>\n",
       "      <td>-0.011228</td>\n",
       "      <td>-0.009666</td>\n",
       "      <td>-0.005699</td>\n",
       "      <td>-0.009709</td>\n",
       "      <td>-0.022746</td>\n",
       "      <td>-0.005483</td>\n",
       "      <td>-0.004969</td>\n",
       "      <td>-0.010334</td>\n",
       "      <td>...</td>\n",
       "      <td>0.042287</td>\n",
       "      <td>0.000559</td>\n",
       "      <td>0.029938</td>\n",
       "      <td>-0.022855</td>\n",
       "      <td>-0.054295</td>\n",
       "      <td>-0.027884</td>\n",
       "      <td>0.002171</td>\n",
       "      <td>0.007957</td>\n",
       "      <td>0.004683</td>\n",
       "      <td>0.005800</td>\n",
       "    </tr>\n",
       "    <tr>\n",
       "      <td>35</td>\n",
       "      <td>0.034145</td>\n",
       "      <td>0.035431</td>\n",
       "      <td>0.013016</td>\n",
       "      <td>0.017496</td>\n",
       "      <td>0.008149</td>\n",
       "      <td>-0.003934</td>\n",
       "      <td>-0.032279</td>\n",
       "      <td>0.011831</td>\n",
       "      <td>-0.001770</td>\n",
       "      <td>-0.007057</td>\n",
       "      <td>...</td>\n",
       "      <td>0.018001</td>\n",
       "      <td>-0.004917</td>\n",
       "      <td>0.018446</td>\n",
       "      <td>-0.032286</td>\n",
       "      <td>-0.089720</td>\n",
       "      <td>-0.048115</td>\n",
       "      <td>0.012161</td>\n",
       "      <td>0.005118</td>\n",
       "      <td>-0.002293</td>\n",
       "      <td>-0.009276</td>\n",
       "    </tr>\n",
       "    <tr>\n",
       "      <td>36</td>\n",
       "      <td>0.007877</td>\n",
       "      <td>0.003682</td>\n",
       "      <td>0.001468</td>\n",
       "      <td>-0.000586</td>\n",
       "      <td>0.001147</td>\n",
       "      <td>-0.002341</td>\n",
       "      <td>0.002569</td>\n",
       "      <td>0.011603</td>\n",
       "      <td>-0.003640</td>\n",
       "      <td>0.005433</td>\n",
       "      <td>...</td>\n",
       "      <td>1.000000</td>\n",
       "      <td>0.021277</td>\n",
       "      <td>0.028471</td>\n",
       "      <td>-0.005529</td>\n",
       "      <td>-0.009344</td>\n",
       "      <td>0.013814</td>\n",
       "      <td>0.014392</td>\n",
       "      <td>0.007978</td>\n",
       "      <td>0.001015</td>\n",
       "      <td>-0.034338</td>\n",
       "    </tr>\n",
       "    <tr>\n",
       "      <td>37</td>\n",
       "      <td>0.008257</td>\n",
       "      <td>0.005805</td>\n",
       "      <td>0.000765</td>\n",
       "      <td>0.002631</td>\n",
       "      <td>-0.000848</td>\n",
       "      <td>-0.001227</td>\n",
       "      <td>-0.016664</td>\n",
       "      <td>-0.007621</td>\n",
       "      <td>-0.009436</td>\n",
       "      <td>0.000452</td>\n",
       "      <td>...</td>\n",
       "      <td>0.021277</td>\n",
       "      <td>1.000000</td>\n",
       "      <td>0.001428</td>\n",
       "      <td>-0.031855</td>\n",
       "      <td>-0.057953</td>\n",
       "      <td>-0.023190</td>\n",
       "      <td>0.008814</td>\n",
       "      <td>0.013070</td>\n",
       "      <td>0.012007</td>\n",
       "      <td>0.038755</td>\n",
       "    </tr>\n",
       "    <tr>\n",
       "      <td>38</td>\n",
       "      <td>0.012452</td>\n",
       "      <td>0.004401</td>\n",
       "      <td>-0.001368</td>\n",
       "      <td>-0.006855</td>\n",
       "      <td>-0.010059</td>\n",
       "      <td>0.002073</td>\n",
       "      <td>0.032886</td>\n",
       "      <td>0.003595</td>\n",
       "      <td>0.007889</td>\n",
       "      <td>0.030700</td>\n",
       "      <td>...</td>\n",
       "      <td>0.028471</td>\n",
       "      <td>0.001428</td>\n",
       "      <td>1.000000</td>\n",
       "      <td>0.064902</td>\n",
       "      <td>0.105905</td>\n",
       "      <td>0.064789</td>\n",
       "      <td>-0.002726</td>\n",
       "      <td>-0.004127</td>\n",
       "      <td>-0.011781</td>\n",
       "      <td>0.003479</td>\n",
       "    </tr>\n",
       "    <tr>\n",
       "      <td>39</td>\n",
       "      <td>-0.030499</td>\n",
       "      <td>-0.025947</td>\n",
       "      <td>-0.013067</td>\n",
       "      <td>-0.006344</td>\n",
       "      <td>0.010147</td>\n",
       "      <td>0.001655</td>\n",
       "      <td>-0.025903</td>\n",
       "      <td>-0.019783</td>\n",
       "      <td>-0.009094</td>\n",
       "      <td>-0.032292</td>\n",
       "      <td>...</td>\n",
       "      <td>-0.005529</td>\n",
       "      <td>-0.031855</td>\n",
       "      <td>0.064902</td>\n",
       "      <td>1.000000</td>\n",
       "      <td>-0.098402</td>\n",
       "      <td>-0.026428</td>\n",
       "      <td>0.000253</td>\n",
       "      <td>0.014014</td>\n",
       "      <td>0.005528</td>\n",
       "      <td>0.009316</td>\n",
       "    </tr>\n",
       "    <tr>\n",
       "      <td>40</td>\n",
       "      <td>0.002206</td>\n",
       "      <td>0.008825</td>\n",
       "      <td>-0.002710</td>\n",
       "      <td>0.010616</td>\n",
       "      <td>0.012006</td>\n",
       "      <td>-0.008174</td>\n",
       "      <td>-0.082717</td>\n",
       "      <td>-0.028370</td>\n",
       "      <td>-0.018650</td>\n",
       "      <td>-0.050006</td>\n",
       "      <td>...</td>\n",
       "      <td>-0.009344</td>\n",
       "      <td>-0.057953</td>\n",
       "      <td>0.105905</td>\n",
       "      <td>-0.098402</td>\n",
       "      <td>1.000000</td>\n",
       "      <td>-0.110567</td>\n",
       "      <td>-0.000524</td>\n",
       "      <td>0.036796</td>\n",
       "      <td>0.018320</td>\n",
       "      <td>-0.016073</td>\n",
       "    </tr>\n",
       "    <tr>\n",
       "      <td>41</td>\n",
       "      <td>0.002712</td>\n",
       "      <td>0.006914</td>\n",
       "      <td>0.005421</td>\n",
       "      <td>0.007536</td>\n",
       "      <td>0.003894</td>\n",
       "      <td>-0.001132</td>\n",
       "      <td>-0.043584</td>\n",
       "      <td>-0.000628</td>\n",
       "      <td>0.002440</td>\n",
       "      <td>-0.027097</td>\n",
       "      <td>...</td>\n",
       "      <td>0.013814</td>\n",
       "      <td>-0.023190</td>\n",
       "      <td>0.064789</td>\n",
       "      <td>-0.026428</td>\n",
       "      <td>-0.110567</td>\n",
       "      <td>1.000000</td>\n",
       "      <td>-0.002352</td>\n",
       "      <td>-0.011379</td>\n",
       "      <td>-0.050014</td>\n",
       "      <td>0.010459</td>\n",
       "    </tr>\n",
       "    <tr>\n",
       "      <td>42</td>\n",
       "      <td>-0.015143</td>\n",
       "      <td>-0.027689</td>\n",
       "      <td>-0.014713</td>\n",
       "      <td>-0.012816</td>\n",
       "      <td>-0.000506</td>\n",
       "      <td>-0.001321</td>\n",
       "      <td>0.010842</td>\n",
       "      <td>-0.033278</td>\n",
       "      <td>-0.007473</td>\n",
       "      <td>-0.002875</td>\n",
       "      <td>...</td>\n",
       "      <td>0.014392</td>\n",
       "      <td>0.008814</td>\n",
       "      <td>-0.002726</td>\n",
       "      <td>0.000253</td>\n",
       "      <td>-0.000524</td>\n",
       "      <td>-0.002352</td>\n",
       "      <td>1.000000</td>\n",
       "      <td>-0.000161</td>\n",
       "      <td>0.004966</td>\n",
       "      <td>-0.014633</td>\n",
       "    </tr>\n",
       "    <tr>\n",
       "      <td>43</td>\n",
       "      <td>0.002934</td>\n",
       "      <td>0.009132</td>\n",
       "      <td>0.003588</td>\n",
       "      <td>0.005102</td>\n",
       "      <td>0.001702</td>\n",
       "      <td>0.002119</td>\n",
       "      <td>0.005171</td>\n",
       "      <td>0.009421</td>\n",
       "      <td>0.005279</td>\n",
       "      <td>0.000454</td>\n",
       "      <td>...</td>\n",
       "      <td>0.007978</td>\n",
       "      <td>0.013070</td>\n",
       "      <td>-0.004127</td>\n",
       "      <td>0.014014</td>\n",
       "      <td>0.036796</td>\n",
       "      <td>-0.011379</td>\n",
       "      <td>-0.000161</td>\n",
       "      <td>1.000000</td>\n",
       "      <td>-0.028937</td>\n",
       "      <td>-0.006116</td>\n",
       "    </tr>\n",
       "    <tr>\n",
       "      <td>44</td>\n",
       "      <td>-0.005605</td>\n",
       "      <td>0.003490</td>\n",
       "      <td>0.004391</td>\n",
       "      <td>0.004593</td>\n",
       "      <td>0.006018</td>\n",
       "      <td>0.004470</td>\n",
       "      <td>-0.008807</td>\n",
       "      <td>0.025362</td>\n",
       "      <td>0.010202</td>\n",
       "      <td>-0.019685</td>\n",
       "      <td>...</td>\n",
       "      <td>0.001015</td>\n",
       "      <td>0.012007</td>\n",
       "      <td>-0.011781</td>\n",
       "      <td>0.005528</td>\n",
       "      <td>0.018320</td>\n",
       "      <td>-0.050014</td>\n",
       "      <td>0.004966</td>\n",
       "      <td>-0.028937</td>\n",
       "      <td>1.000000</td>\n",
       "      <td>0.008600</td>\n",
       "    </tr>\n",
       "    <tr>\n",
       "      <td>Expr1</td>\n",
       "      <td>-0.003786</td>\n",
       "      <td>0.040553</td>\n",
       "      <td>-0.005368</td>\n",
       "      <td>-0.050448</td>\n",
       "      <td>-0.026064</td>\n",
       "      <td>0.038762</td>\n",
       "      <td>-0.025357</td>\n",
       "      <td>-0.005889</td>\n",
       "      <td>0.011408</td>\n",
       "      <td>0.000572</td>\n",
       "      <td>...</td>\n",
       "      <td>-0.034338</td>\n",
       "      <td>0.038755</td>\n",
       "      <td>0.003479</td>\n",
       "      <td>0.009316</td>\n",
       "      <td>-0.016073</td>\n",
       "      <td>0.010459</td>\n",
       "      <td>-0.014633</td>\n",
       "      <td>-0.006116</td>\n",
       "      <td>0.008600</td>\n",
       "      <td>1.000000</td>\n",
       "    </tr>\n",
       "  </tbody>\n",
       "</table>\n",
       "<p>46 rows × 46 columns</p>\n",
       "</div>"
      ],
      "text/plain": [
       "              0         1         2         3         4         5         6  \\\n",
       "0      1.000000 -0.095796 -0.035111 -0.033138  0.004660  0.004137  0.032686   \n",
       "1     -0.095796  1.000000 -0.039811 -0.040775 -0.004942  0.002544  0.029558   \n",
       "2     -0.035111 -0.039811  1.000000 -0.015662 -0.004273  0.000190  0.011659   \n",
       "3     -0.033138 -0.040775 -0.015662  1.000000 -0.001757 -0.003746  0.019124   \n",
       "4      0.004660 -0.004942 -0.004273 -0.001757  1.000000 -0.000516  0.008059   \n",
       "5      0.004137  0.002544  0.000190 -0.003746 -0.000516  1.000000 -0.004460   \n",
       "6      0.032686  0.029558  0.011659  0.019124  0.008059 -0.004460  1.000000   \n",
       "7     -0.111856 -0.126807 -0.057235 -0.056314 -0.013751 -0.009366  0.012441   \n",
       "8     -0.018342 -0.025879 -0.011547 -0.010958 -0.001376 -0.000676 -0.003833   \n",
       "9     -0.042145 -0.022992 -0.005783  0.001650  0.012534  0.001014 -0.024867   \n",
       "10    -0.017022 -0.015653 -0.006870 -0.003063 -0.002604 -0.001782 -0.005686   \n",
       "11    -0.033856 -0.016890 -0.005757  0.001309  0.008070  0.005915  0.006851   \n",
       "12     0.015985  0.005803 -0.000095  0.003596 -0.001617 -0.008809 -0.038465   \n",
       "13    -0.001664  0.000159  0.000948 -0.000223  0.000376  0.000199  0.010384   \n",
       "14     0.009341  0.006635 -0.000703  0.011446  0.006168 -0.004469 -0.063139   \n",
       "15    -0.140044 -0.136573 -0.053029 -0.054955 -0.013233 -0.003918  0.039146   \n",
       "16    -0.019393 -0.019833 -0.008432 -0.006514 -0.000699 -0.003337 -0.003015   \n",
       "17     0.005632  0.003270 -0.007107  0.009536  0.014113 -0.018013 -0.134074   \n",
       "18    -0.048338 -0.041862 -0.013879 -0.015897 -0.003796  0.001344  0.024301   \n",
       "19     0.020147  0.021091  0.004818  0.018588  0.013689  0.001261 -0.055032   \n",
       "20    -0.034165 -0.030676 -0.014310 -0.013226  0.002086 -0.001231  0.005676   \n",
       "21    -0.036507 -0.030168 -0.008808 -0.009506  0.002118 -0.001343 -0.002753   \n",
       "22     0.020301  0.017696  0.007113  0.005545 -0.002584  0.005524  0.036007   \n",
       "23    -0.021341 -0.014938 -0.010316 -0.000231  0.008839 -0.001570 -0.036732   \n",
       "24    -0.001751 -0.003212 -0.003576 -0.000646  0.000243 -0.006032 -0.006874   \n",
       "25    -0.023348 -0.017003 -0.005156  0.001153  0.008076  0.003840 -0.016214   \n",
       "26     0.005565  0.007232  0.004263 -0.000069 -0.003048  0.000725  0.014536   \n",
       "27    -0.013599 -0.014981 -0.016291 -0.005228  0.003917 -0.002751 -0.021938   \n",
       "28    -0.012021 -0.008750 -0.003960 -0.001672 -0.002376  0.001028  0.009715   \n",
       "29    -0.002915  0.000190  0.001797 -0.001042 -0.002235 -0.000122  0.009760   \n",
       "30     0.003422  0.000778 -0.001810 -0.000140  0.000223 -0.002711 -0.006402   \n",
       "31    -0.011718 -0.013582 -0.008580 -0.006566  0.000649  0.000716 -0.009704   \n",
       "32    -0.004810 -0.006883 -0.002188 -0.003341 -0.003499 -0.003320 -0.006235   \n",
       "33     0.010267 -0.001739 -0.007054 -0.006813 -0.006434 -0.007813 -0.011498   \n",
       "34    -0.003934 -0.016064 -0.011228 -0.009666 -0.005699 -0.009709 -0.022746   \n",
       "35     0.034145  0.035431  0.013016  0.017496  0.008149 -0.003934 -0.032279   \n",
       "36     0.007877  0.003682  0.001468 -0.000586  0.001147 -0.002341  0.002569   \n",
       "37     0.008257  0.005805  0.000765  0.002631 -0.000848 -0.001227 -0.016664   \n",
       "38     0.012452  0.004401 -0.001368 -0.006855 -0.010059  0.002073  0.032886   \n",
       "39    -0.030499 -0.025947 -0.013067 -0.006344  0.010147  0.001655 -0.025903   \n",
       "40     0.002206  0.008825 -0.002710  0.010616  0.012006 -0.008174 -0.082717   \n",
       "41     0.002712  0.006914  0.005421  0.007536  0.003894 -0.001132 -0.043584   \n",
       "42    -0.015143 -0.027689 -0.014713 -0.012816 -0.000506 -0.001321  0.010842   \n",
       "43     0.002934  0.009132  0.003588  0.005102  0.001702  0.002119  0.005171   \n",
       "44    -0.005605  0.003490  0.004391  0.004593  0.006018  0.004470 -0.008807   \n",
       "Expr1 -0.003786  0.040553 -0.005368 -0.050448 -0.026064  0.038762 -0.025357   \n",
       "\n",
       "              7         8         9  ...        36        37        38  \\\n",
       "0     -0.111856 -0.018342 -0.042145  ...  0.007877  0.008257  0.012452   \n",
       "1     -0.126807 -0.025879 -0.022992  ...  0.003682  0.005805  0.004401   \n",
       "2     -0.057235 -0.011547 -0.005783  ...  0.001468  0.000765 -0.001368   \n",
       "3     -0.056314 -0.010958  0.001650  ... -0.000586  0.002631 -0.006855   \n",
       "4     -0.013751 -0.001376  0.012534  ...  0.001147 -0.000848 -0.010059   \n",
       "5     -0.009366 -0.000676  0.001014  ... -0.002341 -0.001227  0.002073   \n",
       "6      0.012441 -0.003833 -0.024867  ...  0.002569 -0.016664  0.032886   \n",
       "7      1.000000 -0.033614 -0.013264  ...  0.011603 -0.007621  0.003595   \n",
       "8     -0.033614  1.000000 -0.001126  ... -0.003640 -0.009436  0.007889   \n",
       "9     -0.013264 -0.001126  1.000000  ...  0.005433  0.000452  0.030700   \n",
       "10    -0.014374 -0.004956 -0.016730  ...  0.005522 -0.003825  0.008491   \n",
       "11     0.006300  0.008610 -0.024961  ...  0.007490  0.015345  0.005484   \n",
       "12    -0.017844 -0.013306  0.002005  ... -0.002576 -0.022528  0.025533   \n",
       "13     0.005973  0.000566  0.000797  ... -0.002107  0.004988 -0.002111   \n",
       "14    -0.012743 -0.011558 -0.022595  ... -0.004023 -0.024247  0.050122   \n",
       "15    -0.148386 -0.019810 -0.035270  ... -0.002299  0.001367  0.014528   \n",
       "16    -0.028341 -0.005792 -0.011871  ...  0.002494  0.000765  0.014044   \n",
       "17    -0.032042 -0.027471 -0.067744  ...  0.038584 -0.049642  0.115951   \n",
       "18    -0.034760 -0.005427 -0.012799  ... -0.013616  0.001486 -0.002576   \n",
       "19    -0.013537 -0.006123 -0.031123  ... -0.059471 -0.043232  0.036454   \n",
       "20    -0.027557 -0.004892 -0.011345  ...  0.021206  0.005361  0.020717   \n",
       "21    -0.030287 -0.008854 -0.014907  ...  0.011082 -0.001802  0.019359   \n",
       "22     0.026620  0.015699  0.017990  ... -0.030455  0.025641 -0.029067   \n",
       "23    -0.038171 -0.012006 -0.031000  ... -0.015286 -0.038249  0.040758   \n",
       "24    -0.009442 -0.004840 -0.005376  ...  0.021495  0.001701  0.017582   \n",
       "25    -0.017805  0.002308 -0.030382  ... -0.055922 -0.027319  0.009634   \n",
       "26     0.008745  0.006994  0.011206  ... -0.008639  0.003818 -0.029336   \n",
       "27    -0.010295 -0.003048 -0.020466  ... -0.020808 -0.014627  0.028316   \n",
       "28     0.001768  0.011796 -0.002350  ... -0.058261 -0.020867 -0.037062   \n",
       "29    -0.001690  0.004706  0.007018  ... -0.010546 -0.004385 -0.023250   \n",
       "30    -0.003135 -0.003246 -0.004713  ...  0.011177  0.011485  0.015881   \n",
       "31    -0.022839 -0.005823 -0.011402  ... -0.007772 -0.003895  0.030075   \n",
       "32    -0.000762  0.001649 -0.000685  ...  0.006093 -0.001148  0.005047   \n",
       "33    -0.008556 -0.003948 -0.001555  ...  0.022022 -0.001669  0.024754   \n",
       "34    -0.005483 -0.004969 -0.010334  ...  0.042287  0.000559  0.029938   \n",
       "35     0.011831 -0.001770 -0.007057  ...  0.018001 -0.004917  0.018446   \n",
       "36     0.011603 -0.003640  0.005433  ...  1.000000  0.021277  0.028471   \n",
       "37    -0.007621 -0.009436  0.000452  ...  0.021277  1.000000  0.001428   \n",
       "38     0.003595  0.007889  0.030700  ...  0.028471  0.001428  1.000000   \n",
       "39    -0.019783 -0.009094 -0.032292  ... -0.005529 -0.031855  0.064902   \n",
       "40    -0.028370 -0.018650 -0.050006  ... -0.009344 -0.057953  0.105905   \n",
       "41    -0.000628  0.002440 -0.027097  ...  0.013814 -0.023190  0.064789   \n",
       "42    -0.033278 -0.007473 -0.002875  ...  0.014392  0.008814 -0.002726   \n",
       "43     0.009421  0.005279  0.000454  ...  0.007978  0.013070 -0.004127   \n",
       "44     0.025362  0.010202 -0.019685  ...  0.001015  0.012007 -0.011781   \n",
       "Expr1 -0.005889  0.011408  0.000572  ... -0.034338  0.038755  0.003479   \n",
       "\n",
       "             39        40        41        42        43        44     Expr1  \n",
       "0     -0.030499  0.002206  0.002712 -0.015143  0.002934 -0.005605 -0.003786  \n",
       "1     -0.025947  0.008825  0.006914 -0.027689  0.009132  0.003490  0.040553  \n",
       "2     -0.013067 -0.002710  0.005421 -0.014713  0.003588  0.004391 -0.005368  \n",
       "3     -0.006344  0.010616  0.007536 -0.012816  0.005102  0.004593 -0.050448  \n",
       "4      0.010147  0.012006  0.003894 -0.000506  0.001702  0.006018 -0.026064  \n",
       "5      0.001655 -0.008174 -0.001132 -0.001321  0.002119  0.004470  0.038762  \n",
       "6     -0.025903 -0.082717 -0.043584  0.010842  0.005171 -0.008807 -0.025357  \n",
       "7     -0.019783 -0.028370 -0.000628 -0.033278  0.009421  0.025362 -0.005889  \n",
       "8     -0.009094 -0.018650  0.002440 -0.007473  0.005279  0.010202  0.011408  \n",
       "9     -0.032292 -0.050006 -0.027097 -0.002875  0.000454 -0.019685  0.000572  \n",
       "10    -0.011846 -0.019195 -0.011043  0.000784  0.006286 -0.004892 -0.036846  \n",
       "11    -0.003739  0.013074 -0.012325  0.000700 -0.007372 -0.027222  0.006549  \n",
       "12    -0.028558 -0.080822 -0.018585 -0.004385  0.013996  0.023614 -0.006866  \n",
       "13     0.003531  0.017572  0.005086  0.003833 -0.001304 -0.005282  0.018672  \n",
       "14    -0.037563 -0.118900 -0.050804 -0.001272  0.007685  0.004485 -0.046374  \n",
       "15    -0.012922  0.032798  0.021619 -0.050720  0.006054 -0.007698 -0.014896  \n",
       "16    -0.012772 -0.017268 -0.008018 -0.007853  0.000271 -0.011221 -0.009900  \n",
       "17    -0.105895 -0.299216 -0.136508  0.011630  0.030745 -0.004364  0.032757  \n",
       "18     0.004673  0.037612  0.026354 -0.021789 -0.000844  0.002012  0.012047  \n",
       "19    -0.039259 -0.125629 -0.058481 -0.005135  0.010638  0.007201  0.005724  \n",
       "20    -0.016974 -0.001626  0.003433 -0.011364  0.005155 -0.004484  0.044127  \n",
       "21    -0.014852 -0.011692 -0.013108 -0.011450  0.000889 -0.010336 -0.004653  \n",
       "22     0.040268  0.116358  0.031739  0.005645 -0.024013 -0.009974  0.007077  \n",
       "23    -0.042377 -0.113802 -0.032481 -0.016148  0.020108  0.011699  0.010765  \n",
       "24    -0.009709 -0.034080 -0.015268 -0.001244 -0.001556 -0.000818 -0.008870  \n",
       "25    -0.027224 -0.043677 -0.020443 -0.006749  0.009719 -0.001138 -0.002540  \n",
       "26     0.015338  0.042237  0.013585  0.006363  0.004435  0.002003 -0.006393  \n",
       "27    -0.024868 -0.051484 -0.013582 -0.004592  0.006058  0.000713 -0.000270  \n",
       "28     0.013053  0.036918  0.018612  0.001050  0.006022  0.001033  0.004649  \n",
       "29     0.012444  0.023617  0.005390  0.001015  0.005507  0.003031 -0.036936  \n",
       "30    -0.006781 -0.021638 -0.025896  0.001901 -0.011092 -0.013238  0.016696  \n",
       "31    -0.014002 -0.032747 -0.008661 -0.007144  0.001759  0.002862 -0.040032  \n",
       "32    -0.010676 -0.023957 -0.000654  0.000465  0.003089 -0.000074  0.006413  \n",
       "33    -0.007557 -0.023707 -0.013007 -0.004383  0.001648 -0.000229  0.006948  \n",
       "34    -0.022855 -0.054295 -0.027884  0.002171  0.007957  0.004683  0.005800  \n",
       "35    -0.032286 -0.089720 -0.048115  0.012161  0.005118 -0.002293 -0.009276  \n",
       "36    -0.005529 -0.009344  0.013814  0.014392  0.007978  0.001015 -0.034338  \n",
       "37    -0.031855 -0.057953 -0.023190  0.008814  0.013070  0.012007  0.038755  \n",
       "38     0.064902  0.105905  0.064789 -0.002726 -0.004127 -0.011781  0.003479  \n",
       "39     1.000000 -0.098402 -0.026428  0.000253  0.014014  0.005528  0.009316  \n",
       "40    -0.098402  1.000000 -0.110567 -0.000524  0.036796  0.018320 -0.016073  \n",
       "41    -0.026428 -0.110567  1.000000 -0.002352 -0.011379 -0.050014  0.010459  \n",
       "42     0.000253 -0.000524 -0.002352  1.000000 -0.000161  0.004966 -0.014633  \n",
       "43     0.014014  0.036796 -0.011379 -0.000161  1.000000 -0.028937 -0.006116  \n",
       "44     0.005528  0.018320 -0.050014  0.004966 -0.028937  1.000000  0.008600  \n",
       "Expr1  0.009316 -0.016073  0.010459 -0.014633 -0.006116  0.008600  1.000000  \n",
       "\n",
       "[46 rows x 46 columns]"
      ]
     },
     "execution_count": 87,
     "metadata": {},
     "output_type": "execute_result"
    }
   ],
   "source": [
    "x_pca_df.corr()"
   ]
  },
  {
   "cell_type": "code",
   "execution_count": 88,
   "metadata": {},
   "outputs": [
    {
     "data": {
      "text/plain": [
       "(162813, 47)"
      ]
     },
     "execution_count": 88,
     "metadata": {},
     "output_type": "execute_result"
    }
   ],
   "source": [
    "x_pca_df.shape"
   ]
  },
  {
   "cell_type": "code",
   "execution_count": 63,
   "metadata": {},
   "outputs": [
    {
     "data": {
      "text/plain": [
       "(162815, 47)"
      ]
     },
     "execution_count": 63,
     "metadata": {},
     "output_type": "execute_result"
    }
   ],
   "source": [
    "d2.shape"
   ]
  },
  {
   "cell_type": "code",
   "execution_count": 155,
   "metadata": {},
   "outputs": [],
   "source": [
    "X = x_pca_df.drop(columns=['Expr1','c_institution_id'])\n",
    "Y = x_pca_df['Expr1'].astype('int')\n",
    "# Splitting the dataset into the Training set and Test set\n",
    "X_train, X_test, Y_train, Y_test = train_test_split(X, Y, test_size = 0.25, random_state = 0)"
   ]
  },
  {
   "cell_type": "code",
   "execution_count": 156,
   "metadata": {},
   "outputs": [
    {
     "data": {
      "text/plain": [
       "0    40359\n",
       "1      345\n",
       "Name: Expr1, dtype: int64"
      ]
     },
     "execution_count": 156,
     "metadata": {},
     "output_type": "execute_result"
    }
   ],
   "source": [
    "Y_test.value_counts()"
   ]
  },
  {
   "cell_type": "code",
   "execution_count": 157,
   "metadata": {},
   "outputs": [
    {
     "data": {
      "text/plain": [
       "Index([ 0,  1,  2,  3,  4,  5,  6,  7,  8,  9, 10, 11, 12, 13, 14, 15, 16, 17,\n",
       "       18, 19, 20, 21, 22, 23, 24, 25, 26, 27, 28, 29, 30, 31, 32, 33, 34, 35,\n",
       "       36, 37, 38, 39, 40, 41, 42, 43, 44],\n",
       "      dtype='object')"
      ]
     },
     "execution_count": 157,
     "metadata": {},
     "output_type": "execute_result"
    }
   ],
   "source": [
    "X.columns"
   ]
  },
  {
   "cell_type": "code",
   "execution_count": 66,
   "metadata": {},
   "outputs": [],
   "source": [
    "from sklearn.model_selection import KFold"
   ]
  },
  {
   "cell_type": "code",
   "execution_count": 67,
   "metadata": {},
   "outputs": [],
   "source": [
    "from sklearn.model_selection import RepeatedStratifiedKFold\n",
    "from sklearn.model_selection import cross_val_score\n",
    "from imblearn.pipeline import Pipeline\n",
    "from imblearn.over_sampling import SMOTE"
   ]
  },
  {
   "cell_type": "code",
   "execution_count": 159,
   "metadata": {},
   "outputs": [
    {
     "data": {
      "text/plain": [
       "(162813, 45)"
      ]
     },
     "execution_count": 159,
     "metadata": {},
     "output_type": "execute_result"
    }
   ],
   "source": [
    "X.shape\n"
   ]
  },
  {
   "cell_type": "code",
   "execution_count": 31,
   "metadata": {},
   "outputs": [
    {
     "name": "stdout",
     "output_type": "stream",
     "text": [
      "[0.02516175 0.02270346 0.02118644 0.02528576 0.0256593  0.02389573\n",
      " 0.0237931  0.02152778 0.02514845 0.02403021 0.02375215 0.02705628\n",
      " 0.02532963 0.02493075 0.02398854 0.02399713 0.02486486 0.0227758\n",
      " 0.02115319 0.02039452 0.02284898 0.02444062 0.02253726 0.02212079\n",
      " 0.02373581 0.02503429 0.02369838 0.0253073  0.02579979 0.02328767]\n"
     ]
    }
   ],
   "source": [
    "#Using Logistic Regression Algorithm to the Training Set\n",
    "from sklearn.linear_model import LogisticRegression\n",
    "steps = [('over', SMOTE()), ('model', LogisticRegression())]\n",
    "pipeline = Pipeline(steps=steps)\n",
    "#cv = RepeatedKFold(n_splits=10, n_repeats=3, random_state=1)\n",
    "cv = RepeatedStratifiedKFold(n_splits=10, n_repeats=3, random_state=1)\n",
    "scores = cross_val_score(pipeline,X_train, Y_train, scoring='precision', cv=cv, n_jobs=-1)\n",
    "#print('Mean ROC AUC: %.3f' % mean(scores))\n",
    "#lr_classifier = LogisticRegression(random_state = 0)\n",
    "#scores = cross_val_score(lr_classifier, X_train, Y_train, scoring='precision', cv=cv, n_jobs=-1) \n",
    "#Y_pred = lr_classifier.predict(X_test)\n",
    "#cm = confusion_matrix(Y_test, Y_pred)\n",
    "#print('Accuracy = '+str(round(((cm[0][0]+cm[1][1])/(cm[0][0]+cm[1][0]+cm[1][1]+cm[0][1])*100),2))+'%')\n",
    "#print('TPR = '+str(round(((cm[1][1])/(cm[0][0]+cm[1][1])*100),2))+'%')\n",
    "#print('FPR = '+str(round(((cm[0][1])/(cm[0][1]+cm[1][1])*100),2))+'%')\n",
    "#print(cm)\n",
    "print(scores)"
   ]
  },
  {
   "cell_type": "code",
   "execution_count": 160,
   "metadata": {},
   "outputs": [
    {
     "name": "stdout",
     "output_type": "stream",
     "text": [
      "Accuracy = 99.12%\n",
      "[[40335    24]\n",
      " [  334    11]]\n"
     ]
    }
   ],
   "source": [
    "#Using KNeighborsClassifier Method of neighbors class to use Nearest Neighbor algorithm\n",
    "from sklearn.neighbors import KNeighborsClassifier\n",
    "knn_classifier = KNeighborsClassifier(n_neighbors = 5, metric = 'minkowski', p = 2)\n",
    "knn_classifier.fit(X_train, Y_train)\n",
    "Y_pred = knn_classifier.predict(X_test)\n",
    "cm = confusion_matrix(Y_test, Y_pred)\n",
    "print('Accuracy = '+str(round(((cm[0][0]+cm[1][1])/(cm[0][0]+cm[1][0]+cm[1][1]+cm[0][1])*100),2))+'%')\n",
    "#print('TPR = '+str(round(((cm[1][1])/(cm[0][0]+cm[1][1])*100),2))+'%')\n",
    "#print('FPR = '+str(round(((cm[0][1])/(cm[0][1]+cm[1][1])*100),2))+'%')\n",
    "print(cm)"
   ]
  },
  {
   "cell_type": "code",
   "execution_count": null,
   "metadata": {},
   "outputs": [],
   "source": [
    "#Using SVC method of svm class to use Support Vector Machine Algorithm\n",
    "from sklearn.svm import SVC\n",
    "steps = [('over', SMOTE()), ('model', SVC(kernel = 'linear', random_state = 0))]\n",
    "pipeline = Pipeline(steps=steps)\n",
    "#cv = RepeatedKFold(n_splits=10, n_repeats=3, random_state=1)\n",
    "cv = RepeatedStratifiedKFold(n_splits=10, n_repeats=3, random_state=1)\n",
    "scores = cross_val_score(pipeline,X_train, Y_train, scoring='roc_auc', cv=cv, n_jobs=-1)\n",
    "#print('Mean ROC AUC: %.3f' % mean(scores))\n",
    "#lr_classifier = LogisticRegression(random_state = 0)\n",
    "#scores = cross_val_score(lr_classifier, X_train, Y_train, scoring='precision', cv=cv, n_jobs=-1) \n",
    "#Y_pred = lr_classifier.predict(X_test)\n",
    "#cm = confusion_matrix(Y_test, Y_pred)\n",
    "#print('Accuracy = '+str(round(((cm[0][0]+cm[1][1])/(cm[0][0]+cm[1][0]+cm[1][1]+cm[0][1])*100),2))+'%')\n",
    "#print('TPR = '+str(round(((cm[1][1])/(cm[0][0]+cm[1][1])*100),2))+'%')\n",
    "#print('FPR = '+str(round(((cm[0][1])/(cm[0][1]+cm[1][1])*100),2))+'%')\n",
    "#print(cm)\n",
    "print(scores)"
   ]
  },
  {
   "cell_type": "code",
   "execution_count": 110,
   "metadata": {},
   "outputs": [
    {
     "name": "stdout",
     "output_type": "stream",
     "text": [
      "Accuracy = 99.2%\n",
      "[[14420     0]\n",
      " [  117     0]]\n"
     ]
    }
   ],
   "source": [
    "#Using SVC method of svm class to use Kernel SVM Algorithm\n",
    "from sklearn.svm import SVC\n",
    "svc2_classifier = SVC(kernel = 'rbf', random_state = 0)\n",
    "svc2_classifier.fit(X_train, Y_train)\n",
    "Y_pred = svc2_classifier.predict(X_test)\n",
    "cm = confusion_matrix(Y_test, Y_pred)\n",
    "print('Accuracy = '+str(round(((cm[0][0]+cm[1][1])/(cm[0][0]+cm[1][0]+cm[1][1]+cm[0][1])*100),2))+'%')\n",
    "#print('TPR = '+str(round(((cm[1][1])/(cm[0][0]+cm[1][1])*100),2))+'%')\n",
    "#print('FPR = '+str(round(((cm[0][1])/(cm[0][1]+cm[1][1])*100),2))+'%')\n",
    "print(cm)"
   ]
  },
  {
   "cell_type": "code",
   "execution_count": 111,
   "metadata": {},
   "outputs": [
    {
     "name": "stdout",
     "output_type": "stream",
     "text": [
      "Accuracy = 95.55%\n",
      "[[13862   558]\n",
      " [   89    28]]\n"
     ]
    }
   ],
   "source": [
    "#Using GaussianNB method of naïve_bayes class to use Naïve Bayes Algorithm\n",
    "from sklearn.naive_bayes import GaussianNB\n",
    "ga_classifier = GaussianNB()\n",
    "ga_classifier.fit(X_train, Y_train)\n",
    "Y_pred = ga_classifier.predict(X_test)\n",
    "cm = confusion_matrix(Y_test, Y_pred)\n",
    "print('Accuracy = '+str(round(((cm[0][0]+cm[1][1])/(cm[0][0]+cm[1][0]+cm[1][1]+cm[0][1])*100),2))+'%')\n",
    "#print('TPR = '+str(round(((cm[1][1])/(cm[0][0]+cm[1][1])*100),2))+'%')\n",
    "#print('FPR = '+str(round(((cm[0][1])/(cm[0][1]+cm[1][1])*100),2))+'%')\n",
    "print(cm)"
   ]
  },
  {
   "cell_type": "code",
   "execution_count": 112,
   "metadata": {},
   "outputs": [
    {
     "name": "stdout",
     "output_type": "stream",
     "text": [
      "Accuracy = 98.2%\n",
      "[[14257   163]\n",
      " [   99    18]]\n"
     ]
    }
   ],
   "source": [
    "#Using DecisionTreeClassifier of tree class to use Decision Tree Algorithm\n",
    "from sklearn.tree import DecisionTreeClassifier\n",
    "dt_classifier = DecisionTreeClassifier(criterion = 'entropy', random_state = 0)\n",
    "dt_classifier.fit(X_train, Y_train)\n",
    "Y_pred = dt_classifier.predict(X_test)\n",
    "cm = confusion_matrix(Y_test, Y_pred)\n",
    "print('Accuracy = '+str(round(((cm[0][0]+cm[1][1])/(cm[0][0]+cm[1][0]+cm[1][1]+cm[0][1])*100),2))+'%')\n",
    "#print('TPR = '+str(round(((cm[1][1])/(cm[0][0]+cm[1][1])*100),2))+'%')\n",
    "#print('FPR = '+str(round(((cm[0][1])/(cm[0][1]+cm[1][1])*100),2))+'%')\n",
    "print(cm)"
   ]
  },
  {
   "cell_type": "code",
   "execution_count": 530,
   "metadata": {},
   "outputs": [
    {
     "name": "stdout",
     "output_type": "stream",
     "text": [
      ">1, train: 0.925, test: 0.919\n",
      ">2, train: 0.925, test: 0.919\n",
      ">3, train: 0.925, test: 0.919\n",
      ">4, train: 0.927, test: 0.920\n",
      ">5, train: 0.929, test: 0.919\n",
      ">6, train: 0.931, test: 0.917\n",
      ">7, train: 0.932, test: 0.916\n",
      ">8, train: 0.938, test: 0.909\n",
      ">9, train: 0.941, test: 0.904\n",
      ">10, train: 0.947, test: 0.906\n",
      ">11, train: 0.952, test: 0.903\n",
      ">12, train: 0.956, test: 0.898\n",
      ">13, train: 0.964, test: 0.888\n",
      ">14, train: 0.971, test: 0.895\n",
      ">15, train: 0.977, test: 0.892\n",
      ">16, train: 0.982, test: 0.885\n",
      ">17, train: 0.986, test: 0.884\n",
      ">18, train: 0.988, test: 0.879\n",
      ">19, train: 0.991, test: 0.876\n",
      ">20, train: 0.992, test: 0.874\n"
     ]
    }
   ],
   "source": [
    "train_scores = []\n",
    "test_scores = []\n",
    "values = [i for i in range(1, 21)]\n",
    "for i in values:\n",
    "\t# configure the model\n",
    "\tdt_model = DecisionTreeClassifier(max_depth=i)\n",
    "\t# fit model on the training dataset\n",
    "\tdt_model.fit(X_train, Y_train)\n",
    "\t# evaluate on the train dataset\n",
    "\ttrain_yhat = dt_model.predict(X_train)\n",
    "\ttrain_acc = accuracy_score(Y_train, train_yhat)\n",
    "\ttrain_scores.append(train_acc)\n",
    "\t# evaluate on the test dataset\n",
    "\ttest_yhat = dt_model.predict(X_test)\n",
    "\ttest_acc = accuracy_score(Y_test, test_yhat)\n",
    "\ttest_scores.append(test_acc)\n",
    "\t# summarize progress\n",
    "\tprint('>%d, train: %.3f, test: %.3f' % (i, train_acc, test_acc))"
   ]
  },
  {
   "cell_type": "code",
   "execution_count": 531,
   "metadata": {},
   "outputs": [
    {
     "data": {
      "image/png": "[encoded data removed]",
      "text/plain": [
       "<Figure size 432x288 with 1 Axes>"
      ]
     },
     "metadata": {
      "needs_background": "light"
     },
     "output_type": "display_data"
    }
   ],
   "source": [
    "# plot of train and test scores vs tree depth\n",
    "pyplot.plot(values, train_scores, '-o', label='Train')\n",
    "pyplot.plot(values, test_scores, '-o', label='Test')\n",
    "pyplot.legend()\n",
    "pyplot.show()"
   ]
  },
  {
   "cell_type": "code",
   "execution_count": 36,
   "metadata": {},
   "outputs": [
    {
     "name": "stdout",
     "output_type": "stream",
     "text": [
      "Accuracy = 99.13%\n",
      "Precision = 0.02%\n",
      "[[40342    17]\n",
      " [  336     9]]\n"
     ]
    }
   ],
   "source": [
    "#Using RandomForestClassifier method of ensemble class to use Random Forest Classification algorithm\n",
    "from sklearn.ensemble import RandomForestClassifier\n",
    "rf_classifier = RandomForestClassifier(n_estimators = 10, criterion = 'entropy', random_state = 0)\n",
    "rf_classifier.fit(X_train, Y_train)\n",
    "Y_pred = rf_classifier.predict(X_test)\n",
    "cm = confusion_matrix(Y_test, Y_pred)\n",
    "print('Accuracy = '+str(round(((cm[0][0]+cm[1][1])/(cm[0][0]+cm[1][0]+cm[1][1]+cm[0][1])*100),2))+'%')\n",
    "print('Precision = '+str(round(((cm[1][1])/(cm[0][0]+cm[1][1])*100),2))+'%')\n",
    "#print('TPR = '+str(round(((cm[1][1])/(cm[0][0]+cm[1][1])*100),2))+'%')\n",
    "#print('FPR = '+str(round(((cm[0][1])/(cm[0][1]+cm[1][1])*100),2))+'%')\n",
    "print(cm)"
   ]
  },
  {
   "cell_type": "code",
   "execution_count": 33,
   "metadata": {},
   "outputs": [
    {
     "name": "stdout",
     "output_type": "stream",
     "text": [
      "[0.08333333 0.08823529 0.08666667 0.11111111 0.11965812 0.09219858\n",
      " 0.07189542 0.06521739 0.10204082 0.10897436 0.13207547 0.11392405\n",
      " 0.06081081 0.10526316 0.10884354 0.08805031 0.06766917 0.07746479\n",
      " 0.08383234 0.08333333 0.17021277 0.11724138 0.109375   0.0915493\n",
      " 0.09411765 0.056      0.07042254 0.08130081 0.0867052  0.0729927 ]\n"
     ]
    }
   ],
   "source": [
    "from sklearn.ensemble import RandomForestClassifier\n",
    "#Using Logistic Regression Algorithm to the Training Set\n",
    "steps = [('over', SMOTE()), ('model', RandomForestClassifier(n_estimators = 10, criterion = 'entropy', random_state = 0))]\n",
    "pipeline = Pipeline(steps=steps)\n",
    "#cv = RepeatedKFold(n_splits=10, n_repeats=3, random_state=1)\n",
    "cv = RepeatedStratifiedKFold(n_splits=10, n_repeats=3, random_state=1)\n",
    "scores = cross_val_score(pipeline,X_train, Y_train, scoring='precision', cv=cv, n_jobs=-1)\n",
    "#print('Mean ROC AUC: %.3f' % mean(scores))\n",
    "#lr_classifier = LogisticRegression(random_state = 0)\n",
    "#scores = cross_val_score(lr_classifier, X_train, Y_train, scoring='precision', cv=cv, n_jobs=-1) \n",
    "#Y_pred = lr_classifier.predict(X_test)\n",
    "#cm = confusion_matrix(Y_test, Y_pred)\n",
    "#print('Accuracy = '+str(round(((cm[0][0]+cm[1][1])/(cm[0][0]+cm[1][0]+cm[1][1]+cm[0][1])*100),2))+'%')\n",
    "#print('TPR = '+str(round(((cm[1][1])/(cm[0][0]+cm[1][1])*100),2))+'%')\n",
    "#print('FPR = '+str(round(((cm[0][1])/(cm[0][1]+cm[1][1])*100),2))+'%')\n",
    "#print(cm)\n",
    "print(scores)"
   ]
  },
  {
   "cell_type": "code",
   "execution_count": null,
   "metadata": {},
   "outputs": [],
   "source": [
    "steps = [('over', SMOTE()), ('model', RandomForestClassifier(n_estimators = 10, criterion = 'entropy', random_state = 0))]\n",
    "pipeline = Pipeline(steps=steps)\n",
    "#cv = RepeatedKFold(n_splits=10, n_repeats=3, random_state=1)\n",
    "cv = RepeatedStratifiedKFold(n_splits=10, n_repeats=3, random_state=1)\n",
    "scores = cross_val_score(pipeline,X_train, Y_train, scoring='precision', cv=cv, n_jobs=-1)\n",
    "#print('Mean ROC AUC: %.3f' % mean(scores))\n",
    "#lr_classifier = LogisticRegression(random_state = 0)\n",
    "#scores = cross_val_score(lr_classifier, X_train, Y_train, scoring='precision', cv=cv, n_jobs=-1) \n",
    "#Y_pred = lr_classifier.predict(X_test)\n",
    "#cm = confusion_matrix(Y_test, Y_pred)\n",
    "#print('Accuracy = '+str(round(((cm[0][0]+cm[1][1])/(cm[0][0]+cm[1][0]+cm[1][1]+cm[0][1])*100),2))+'%')\n",
    "#print('TPR = '+str(round(((cm[1][1])/(cm[0][0]+cm[1][1])*100),2))+'%')\n",
    "#print('FPR = '+str(round(((cm[0][1])/(cm[0][1]+cm[1][1])*100),2))+'%')\n",
    "#print(cm)\n",
    "print(scores)"
   ]
  },
  {
   "cell_type": "code",
   "execution_count": 580,
   "metadata": {
    "scrolled": false
   },
   "outputs": [
    {
     "name": "stdout",
     "output_type": "stream",
     "text": [
      ">1, train: 0.924, test: 0.924\n",
      ">2, train: 0.924, test: 0.924\n",
      ">3, train: 0.924, test: 0.924\n",
      ">4, train: 0.924, test: 0.924\n",
      ">5, train: 0.925, test: 0.925\n",
      ">6, train: 0.931, test: 0.923\n",
      ">7, train: 0.936, test: 0.924\n",
      ">8, train: 0.942, test: 0.923\n",
      ">9, train: 0.947, test: 0.924\n",
      ">10, train: 0.949, test: 0.924\n",
      ">11, train: 0.953, test: 0.924\n",
      ">12, train: 0.958, test: 0.922\n",
      ">13, train: 0.963, test: 0.921\n",
      ">14, train: 0.970, test: 0.922\n",
      ">15, train: 0.980, test: 0.921\n",
      ">16, train: 0.986, test: 0.920\n",
      ">17, train: 0.992, test: 0.920\n",
      ">18, train: 0.996, test: 0.920\n",
      ">19, train: 0.997, test: 0.917\n",
      ">20, train: 0.998, test: 0.917\n",
      "[[2620   41]\n",
      " [ 197   22]]\n",
      "Score of the classifier with random train/test split:     0.9201388888888888\n"
     ]
    }
   ],
   "source": [
    "from sklearn.ensemble import RandomForestClassifier\n",
    "\n",
    "# Splitting the dataset into the Training set and Test set\n",
    "X_train, X_test, Y_train, Y_test = train_test_split(X, Y, test_size = 0.25, random_state = 0)\n",
    "\n",
    "X_train = pd.concat([X_train, Y_train], axis = 1)\n",
    "X_test = pd.concat([X_test, Y_test], axis = 1)\n",
    "\n",
    "X_rf = pd.concat([X_train, X_test])\n",
    "y_rf = X_rf.pop('Fake')\n",
    "\n",
    "#The stratify parameter will keep the distribution of y_rf as in y\n",
    "X_rf_train, X_rf_test, y_rf_train, y_rf_test = train_test_split(\n",
    "     X_rf, y_rf, test_size=0.33, random_state=42, stratify = y_rf)\n",
    "\n",
    "train_scores = []\n",
    "test_scores = []\n",
    "values = [i for i in range(1, 21)]\n",
    "for i in values:\n",
    "\t# configure the model\n",
    "\trf_model = RandomForestClassifier(max_depth=i, random_state=0)\n",
    "\t# fit model on the training dataset\n",
    "\trf_model.fit(X_rf_train, y_rf_train)\n",
    "\t# evaluate on the train dataset\n",
    "\ttrain_yhat = rf_model.predict(X_rf_train)\n",
    "\ttrain_acc = accuracy_score(y_rf_train, train_yhat)\n",
    "\ttrain_scores.append(train_acc)\n",
    "\t# evaluate on the test dataset\n",
    "\ttest_yhat = rf_model.predict(X_rf_test)\n",
    "\ttest_acc = accuracy_score( y_rf_test, test_yhat)\n",
    "\ttest_scores.append(test_acc)\n",
    "\t# summarize progress\n",
    "\tprint('>%d, train: %.3f, test: %.3f' % (i, train_acc, test_acc))\n",
    "#clf = RandomForestClassifier(max_depth=2, random_state=0)\n",
    "#clf.fit(X_rf_train, y_rf_train)\n",
    "cm = confusion_matrix( y_rf_test, test_yhat)\n",
    "print(cm)\n",
    "print(\"Score of the classifier with random train/test split:    \", model.score(X_rf_test.values, y_rf_test.values))\n",
    "\n"
   ]
  },
  {
   "cell_type": "code",
   "execution_count": 581,
   "metadata": {},
   "outputs": [
    {
     "data": {
      "image/png": "[encoded data removed]",
      "text/plain": [
       "<Figure size 432x288 with 1 Axes>"
      ]
     },
     "metadata": {
      "needs_background": "light"
     },
     "output_type": "display_data"
    }
   ],
   "source": [
    "# plot of train and test scores vs tree depth\n",
    "pyplot.plot(values, train_scores, '-o', label='Train')\n",
    "pyplot.plot(values, test_scores, '-o', label='Test')\n",
    "pyplot.legend()\n",
    "pyplot.show()"
   ]
  },
  {
   "cell_type": "code",
   "execution_count": 584,
   "metadata": {},
   "outputs": [],
   "source": [
    "from sklearn.metrics import precision_recall_curve\n",
    "from sklearn.metrics import f1_score\n",
    "from sklearn.metrics import auc"
   ]
  },
  {
   "cell_type": "code",
   "execution_count": 585,
   "metadata": {},
   "outputs": [
    {
     "name": "stdout",
     "output_type": "stream",
     "text": [
      "Random Forest: f1=0.156 auc=0.250\n"
     ]
    },
    {
     "data": {
      "image/png": "[encoded data removed]",
      "text/plain": [
       "<Figure size 432x288 with 1 Axes>"
      ]
     },
     "metadata": {
      "needs_background": "light"
     },
     "output_type": "display_data"
    }
   ],
   "source": [
    "lr_probs = rf_model.predict_proba(X_rf_test)\n",
    "# keep probabilities for the positive outcome only\n",
    "lr_probs = lr_probs[:, 1]\n",
    "# predict class values\n",
    "yhat = rf_model.predict(X_rf_test)\n",
    "lr_precision, lr_recall, _ = precision_recall_curve(y_rf_test, lr_probs)\n",
    "lr_f1, lr_auc = f1_score(y_rf_test, yhat), auc(lr_recall, lr_precision)\n",
    "# summarize scores\n",
    "print('Random Forest: f1=%.3f auc=%.3f' % (lr_f1, lr_auc))\n",
    "# plot the precision-recall curves\n",
    "no_skill = len(y_rf_test[y_rf_test==1]) / len(y_rf_test)\n",
    "pyplot.plot([0, 1], [no_skill, no_skill], linestyle='--', label='Normal')\n",
    "pyplot.plot(lr_recall, lr_precision, marker='.', label='Random Forest')\n",
    "# axis labels\n",
    "pyplot.xlabel('Recall')\n",
    "pyplot.ylabel('Precision')\n",
    "# show the legend\n",
    "pyplot.legend()\n",
    "# show the plot\n",
    "pyplot.show()"
   ]
  },
  {
   "cell_type": "code",
   "execution_count": 586,
   "metadata": {},
   "outputs": [
    {
     "data": {
      "text/plain": [
       "0    2661\n",
       "1     219\n",
       "Name: Fake, dtype: int64"
      ]
     },
     "execution_count": 586,
     "metadata": {},
     "output_type": "execute_result"
    }
   ],
   "source": [
    "y_rf_test.value_counts()"
   ]
  },
  {
   "cell_type": "code",
   "execution_count": 587,
   "metadata": {},
   "outputs": [
    {
     "name": "stdout",
     "output_type": "stream",
     "text": [
      "Accuracy: 0.920 (0.016)\n"
     ]
    },
    {
     "data": {
      "text/plain": [
       "array([[1979,   27],\n",
       "       [ 167,    9]], dtype=int64)"
      ]
     },
     "execution_count": 587,
     "metadata": {},
     "output_type": "execute_result"
    }
   ],
   "source": [
    "# evaluate adaboost algorithm for classification\n",
    "from numpy import mean\n",
    "from numpy import std\n",
    "from sklearn.datasets import make_classification\n",
    "from sklearn.model_selection import cross_val_score\n",
    "from sklearn.model_selection import RepeatedStratifiedKFold\n",
    "from sklearn.ensemble import AdaBoostClassifier\n",
    "# define dataset\n",
    "\n",
    "\n",
    "X_train, X_test, Y_train, Y_test = train_test_split(X, Y, test_size = 0.25, random_state = 0)\n",
    "# define the model\n",
    "adb_model = AdaBoostClassifier()\n",
    "# evaluate the model\n",
    "cv = RepeatedStratifiedKFold(n_splits=100, n_repeats=3, random_state=1)\n",
    "n_scores = cross_val_score(model, X_train, Y_train, scoring='accuracy', cv=cv, n_jobs=-1, error_score='raise')\n",
    "# report performance\n",
    "print('Accuracy: %.3f (%.3f)' % (mean(n_scores), std(n_scores)))\n",
    "adb_model.fit(X_train, Y_train)\n",
    "Y_pred = adb_model.predict(X_test)\n",
    "confusion_matrix(Y_test, Y_pred)"
   ]
  },
  {
   "cell_type": "code",
   "execution_count": 588,
   "metadata": {},
   "outputs": [],
   "source": [
    "# Number of trees in random forest\n",
    "n_estimators = [int(x) for x in np.linspace(start = 10, stop = 80, num = 10)]\n",
    "# Number of features to consider at every split\n",
    "max_features = ['auto', 'sqrt']\n",
    "# Maximum number of levels in tree\n",
    "max_depth = [2,4]\n",
    "# Minimum number of samples required to split a node\n",
    "min_samples_split = [2, 5]\n",
    "# Minimum number of samples required at each leaf node\n",
    "min_samples_leaf = [1, 2]\n",
    "# Method of selecting samples for training each tree\n",
    "bootstrap = [True, False]\n",
    "param_grid = {'n_estimators': n_estimators,\n",
    "               'max_features': max_features,\n",
    "               'max_depth': max_depth,\n",
    "               'min_samples_split': min_samples_split,\n",
    "               'min_samples_leaf': min_samples_leaf,\n",
    "               'bootstrap': bootstrap}"
   ]
  },
  {
   "cell_type": "code",
   "execution_count": 589,
   "metadata": {},
   "outputs": [
    {
     "name": "stdout",
     "output_type": "stream",
     "text": [
      "Fitting 3 folds for each of 320 candidates, totalling 960 fits\n"
     ]
    },
    {
     "name": "stderr",
     "output_type": "stream",
     "text": [
      "[Parallel(n_jobs=4)]: Using backend LokyBackend with 4 concurrent workers.\n",
      "[Parallel(n_jobs=4)]: Done  33 tasks      | elapsed:    4.3s\n",
      "[Parallel(n_jobs=4)]: Done 154 tasks      | elapsed:   21.1s\n",
      "[Parallel(n_jobs=4)]: Done 357 tasks      | elapsed:   59.1s\n",
      "[Parallel(n_jobs=4)]: Done 640 tasks      | elapsed:  1.9min\n",
      "[Parallel(n_jobs=4)]: Done 960 out of 960 | elapsed:  3.3min finished\n"
     ]
    },
    {
     "name": "stdout",
     "output_type": "stream",
     "text": [
      "Train Accuracy - : 0.926\n",
      "Test Accuracy - : 0.919\n"
     ]
    }
   ],
   "source": [
    "#rf_Model = RandomForestClassifier()\n",
    "from sklearn.model_selection import GridSearchCV\n",
    "rf_Grid = GridSearchCV(estimator = rf_model, param_grid = param_grid, cv = 3, verbose=2, n_jobs = 4)\n",
    "rf_Grid.fit(X_train, Y_train)\n",
    "print (f'Train Accuracy - : {rf_Grid.score(X_train,Y_train):.3f}')\n",
    "print (f'Test Accuracy - : {rf_Grid.score(X_test,Y_test):.3f}')"
   ]
  },
  {
   "cell_type": "code",
   "execution_count": 590,
   "metadata": {},
   "outputs": [
    {
     "name": "stdout",
     "output_type": "stream",
     "text": [
      "NotFake: ROC AUC=0.500\n",
      "Random Forest: ROC AUC=0.798\n"
     ]
    },
    {
     "data": {
      "image/png": "[encoded data removed]",
      "text/plain": [
       "<Figure size 432x288 with 1 Axes>"
      ]
     },
     "metadata": {
      "needs_background": "light"
     },
     "output_type": "display_data"
    }
   ],
   "source": [
    "    # generate a no skill prediction (majority class)\n",
    "    ns_probs = [0 for _ in range(len(Y_test))]\n",
    "    # predict probabilities\n",
    "    lr_probs = rf_Grid.predict_proba(X_test)\n",
    "    # keep probabilities for the positive outcome only\n",
    "    lr_probs = lr_probs[:, 1]\n",
    "    # calculate scores\n",
    "ns_auc = roc_auc_score(Y_test, ns_probs)\n",
    "lr_auc = roc_auc_score(Y_test, lr_probs)\n",
    "# summarize scores\n",
    "print('NotFake: ROC AUC=%.3f' % (ns_auc))\n",
    "print('Random Forest: ROC AUC=%.3f' % (lr_auc))\n",
    "# calculate roc curves\n",
    "ns_fpr, ns_tpr, _ = roc_curve(Y_test, ns_probs)\n",
    "lr_fpr, lr_tpr, _ = roc_curve(Y_test, lr_probs)\n",
    "# plot the roc curve for the model\n",
    "pyplot.plot(ns_fpr, ns_tpr, linestyle='--', label='Fake')\n",
    "pyplot.plot(lr_fpr, lr_tpr, marker='.', label='Random Forest')\n",
    "# axis labels\n",
    "pyplot.xlabel('False Positive Rate')\n",
    "pyplot.ylabel('True Positive Rate')\n",
    "# show the legend\n",
    "pyplot.legend()\n",
    "# show the plot\n",
    "pyplot.show()"
   ]
  },
  {
   "cell_type": "code",
   "execution_count": 114,
   "metadata": {},
   "outputs": [],
   "source": [
    "from keras.models import Sequential\n",
    "from keras.layers import Dense, Dropout\n",
    "from keras.wrappers.scikit_learn import KerasClassifier\n",
    "from sklearn.model_selection import GridSearchCV\n",
    "from keras.models import Sequential\n",
    "from keras.layers import Dense\n"
   ]
  },
  {
   "cell_type": "code",
   "execution_count": 115,
   "metadata": {},
   "outputs": [
    {
     "data": {
      "text/plain": [
       "(58147, 27)"
      ]
     },
     "execution_count": 115,
     "metadata": {},
     "output_type": "execute_result"
    }
   ],
   "source": [
    "x_pca_df.shape"
   ]
  },
  {
   "cell_type": "code",
   "execution_count": 37,
   "metadata": {},
   "outputs": [],
   "source": [
    "X = x_pca_df.drop(columns=['Expr1','c_institution_id'])\n",
    "Y = x_pca_df['Expr1']\n",
    "# Splitting the dataset into the Training set and Test set\n",
    "X_train, X_test, Y_train, Y_test = train_test_split(X, Y, test_size = 0.25, random_state = 0)"
   ]
  },
  {
   "cell_type": "code",
   "execution_count": 38,
   "metadata": {},
   "outputs": [
    {
     "data": {
      "text/plain": [
       "Index([ 0,  1,  2,  3,  4,  5,  6,  7,  8,  9, 10, 11, 12, 13, 14, 15, 16, 17,\n",
       "       18, 19, 20, 21, 22, 23, 24, 25, 26, 27, 28, 29, 30, 31, 32, 33, 34, 35,\n",
       "       36, 37, 38, 39, 40, 41, 42, 43, 44],\n",
       "      dtype='object')"
      ]
     },
     "execution_count": 38,
     "metadata": {},
     "output_type": "execute_result"
    }
   ],
   "source": [
    "X_train.columns"
   ]
  },
  {
   "cell_type": "code",
   "execution_count": 715,
   "metadata": {
    "scrolled": true
   },
   "outputs": [
    {
     "ename": "TypeError",
     "evalue": "Cannot clone object '<tensorflow.python.keras.engine.sequential.Sequential object at 0x000002B501940A88>' (type <class 'tensorflow.python.keras.engine.sequential.Sequential'>): it does not seem to be a scikit-learn estimator as it does not implement a 'get_params' methods.",
     "output_type": "error",
     "traceback": [
      "\u001b[1;31m---------------------------------------------------------------------------\u001b[0m",
      "\u001b[1;31mTypeError\u001b[0m                                 Traceback (most recent call last)",
      "\u001b[1;32m<ipython-input-715-62058bf39399>\u001b[0m in \u001b[0;36m<module>\u001b[1;34m\u001b[0m\n\u001b[0;32m     19\u001b[0m                         \u001b[0mscoring\u001b[0m \u001b[1;33m=\u001b[0m \u001b[1;34m'accuracy'\u001b[0m\u001b[1;33m,\u001b[0m\u001b[1;33m\u001b[0m\u001b[1;33m\u001b[0m\u001b[0m\n\u001b[0;32m     20\u001b[0m                         cv = 10)\n\u001b[1;32m---> 21\u001b[1;33m \u001b[0mgrid_search\u001b[0m \u001b[1;33m=\u001b[0m \u001b[0mgrid_search\u001b[0m\u001b[1;33m.\u001b[0m\u001b[0mfit\u001b[0m\u001b[1;33m(\u001b[0m\u001b[0mX_train\u001b[0m\u001b[1;33m,\u001b[0m \u001b[0mY_train\u001b[0m\u001b[1;33m)\u001b[0m\u001b[1;33m\u001b[0m\u001b[1;33m\u001b[0m\u001b[0m\n\u001b[0m",
      "\u001b[1;32mD:\\anac\\lib\\site-packages\\sklearn\\model_selection\\_search.py\u001b[0m in \u001b[0;36mfit\u001b[1;34m(self, X, y, groups, **fit_params)\u001b[0m\n\u001b[0;32m    653\u001b[0m         \u001b[0mn_splits\u001b[0m \u001b[1;33m=\u001b[0m \u001b[0mcv\u001b[0m\u001b[1;33m.\u001b[0m\u001b[0mget_n_splits\u001b[0m\u001b[1;33m(\u001b[0m\u001b[0mX\u001b[0m\u001b[1;33m,\u001b[0m \u001b[0my\u001b[0m\u001b[1;33m,\u001b[0m \u001b[0mgroups\u001b[0m\u001b[1;33m)\u001b[0m\u001b[1;33m\u001b[0m\u001b[1;33m\u001b[0m\u001b[0m\n\u001b[0;32m    654\u001b[0m \u001b[1;33m\u001b[0m\u001b[0m\n\u001b[1;32m--> 655\u001b[1;33m         \u001b[0mbase_estimator\u001b[0m \u001b[1;33m=\u001b[0m \u001b[0mclone\u001b[0m\u001b[1;33m(\u001b[0m\u001b[0mself\u001b[0m\u001b[1;33m.\u001b[0m\u001b[0mestimator\u001b[0m\u001b[1;33m)\u001b[0m\u001b[1;33m\u001b[0m\u001b[1;33m\u001b[0m\u001b[0m\n\u001b[0m\u001b[0;32m    656\u001b[0m \u001b[1;33m\u001b[0m\u001b[0m\n\u001b[0;32m    657\u001b[0m         parallel = Parallel(n_jobs=self.n_jobs, verbose=self.verbose,\n",
      "\u001b[1;32mD:\\anac\\lib\\site-packages\\sklearn\\base.py\u001b[0m in \u001b[0;36mclone\u001b[1;34m(estimator, safe)\u001b[0m\n\u001b[0;32m     65\u001b[0m                             \u001b[1;34m\"it does not seem to be a scikit-learn estimator \"\u001b[0m\u001b[1;33m\u001b[0m\u001b[1;33m\u001b[0m\u001b[0m\n\u001b[0;32m     66\u001b[0m                             \u001b[1;34m\"as it does not implement a 'get_params' methods.\"\u001b[0m\u001b[1;33m\u001b[0m\u001b[1;33m\u001b[0m\u001b[0m\n\u001b[1;32m---> 67\u001b[1;33m                             % (repr(estimator), type(estimator)))\n\u001b[0m\u001b[0;32m     68\u001b[0m     \u001b[0mklass\u001b[0m \u001b[1;33m=\u001b[0m \u001b[0mestimator\u001b[0m\u001b[1;33m.\u001b[0m\u001b[0m__class__\u001b[0m\u001b[1;33m\u001b[0m\u001b[1;33m\u001b[0m\u001b[0m\n\u001b[0;32m     69\u001b[0m     \u001b[0mnew_object_params\u001b[0m \u001b[1;33m=\u001b[0m \u001b[0mestimator\u001b[0m\u001b[1;33m.\u001b[0m\u001b[0mget_params\u001b[0m\u001b[1;33m(\u001b[0m\u001b[0mdeep\u001b[0m\u001b[1;33m=\u001b[0m\u001b[1;32mFalse\u001b[0m\u001b[1;33m)\u001b[0m\u001b[1;33m\u001b[0m\u001b[1;33m\u001b[0m\u001b[0m\n",
      "\u001b[1;31mTypeError\u001b[0m: Cannot clone object '<tensorflow.python.keras.engine.sequential.Sequential object at 0x000002B501940A88>' (type <class 'tensorflow.python.keras.engine.sequential.Sequential'>): it does not seem to be a scikit-learn estimator as it does not implement a 'get_params' methods."
     ]
    }
   ],
   "source": [
    "def build_classifier(optimizer):\n",
    "    classifier = Sequential()\n",
    "    classifier.add(Dense(units = 256, kernel_initializer = 'uniform', activation = 'relu', input_dim = 25))\n",
    "    classifier.add(Dense(units = 64, kernel_initializer = 'uniform', activation = 'relu'))\n",
    "    classifier.add(Dense(units = 32, kernel_initializer = 'uniform', activation = 'relu'))\n",
    "    classifier.add(Dense(units = 16, kernel_initializer = 'uniform', activation = 'relu'))\n",
    "    classifier.add(Dense(units = 8, kernel_initializer = 'uniform', activation = 'relu'))\n",
    "    classifier.add(Dense(units = 4, kernel_initializer = 'uniform', activation = 'relu'))\n",
    "    classifier.add(Dense(units = 1, kernel_initializer = 'uniform', activation = 'sigmoid'))\n",
    "    classifier.compile(optimizer = optimizer, loss = 'binary_crossentropy', metrics = ['accuracy'])\n",
    "    return classifier\n",
    "\n",
    "ann_classifier = KerasClassifier(build_fn = build_classifier)\n",
    "parameters = {'batch_size': [1, 5],\n",
    "           'epochs': [100, 120],\n",
    "           'optimizer': ['adam', 'rmsprop']}\n",
    "grid_search = GridSearchCV(estimator = classifier,\n",
    "                        param_grid = parameters,\n",
    "                        scoring = 'accuracy',\n",
    "                        cv = 10)\n",
    "grid_search = grid_search.fit(X_train, Y_train)"
   ]
  },
  {
   "cell_type": "code",
   "execution_count": null,
   "metadata": {},
   "outputs": [],
   "source": [
    "best_parameters = grid_search.best_params_\n",
    "best_accuracy = grid_search.best_score_\n",
    "print(\"best_parameters: \")\n",
    "print(best_parameters)\n",
    "print(\"\\nbest_accuracy: \")\n",
    "print(best_accuracy)"
   ]
  },
  {
   "cell_type": "code",
   "execution_count": 39,
   "metadata": {},
   "outputs": [
    {
     "data": {
      "text/plain": [
       "Index([ 0,  1,  2,  3,  4,  5,  6,  7,  8,  9, 10, 11, 12, 13, 14, 15, 16, 17,\n",
       "       18, 19, 20, 21, 22, 23, 24, 25, 26, 27, 28, 29, 30, 31, 32, 33, 34, 35,\n",
       "       36, 37, 38, 39, 40, 41, 42, 43, 44],\n",
       "      dtype='object')"
      ]
     },
     "execution_count": 39,
     "metadata": {},
     "output_type": "execute_result"
    }
   ],
   "source": [
    "X_train.columns"
   ]
  },
  {
   "cell_type": "code",
   "execution_count": 40,
   "metadata": {},
   "outputs": [],
   "source": [
    "from keras.models import Sequential\n",
    "from keras.layers import Dense\n",
    "import keras_metrics\n",
    "classifier = Sequential() # Initialising the ANN\n",
    "\n",
    "classifier.add(Dense(units = 256, kernel_initializer = 'uniform', activation = 'relu', input_dim = 45))\n",
    "classifier.add(Dense(units = 64, kernel_initializer = 'uniform', activation = 'relu'))\n",
    "classifier.add(Dense(units = 32, kernel_initializer = 'uniform', activation = 'relu'))\n",
    "classifier.add(Dense(units = 16, kernel_initializer = 'uniform', activation = 'relu'))\n",
    "classifier.add(Dense(units = 8, kernel_initializer = 'uniform', activation = 'relu'))\n",
    "classifier.add(Dense(units = 4, kernel_initializer = 'uniform', activation = 'relu'))\n",
    "classifier.add(Dense(units = 1, kernel_initializer = 'uniform', activation = 'sigmoid'))"
   ]
  },
  {
   "cell_type": "code",
   "execution_count": 41,
   "metadata": {},
   "outputs": [],
   "source": [
    "classifier.compile(optimizer = 'adam', loss = 'binary_crossentropy', metrics = [keras_metrics.precision()])"
   ]
  },
  {
   "cell_type": "code",
   "execution_count": 42,
   "metadata": {
    "scrolled": true
   },
   "outputs": [
    {
     "name": "stdout",
     "output_type": "stream",
     "text": [
      "Epoch 1/10\n",
      "WARNING:tensorflow:`add_update` `inputs` kwarg has been deprecated. You no longer need to pass a value to `inputs` as it is being automatically inferred.\n",
      "WARNING:tensorflow:`add_update` `inputs` kwarg has been deprecated. You no longer need to pass a value to `inputs` as it is being automatically inferred.\n",
      "WARNING:tensorflow:`add_update` `inputs` kwarg has been deprecated. You no longer need to pass a value to `inputs` as it is being automatically inferred.\n",
      "WARNING:tensorflow:`add_update` `inputs` kwarg has been deprecated. You no longer need to pass a value to `inputs` as it is being automatically inferred.\n"
     ]
    },
    {
     "name": "stderr",
     "output_type": "stream",
     "text": [
      "D:\\anac\\lib\\site-packages\\tensorflow\\python\\keras\\engine\\base_layer.py:1402: UserWarning: `layer.updates` will be removed in a future version. This property should not be used in TensorFlow 2.0, as `updates` are applied automatically.\n",
      "  warnings.warn('`layer.updates` will be removed in a future version. '\n"
     ]
    },
    {
     "name": "stdout",
     "output_type": "stream",
     "text": [
      "24422/24422 [==============================] - 31s 1ms/step - loss: 0.0630 - precision: 0.0000e+00\n",
      "Epoch 2/10\n",
      "24422/24422 [==============================] - 28s 1ms/step - loss: 0.0443 - precision: 0.0000e+00\n",
      "Epoch 3/10\n",
      "24422/24422 [==============================] - 28s 1ms/step - loss: 0.0418 - precision: 0.0000e+00\n",
      "Epoch 4/10\n",
      "24422/24422 [==============================] - 29s 1ms/step - loss: 0.0416 - precision: 0.0000e+00\n",
      "Epoch 5/10\n",
      "24422/24422 [==============================] - 28s 1ms/step - loss: 0.0419 - precision: 0.0000e+00\n",
      "Epoch 6/10\n",
      "24422/24422 [==============================] - 28s 1ms/step - loss: 0.0424 - precision: 0.0000e+00\n",
      "Epoch 7/10\n",
      "24422/24422 [==============================] - 28s 1ms/step - loss: 0.0421 - precision: 0.0000e+00\n",
      "Epoch 8/10\n",
      "24422/24422 [==============================] - 28s 1ms/step - loss: 0.0390 - precision: 0.0000e+00\n",
      "Epoch 9/10\n",
      "24422/24422 [==============================] - 27s 1ms/step - loss: 0.0393 - precision: 0.0000e+00\n",
      "Epoch 10/10\n",
      "24422/24422 [==============================] - 28s 1ms/step - loss: 0.0400 - precision: 0.0000e+00\n"
     ]
    },
    {
     "data": {
      "text/plain": [
       "<tensorflow.python.keras.callbacks.History at 0x215e7af4e08>"
      ]
     },
     "execution_count": 42,
     "metadata": {},
     "output_type": "execute_result"
    }
   ],
   "source": [
    "classifier.fit(X_train, Y_train, batch_size = 5, epochs = 10)"
   ]
  },
  {
   "cell_type": "code",
   "execution_count": 43,
   "metadata": {},
   "outputs": [
    {
     "name": "stdout",
     "output_type": "stream",
     "text": [
      "[[40359     0]\n",
      " [  345     0]]\n",
      "Accuracy: 99.15241745283019%\n"
     ]
    }
   ],
   "source": [
    "y_pred = classifier.predict(X_test)\n",
    "y_pred = [ 1 if y>=0.5 else 0 for y in y_pred ]\n",
    "\n",
    "from sklearn.metrics import confusion_matrix\n",
    "cm = confusion_matrix(Y_test, y_pred)\n",
    "print(cm)\n",
    "\n",
    "accuracy = (cm[0][0]+cm[1][1])/(cm[0][0]+cm[0][1]+cm[1][0]+cm[1][1])\n",
    "print(\"Accuracy: \"+ str(accuracy*100)+\"%\")"
   ]
  },
  {
   "cell_type": "code",
   "execution_count": 44,
   "metadata": {},
   "outputs": [
    {
     "data": {
      "text/plain": [
       "(69778, 47)"
      ]
     },
     "execution_count": 44,
     "metadata": {},
     "output_type": "execute_result"
    }
   ],
   "source": [
    "d3.shape"
   ]
  },
  {
   "cell_type": "code",
   "execution_count": 97,
   "metadata": {},
   "outputs": [
    {
     "data": {
      "text/html": [
       "<div>\n",
       "<style scoped>\n",
       "    .dataframe tbody tr th:only-of-type {\n",
       "        vertical-align: middle;\n",
       "    }\n",
       "\n",
       "    .dataframe tbody tr th {\n",
       "        vertical-align: top;\n",
       "    }\n",
       "\n",
       "    .dataframe thead th {\n",
       "        text-align: right;\n",
       "    }\n",
       "</style>\n",
       "<table border=\"1\" class=\"dataframe\">\n",
       "  <thead>\n",
       "    <tr style=\"text-align: right;\">\n",
       "      <th></th>\n",
       "      <th>0</th>\n",
       "      <th>1</th>\n",
       "      <th>2</th>\n",
       "      <th>3</th>\n",
       "      <th>4</th>\n",
       "      <th>5</th>\n",
       "      <th>6</th>\n",
       "      <th>7</th>\n",
       "      <th>8</th>\n",
       "      <th>9</th>\n",
       "      <th>...</th>\n",
       "      <th>37</th>\n",
       "      <th>38</th>\n",
       "      <th>39</th>\n",
       "      <th>40</th>\n",
       "      <th>41</th>\n",
       "      <th>42</th>\n",
       "      <th>43</th>\n",
       "      <th>44</th>\n",
       "      <th>Expr1</th>\n",
       "      <th>c_institution_id</th>\n",
       "    </tr>\n",
       "  </thead>\n",
       "  <tbody>\n",
       "    <tr>\n",
       "      <td>4</td>\n",
       "      <td>-2.608699</td>\n",
       "      <td>3.486405</td>\n",
       "      <td>0.431210</td>\n",
       "      <td>-4.018980</td>\n",
       "      <td>-2.164909</td>\n",
       "      <td>4.720121</td>\n",
       "      <td>1.257342</td>\n",
       "      <td>0.639733</td>\n",
       "      <td>0.313831</td>\n",
       "      <td>0.780561</td>\n",
       "      <td>...</td>\n",
       "      <td>1.736139</td>\n",
       "      <td>0.017970</td>\n",
       "      <td>0.301780</td>\n",
       "      <td>-0.357133</td>\n",
       "      <td>0.823064</td>\n",
       "      <td>-0.271397</td>\n",
       "      <td>-0.471189</td>\n",
       "      <td>0.292928</td>\n",
       "      <td>0</td>\n",
       "      <td>10010102003</td>\n",
       "    </tr>\n",
       "    <tr>\n",
       "      <td>6</td>\n",
       "      <td>-2.567325</td>\n",
       "      <td>3.485605</td>\n",
       "      <td>0.422158</td>\n",
       "      <td>-4.037953</td>\n",
       "      <td>-2.194578</td>\n",
       "      <td>4.700723</td>\n",
       "      <td>1.246828</td>\n",
       "      <td>0.630946</td>\n",
       "      <td>0.313598</td>\n",
       "      <td>0.784545</td>\n",
       "      <td>...</td>\n",
       "      <td>1.724214</td>\n",
       "      <td>0.021184</td>\n",
       "      <td>0.334742</td>\n",
       "      <td>-0.355890</td>\n",
       "      <td>0.809306</td>\n",
       "      <td>-0.250592</td>\n",
       "      <td>-0.474084</td>\n",
       "      <td>0.316650</td>\n",
       "      <td>0</td>\n",
       "      <td>10010102402</td>\n",
       "    </tr>\n",
       "    <tr>\n",
       "      <td>8</td>\n",
       "      <td>-2.119719</td>\n",
       "      <td>2.324087</td>\n",
       "      <td>-0.319114</td>\n",
       "      <td>-1.702967</td>\n",
       "      <td>0.357265</td>\n",
       "      <td>0.217357</td>\n",
       "      <td>-0.127183</td>\n",
       "      <td>-0.274288</td>\n",
       "      <td>1.714684</td>\n",
       "      <td>2.077891</td>\n",
       "      <td>...</td>\n",
       "      <td>-1.468225</td>\n",
       "      <td>-0.567326</td>\n",
       "      <td>-0.338300</td>\n",
       "      <td>0.559850</td>\n",
       "      <td>-0.097350</td>\n",
       "      <td>0.528922</td>\n",
       "      <td>0.655292</td>\n",
       "      <td>-0.487787</td>\n",
       "      <td>0</td>\n",
       "      <td>10010102607</td>\n",
       "    </tr>\n",
       "    <tr>\n",
       "      <td>12</td>\n",
       "      <td>1.919159</td>\n",
       "      <td>0.023806</td>\n",
       "      <td>-0.152885</td>\n",
       "      <td>-0.612547</td>\n",
       "      <td>-3.394436</td>\n",
       "      <td>-1.158119</td>\n",
       "      <td>4.939631</td>\n",
       "      <td>0.993259</td>\n",
       "      <td>1.532715</td>\n",
       "      <td>-1.931888</td>\n",
       "      <td>...</td>\n",
       "      <td>-0.689131</td>\n",
       "      <td>0.749142</td>\n",
       "      <td>-2.262607</td>\n",
       "      <td>-3.187482</td>\n",
       "      <td>-0.304824</td>\n",
       "      <td>1.441746</td>\n",
       "      <td>0.785004</td>\n",
       "      <td>1.778541</td>\n",
       "      <td>0</td>\n",
       "      <td>10010103506</td>\n",
       "    </tr>\n",
       "    <tr>\n",
       "      <td>19</td>\n",
       "      <td>-2.297641</td>\n",
       "      <td>3.291069</td>\n",
       "      <td>-0.127077</td>\n",
       "      <td>-3.464909</td>\n",
       "      <td>-1.676487</td>\n",
       "      <td>4.086787</td>\n",
       "      <td>-1.292205</td>\n",
       "      <td>-0.246767</td>\n",
       "      <td>-0.358063</td>\n",
       "      <td>0.371348</td>\n",
       "      <td>...</td>\n",
       "      <td>1.497219</td>\n",
       "      <td>0.257095</td>\n",
       "      <td>0.310910</td>\n",
       "      <td>-1.086191</td>\n",
       "      <td>0.398416</td>\n",
       "      <td>-0.558342</td>\n",
       "      <td>-0.595941</td>\n",
       "      <td>0.415627</td>\n",
       "      <td>0</td>\n",
       "      <td>10010201501</td>\n",
       "    </tr>\n",
       "  </tbody>\n",
       "</table>\n",
       "<p>5 rows × 47 columns</p>\n",
       "</div>"
      ],
      "text/plain": [
       "           0         1         2         3         4         5         6  \\\n",
       "4  -2.608699  3.486405  0.431210 -4.018980 -2.164909  4.720121  1.257342   \n",
       "6  -2.567325  3.485605  0.422158 -4.037953 -2.194578  4.700723  1.246828   \n",
       "8  -2.119719  2.324087 -0.319114 -1.702967  0.357265  0.217357 -0.127183   \n",
       "12  1.919159  0.023806 -0.152885 -0.612547 -3.394436 -1.158119  4.939631   \n",
       "19 -2.297641  3.291069 -0.127077 -3.464909 -1.676487  4.086787 -1.292205   \n",
       "\n",
       "           7         8         9  ...        37        38        39        40  \\\n",
       "4   0.639733  0.313831  0.780561  ...  1.736139  0.017970  0.301780 -0.357133   \n",
       "6   0.630946  0.313598  0.784545  ...  1.724214  0.021184  0.334742 -0.355890   \n",
       "8  -0.274288  1.714684  2.077891  ... -1.468225 -0.567326 -0.338300  0.559850   \n",
       "12  0.993259  1.532715 -1.931888  ... -0.689131  0.749142 -2.262607 -3.187482   \n",
       "19 -0.246767 -0.358063  0.371348  ...  1.497219  0.257095  0.310910 -1.086191   \n",
       "\n",
       "          41        42        43        44  Expr1  c_institution_id  \n",
       "4   0.823064 -0.271397 -0.471189  0.292928      0       10010102003  \n",
       "6   0.809306 -0.250592 -0.474084  0.316650      0       10010102402  \n",
       "8  -0.097350  0.528922  0.655292 -0.487787      0       10010102607  \n",
       "12 -0.304824  1.441746  0.785004  1.778541      0       10010103506  \n",
       "19  0.398416 -0.558342 -0.595941  0.415627      0       10010201501  \n",
       "\n",
       "[5 rows x 47 columns]"
      ]
     },
     "execution_count": 97,
     "metadata": {},
     "output_type": "execute_result"
    }
   ],
   "source": [
    "d3.head()"
   ]
  },
  {
   "cell_type": "code",
   "execution_count": 102,
   "metadata": {},
   "outputs": [
    {
     "data": {
      "text/plain": [
       "Index([                  0,                   1,                   2,\n",
       "                         3,                   4,                   5,\n",
       "                         6,                   7,                   8,\n",
       "                         9,                  10,                  11,\n",
       "                        12,                  13,                  14,\n",
       "                        15,                  16,                  17,\n",
       "                        18,                  19,                  20,\n",
       "                        21,                  22,                  23,\n",
       "                        24,                  25,                  26,\n",
       "                        27,                  28,                  29,\n",
       "                        30,                  31,                  32,\n",
       "                        33,                  34,                  35,\n",
       "                        36,                  37,                  38,\n",
       "                        39,                  40,                  41,\n",
       "                        42,                  43,                  44,\n",
       "       'Predicted FK_FLAG'],\n",
       "      dtype='object')"
      ]
     },
     "execution_count": 102,
     "metadata": {},
     "output_type": "execute_result"
    }
   ],
   "source": [
    "d3_X.columns"
   ]
  },
  {
   "cell_type": "code",
   "execution_count": 147,
   "metadata": {
    "scrolled": true
   },
   "outputs": [
    {
     "name": "stdout",
     "output_type": "stream",
     "text": [
      "(69778, 45)\n"
     ]
    },
    {
     "name": "stderr",
     "output_type": "stream",
     "text": [
      "D:\\anac\\lib\\site-packages\\ipykernel_launcher.py:6: SettingWithCopyWarning: \n",
      "A value is trying to be set on a copy of a slice from a DataFrame.\n",
      "Try using .loc[row_indexer,col_indexer] = value instead\n",
      "\n",
      "See the caveats in the documentation: http://pandas.pydata.org/pandas-docs/stable/user_guide/indexing.html#returning-a-view-versus-a-copy\n",
      "  \n"
     ]
    }
   ],
   "source": [
    "d3_X = d3.drop(columns=['Expr1','c_institution_id','Predicted FK_FLAG'])\n",
    "d3_Y = d3['Expr1']\n",
    "print(d3_X.shape)\n",
    "X_T_pred = smote.predict(d3_X)\n",
    "#X_T_pred = [ 1 if y>=0.5 else 0 for y in X_T_pred ]\n",
    "d3['Predicted FK_FLAG'] = X_T_pred\n",
    "#X_T['c_institution_id'] = G['c_institution_id']\n",
    "X_T['Actual FK_FLAG'] = G['Expr1']\n",
    "#c = ['c_institution_id','Actual FK_FLAG','Predicted FK_FLAG']\n",
    "#X_T_pred = pd.DataFrame(X_T_pred)\n",
    "#X_T_pred['Actual FK_FLAG'] = d3['Expr1']\n",
    "#X_T_pred['c_institution_id'] = d3['c_institution_id']\n",
    "#X_T_pred[0].value_counts()\n",
    "pd.crosstab(d3['Expr1'],d3['Predicted FK_FLAG'])"
   ]
  },
  {
   "cell_type": "code",
   "execution_count": 148,
   "metadata": {},
   "outputs": [
    {
     "data": {
      "text/plain": [
       "Index([                  0,                   1,                   2,\n",
       "                         3,                   4,                   5,\n",
       "                         6,                   7,                   8,\n",
       "                         9,                  10,                  11,\n",
       "                        12,                  13,                  14,\n",
       "                        15,                  16,                  17,\n",
       "                        18,                  19,                  20,\n",
       "                        21,                  22,                  23,\n",
       "                        24,                  25,                  26,\n",
       "                        27,                  28,                  29,\n",
       "                        30,                  31,                  32,\n",
       "                        33,                  34,                  35,\n",
       "                        36,                  37,                  38,\n",
       "                        39,                  40,                  41,\n",
       "                        42,                  43,                  44,\n",
       "                   'Expr1',  'c_institution_id', 'Predicted FK_FLAG'],\n",
       "      dtype='object')"
      ]
     },
     "execution_count": 148,
     "metadata": {},
     "output_type": "execute_result"
    }
   ],
   "source": [
    "d3.columns"
   ]
  },
  {
   "cell_type": "code",
   "execution_count": 149,
   "metadata": {
    "scrolled": true
   },
   "outputs": [
    {
     "data": {
      "text/html": [
       "<div>\n",
       "<style scoped>\n",
       "    .dataframe tbody tr th:only-of-type {\n",
       "        vertical-align: middle;\n",
       "    }\n",
       "\n",
       "    .dataframe tbody tr th {\n",
       "        vertical-align: top;\n",
       "    }\n",
       "\n",
       "    .dataframe thead th {\n",
       "        text-align: right;\n",
       "    }\n",
       "</style>\n",
       "<table border=\"1\" class=\"dataframe\">\n",
       "  <thead>\n",
       "    <tr style=\"text-align: right;\">\n",
       "      <th>Predicted FK_FLAG</th>\n",
       "      <th>0</th>\n",
       "      <th>1</th>\n",
       "    </tr>\n",
       "    <tr>\n",
       "      <th>Expr1</th>\n",
       "      <th></th>\n",
       "      <th></th>\n",
       "    </tr>\n",
       "  </thead>\n",
       "  <tbody>\n",
       "    <tr>\n",
       "      <td>0</td>\n",
       "      <td>68424</td>\n",
       "      <td>727</td>\n",
       "    </tr>\n",
       "    <tr>\n",
       "      <td>1</td>\n",
       "      <td>549</td>\n",
       "      <td>78</td>\n",
       "    </tr>\n",
       "  </tbody>\n",
       "</table>\n",
       "</div>"
      ],
      "text/plain": [
       "Predicted FK_FLAG      0    1\n",
       "Expr1                        \n",
       "0                  68424  727\n",
       "1                    549   78"
      ]
     },
     "execution_count": 149,
     "metadata": {},
     "output_type": "execute_result"
    }
   ],
   "source": [
    "pd.crosstab(d3['Expr1'],d3['Predicted FK_FLAG'])"
   ]
  },
  {
   "cell_type": "code",
   "execution_count": 78,
   "metadata": {},
   "outputs": [
    {
     "data": {
      "text/plain": [
       "0.0    20700\n",
       "1.0      306\n",
       "Name: Actual FK_FLAG, dtype: int64"
      ]
     },
     "execution_count": 78,
     "metadata": {},
     "output_type": "execute_result"
    }
   ],
   "source": [
    "X_T_pred['Actual FK_FLAG'].value_counts()"
   ]
  },
  {
   "cell_type": "code",
   "execution_count": 659,
   "metadata": {},
   "outputs": [
    {
     "name": "stdout",
     "output_type": "stream",
     "text": [
      "INFO:tensorflow:Assets written to: D:\\NSP ML\\New folder\\New folder\\ann_model_25i_91percent_00_220784_11_286.sav\\assets\n"
     ]
    }
   ],
   "source": [
    "filename = r'D:\\NSP ML\\New folder\\New folder\\ann_model_25i_91percent_00_220784_11_286.sav'\n",
    "#pickle.dump(classifier, open(filename, 'wb'))\n",
    "classifier.save(filename)"
   ]
  },
  {
   "cell_type": "code",
   "execution_count": 721,
   "metadata": {},
   "outputs": [
    {
     "data": {
      "text/plain": [
       "0    223522\n",
       "1      9071\n",
       "Name: 0, dtype: int64"
      ]
     },
     "execution_count": 721,
     "metadata": {},
     "output_type": "execute_result"
    }
   ],
   "source": [
    "fn=r'D:\\NSP ML\\New folder\\New folder\\ann_model_25i_91percent_00_220784_11_286.sav'\n",
    "classifier = load_model(fn)\n",
    "#loaded_model = pickle.load(open(filename, 'rb'))\n",
    "\n",
    "X_T_pred = my_model.predict(X_pca)\n",
    "#X_T_pred = [ 1 if y>=0.5 else 0 for y in X_T_pred ]\n",
    "#X_T['Predicted FK_FLAG'] = X_T_pred\n",
    "#X_T['c_institution_id'] = G['c_institution_id']\n",
    "#X_T['Actual FK_FLAG'] = G['Expr1']\n",
    "#c = ['c_institution_id','Actual FK_FLAG','Predicted FK_FLAG']\n",
    "#X_res = X_T[c]\n",
    "X_T_pred = pd.DataFrame(X_T_pred)\n",
    "X_T_pred[0].value_counts()"
   ]
  },
  {
   "cell_type": "code",
   "execution_count": 146,
   "metadata": {},
   "outputs": [],
   "source": [
    "X_res.to_csv(r'D:\\NSP ML\\New folder\\New folder\\ann_model_25i_91percent_00_221759_11_304.csv')"
   ]
  },
  {
   "cell_type": "code",
   "execution_count": 693,
   "metadata": {
    "scrolled": false
   },
   "outputs": [
    {
     "data": {
      "text/html": [
       "<div>\n",
       "<style scoped>\n",
       "    .dataframe tbody tr th:only-of-type {\n",
       "        vertical-align: middle;\n",
       "    }\n",
       "\n",
       "    .dataframe tbody tr th {\n",
       "        vertical-align: top;\n",
       "    }\n",
       "\n",
       "    .dataframe thead th {\n",
       "        text-align: right;\n",
       "    }\n",
       "</style>\n",
       "<table border=\"1\" class=\"dataframe\">\n",
       "  <thead>\n",
       "    <tr style=\"text-align: right;\">\n",
       "      <th></th>\n",
       "      <th>c_institution_id</th>\n",
       "      <th>Actual FK_FLAG</th>\n",
       "      <th>Predicted FK_FLAG</th>\n",
       "    </tr>\n",
       "  </thead>\n",
       "  <tbody>\n",
       "    <tr>\n",
       "      <td>0</td>\n",
       "      <td>10010100303</td>\n",
       "      <td>0</td>\n",
       "      <td>0</td>\n",
       "    </tr>\n",
       "    <tr>\n",
       "      <td>1</td>\n",
       "      <td>10010100505</td>\n",
       "      <td>0</td>\n",
       "      <td>0</td>\n",
       "    </tr>\n",
       "    <tr>\n",
       "      <td>2</td>\n",
       "      <td>10010100808</td>\n",
       "      <td>0</td>\n",
       "      <td>0</td>\n",
       "    </tr>\n",
       "    <tr>\n",
       "      <td>3</td>\n",
       "      <td>10010101901</td>\n",
       "      <td>0</td>\n",
       "      <td>0</td>\n",
       "    </tr>\n",
       "    <tr>\n",
       "      <td>4</td>\n",
       "      <td>10010102003</td>\n",
       "      <td>0</td>\n",
       "      <td>0</td>\n",
       "    </tr>\n",
       "    <tr>\n",
       "      <td>5</td>\n",
       "      <td>10010102301</td>\n",
       "      <td>0</td>\n",
       "      <td>0</td>\n",
       "    </tr>\n",
       "    <tr>\n",
       "      <td>6</td>\n",
       "      <td>10010102402</td>\n",
       "      <td>0</td>\n",
       "      <td>0</td>\n",
       "    </tr>\n",
       "    <tr>\n",
       "      <td>7</td>\n",
       "      <td>10010102601</td>\n",
       "      <td>0</td>\n",
       "      <td>0</td>\n",
       "    </tr>\n",
       "    <tr>\n",
       "      <td>8</td>\n",
       "      <td>10010102607</td>\n",
       "      <td>0</td>\n",
       "      <td>0</td>\n",
       "    </tr>\n",
       "    <tr>\n",
       "      <td>9</td>\n",
       "      <td>10010103402</td>\n",
       "      <td>0</td>\n",
       "      <td>0</td>\n",
       "    </tr>\n",
       "  </tbody>\n",
       "</table>\n",
       "</div>"
      ],
      "text/plain": [
       "  c_institution_id Actual FK_FLAG  Predicted FK_FLAG\n",
       "0      10010100303              0                  0\n",
       "1      10010100505              0                  0\n",
       "2      10010100808              0                  0\n",
       "3      10010101901              0                  0\n",
       "4      10010102003              0                  0\n",
       "5      10010102301              0                  0\n",
       "6      10010102402              0                  0\n",
       "7      10010102601              0                  0\n",
       "8      10010102607              0                  0\n",
       "9      10010103402              0                  0"
      ]
     },
     "execution_count": 693,
     "metadata": {},
     "output_type": "execute_result"
    }
   ],
   "source": [
    "X_res.head(10)"
   ]
  },
  {
   "cell_type": "code",
   "execution_count": 90,
   "metadata": {},
   "outputs": [],
   "source": [
    "from xgboost import XGBClassifier"
   ]
  },
  {
   "cell_type": "code",
   "execution_count": 91,
   "metadata": {},
   "outputs": [],
   "source": [
    "X = x_pca_df.drop(columns=['Expr1','c_institution_id'])\n",
    "Y = x_pca_df['Expr1']\n",
    "# Splitting the dataset into the Training set and Test set\n",
    "train_X, test_X, train_y, test_y = train_test_split(X, Y, test_size = 0.25, random_state = 0)"
   ]
  },
  {
   "cell_type": "code",
   "execution_count": 93,
   "metadata": {},
   "outputs": [
    {
     "name": "stdout",
     "output_type": "stream",
     "text": [
      "Performance on the train :  0.954696291504419\n",
      "Performance on the test :  0.7732982352947514\n"
     ]
    }
   ],
   "source": [
    "from xgboost import XGBRegressor\n",
    "my_model = XGBRegressor()\n",
    "# Add silent=True to avoid printing out updates with each cycle\n",
    "my_model.fit(train_X, train_y, verbose=False)\n",
    "\n",
    "\"\"\"\n",
    "XGBRegressor(base_score=0.5, booster='gbtree', colsample_bylevel=1,\n",
    "       colsample_bytree=1, gamma=0, learning_rate=0.1, max_delta_step=0,\n",
    "       max_depth=3, min_child_weight=1, missing=None, n_estimators=100,\n",
    "       n_jobs=1, nthread=None, objective='reg:linear', random_state=0,\n",
    "       reg_alpha=0, reg_lambda=1, scale_pos_weight=1, seed=None,\n",
    "       silent=True, subsample=1)\n",
    "\"\"\"\n",
    "\n",
    "# Performance sur le train\n",
    "train_y_pred = my_model.predict(train_X)\n",
    "auc = roc_auc_score(train_y, train_y_pred)\n",
    "print(\"Performance on the train : \", auc)\n",
    "\n",
    "# Performance sur le test\n",
    "test_y_pred = my_model.predict(test_X)\n",
    "auc = roc_auc_score(test_y, test_y_pred)\n",
    "print(\"Performance on the test : \", auc)"
   ]
  },
  {
   "cell_type": "code",
   "execution_count": 71,
   "metadata": {},
   "outputs": [
    {
     "name": "stdout",
     "output_type": "stream",
     "text": [
      "Performance sur le train :  0.848904557839129\n",
      "Performance sur le test :  0.8059503995122042\n"
     ]
    }
   ],
   "source": [
    "\"\"\" Tuning XGBoost \"\"\"\n",
    "my_model = XGBRegressor(n_estimators=1000)\n",
    "my_model.fit(train_X, train_y, early_stopping_rounds=2, \n",
    "             eval_set=[(test_X, test_y)], verbose=False)\n",
    "\"\"\"\n",
    "XGBRegressor(base_score=0.5, booster='gbtree', colsample_bylevel=1,\n",
    "       colsample_bytree=1, gamma=0, learning_rate=0.1, max_delta_step=0,\n",
    "       max_depth=3, min_child_weight=1, missing=None, n_estimators=1000,\n",
    "       n_jobs=1, nthread=None, objective='reg:linear', random_state=0,\n",
    "       reg_alpha=0, reg_lambda=1, scale_pos_weight=1, seed=None,\n",
    "       silent=True, subsample=1)\n",
    "\"\"\"\n",
    "\n",
    "# Performance sur le train\n",
    "train_y_pred = my_model.predict(train_X)\n",
    "auc = roc_auc_score(train_y, train_y_pred)\n",
    "print(\"Performance sur le train : \", auc)\n",
    "\n",
    "# Performance sur le test\n",
    "test_y_pred = my_model.predict(test_X)\n",
    "auc = roc_auc_score(test_y, test_y_pred)\n",
    "print(\"Performance sur le test : \", auc)"
   ]
  },
  {
   "cell_type": "code",
   "execution_count": 75,
   "metadata": {},
   "outputs": [
    {
     "name": "stderr",
     "output_type": "stream",
     "text": [
      "D:\\anac\\lib\\site-packages\\xgboost\\sklearn.py:1146: UserWarning: The use of label encoder in XGBClassifier is deprecated and will be removed in a future release. To remove this warning, do the following: 1) Pass option use_label_encoder=False when constructing XGBClassifier object; and 2) Encode your labels (y) as integers starting with 0, i.e. 0, 1, 2, ..., [num_class - 1].\n",
      "  warnings.warn(label_encoder_deprecation_msg, UserWarning)\n"
     ]
    },
    {
     "name": "stdout",
     "output_type": "stream",
     "text": [
      "[14:40:34] WARNING: C:/Users/Administrator/workspace/xgboost-win64_release_1.4.0/src/learner.cc:1095: Starting in XGBoost 1.3.0, the default evaluation metric used with the objective 'binary:logistic' was changed from 'error' to 'logloss'. Explicitly set eval_metric if you'd like to restore the old behavior.\n",
      "Performance sur le train :  0.976631901611971\n",
      "Performance sur le test :  0.5127461468106355\n"
     ]
    }
   ],
   "source": [
    "xgb1 = XGBClassifier(\n",
    "    learning_rate =0.1, n_estimators=1000,\n",
    "    max_depth=5, min_child_weight=1, gamma=0,subsample=0.8,colsample_bytree=0.8,\n",
    "    objective= 'binary:logistic', nthread=4,scale_pos_weight=1,seed=27)\n",
    "# modelfit(xgb1, train, train_X)\n",
    "xgb1.fit(train_X, train_y)\n",
    "\n",
    "# Performance sur le train\n",
    "auc = roc_auc_score(train_y, xgb1.predict(train_X))\n",
    "print(\"Performance sur le train : \", auc)\n",
    "\n",
    "# Performance sur le test\n",
    "auc = roc_auc_score(test_y, xgb1.predict(test_X))\n",
    "print(\"Performance sur le test : \", auc)"
   ]
  },
  {
   "cell_type": "code",
   "execution_count": null,
   "metadata": {},
   "outputs": [],
   "source": [
    "from sklearn.model_selection import GridSearchCV\n",
    "param_test1 = {\n",
    "    'max_depth':range(3,10,2),\n",
    "    'min_child_weight':range(1,6,2)\n",
    "}\n",
    "gsearch1 = GridSearchCV(estimator = XGBClassifier( learning_rate =0.1, \n",
    "                                                  n_estimators=1000, \n",
    "                                                  max_depth=5,\n",
    "                                                  min_child_weight=1,\n",
    "                                                  gamma=0, \n",
    "                                                  subsample=0.8, \n",
    "                                                  colsample_bytree=0.8,\n",
    "                                                  objective= 'binary:logistic', nthread=4, scale_pos_weight=1, seed=27), \n",
    "                        param_grid = param_test1, \n",
    "                        scoring='roc_auc',\n",
    "                        n_jobs=4,\n",
    "                        iid=False, \n",
    "                        cv=5)\n",
    "\n",
    "gsearch1.fit(train_X,train_y)\n",
    "gsearch1.grid_scores_, gsearch1.best_params_, gsearch1.best_score_"
   ]
  },
  {
   "cell_type": "code",
   "execution_count": 79,
   "metadata": {},
   "outputs": [
    {
     "name": "stderr",
     "output_type": "stream",
     "text": [
      "D:\\anac\\lib\\site-packages\\xgboost\\sklearn.py:1146: UserWarning: The use of label encoder in XGBClassifier is deprecated and will be removed in a future release. To remove this warning, do the following: 1) Pass option use_label_encoder=False when constructing XGBClassifier object; and 2) Encode your labels (y) as integers starting with 0, i.e. 0, 1, 2, ..., [num_class - 1].\n",
      "  warnings.warn(label_encoder_deprecation_msg, UserWarning)\n"
     ]
    },
    {
     "name": "stdout",
     "output_type": "stream",
     "text": [
      "[14:49:25] WARNING: C:/Users/Administrator/workspace/xgboost-win64_release_1.4.0/src/learner.cc:1095: Starting in XGBoost 1.3.0, the default evaluation metric used with the objective 'binary:logistic' was changed from 'error' to 'logloss'. Explicitly set eval_metric if you'd like to restore the old behavior.\n",
      "Performance sur le train :  0.5964214711729622\n",
      "Performance sur le test :  0.5085469864487959\n"
     ]
    }
   ],
   "source": [
    "# Fix new param with optimal parameter\n",
    "xgb2 = XGBClassifier(\n",
    "    learning_rate =0.1, n_estimators=1000,\n",
    "    gamma=0,subsample=0.8,colsample_bytree=0.8,\n",
    "    objective= 'binary:logistic', nthread=4,scale_pos_weight=1,seed=27,\n",
    "    max_depth = 3,\n",
    "    min_child_weight = 5\n",
    ")\n",
    "# modelfit(xgb1, train, train_X)\n",
    "xgb2.fit(train_X, train_y)\n",
    "\n",
    "# Performance sur le train\n",
    "auc = roc_auc_score(train_y, xgb2.predict(train_X))\n",
    "print(\"Performance sur le train : \", auc)\n",
    "\n",
    "# Performance sur le test\n",
    "auc = roc_auc_score(test_y, xgb2.predict(test_X))\n",
    "print(\"Performance sur le test : \", auc)"
   ]
  },
  {
   "cell_type": "code",
   "execution_count": null,
   "metadata": {},
   "outputs": [],
   "source": [
    "param_test3 = { \n",
    "    'gamma':[i/10.0 for i in range(0,5)] \n",
    "}\n",
    "gsearch3 = GridSearchCV(estimator = XGBClassifier( learning_rate =0.1, \n",
    "                                                  n_estimators=1000, \n",
    "                                                  max_depth = 3,\n",
    "                                                  min_child_weight = 5,\n",
    "                                                  gamma=0, subsample=0.8, colsample_bytree=0.8,\n",
    "                                                  objective= 'binary:logistic', nthread=4, scale_pos_weight=1,seed=27), \n",
    "                        param_grid = param_test3, \n",
    "                        scoring='roc_auc',\n",
    "                        n_jobs=4,\n",
    "                        iid=False, \n",
    "                        cv=5)\n",
    "\n",
    "gsearch3.fit(train_X,train_y)\n",
    "gsearch3.grid_scores_, gsearch3.best_params_, gsearch3.best_score_"
   ]
  },
  {
   "cell_type": "code",
   "execution_count": 92,
   "metadata": {},
   "outputs": [
    {
     "name": "stderr",
     "output_type": "stream",
     "text": [
      "D:\\anac\\lib\\site-packages\\xgboost\\sklearn.py:1146: UserWarning: The use of label encoder in XGBClassifier is deprecated and will be removed in a future release. To remove this warning, do the following: 1) Pass option use_label_encoder=False when constructing XGBClassifier object; and 2) Encode your labels (y) as integers starting with 0, i.e. 0, 1, 2, ..., [num_class - 1].\n",
      "  warnings.warn(label_encoder_deprecation_msg, UserWarning)\n"
     ]
    },
    {
     "name": "stdout",
     "output_type": "stream",
     "text": [
      "[15:02:50] WARNING: C:/Users/Administrator/workspace/xgboost-win64_release_1.4.0/src/learner.cc:1095: Starting in XGBoost 1.3.0, the default evaluation metric used with the objective 'binary:logistic' was changed from 'error' to 'logloss'. Explicitly set eval_metric if you'd like to restore the old behavior.\n",
      "Performance sur le train :  0.5004970178926441\n",
      "Performance sur le test :  0.5\n"
     ]
    }
   ],
   "source": [
    "xgb6 = XGBClassifier(\n",
    "    learning_rate =0.007,\n",
    "    n_estimators=1000,\n",
    "    max_depth = 3,\n",
    "    min_child_weight = 5,\n",
    "    gamma=0.4,\n",
    "    subsample=0.55,\n",
    "    colsample_bytree=0.85,\n",
    "    reg_alpha=0.005,\n",
    "    objective= 'binary:logistic',\n",
    "    nthread=4,\n",
    "    scale_pos_weight=1,\n",
    "    seed=27\n",
    ")\n",
    "# modelfit(xgb1, train, train_X)\n",
    "xgb6.fit(train_X, train_y)\n",
    "\n",
    "# Performance sur le train\n",
    "auc = roc_auc_score(train_y, xgb6.predict(train_X))\n",
    "print(\"Performance sur le train : \", auc)\n",
    "\n",
    "# Performance sur le test\n",
    "auc = roc_auc_score(test_y, xgb6.predict(test_X))\n",
    "print(\"Performance sur le test : \", auc)\n"
   ]
  },
  {
   "cell_type": "code",
   "execution_count": 109,
   "metadata": {},
   "outputs": [],
   "source": [
    "X = x_pca_df.drop(columns=['Expr1','c_institution_id'])\n",
    "Y = x_pca_df['Expr1']\n",
    "# Splitting the dataset into the Training set and Test set\n",
    "X_train, X_test, Y_train, Y_test = train_test_split(X, Y, test_size = 0.25, random_state = 0)"
   ]
  },
  {
   "cell_type": "code",
   "execution_count": 112,
   "metadata": {},
   "outputs": [
    {
     "name": "stdout",
     "output_type": "stream",
     "text": [
      "Unique predicted labels:  [0]\n",
      "Test score:  0.9915241745283019\n"
     ]
    }
   ],
   "source": [
    "from sklearn.dummy import DummyClassifier\n",
    "dummy = DummyClassifier(strategy='most_frequent').fit(X_train, Y_train)\n",
    "dummy_pred = dummy.predict(X_test)\n",
    "\n",
    "# checking unique labels\n",
    "print('Unique predicted labels: ', (np.unique(dummy_pred)))\n",
    "\n",
    "# checking accuracy\n",
    "print('Test score: ', accuracy_score(Y_test, dummy_pred))"
   ]
  },
  {
   "cell_type": "code",
   "execution_count": 115,
   "metadata": {},
   "outputs": [],
   "source": [
    "from sklearn.linear_model import LogisticRegression\n",
    "lr = LogisticRegression(solver='liblinear').fit(X_train, Y_train)\n",
    " \n",
    "# Predict on training set\n",
    "lr_pred = lr.predict(X_test)"
   ]
  },
  {
   "cell_type": "code",
   "execution_count": 117,
   "metadata": {},
   "outputs": [
    {
     "data": {
      "text/plain": [
       "0.9914504716981132"
      ]
     },
     "execution_count": 117,
     "metadata": {},
     "output_type": "execute_result"
    }
   ],
   "source": [
    "accuracy_score(Y_test, lr_pred)"
   ]
  },
  {
   "cell_type": "code",
   "execution_count": 119,
   "metadata": {},
   "outputs": [],
   "source": [
    "from sklearn.metrics import accuracy_score, f1_score, confusion_matrix, recall_score"
   ]
  },
  {
   "cell_type": "code",
   "execution_count": 121,
   "metadata": {},
   "outputs": [
    {
     "data": {
      "text/plain": [
       "0.0"
      ]
     },
     "execution_count": 121,
     "metadata": {},
     "output_type": "execute_result"
    }
   ],
   "source": [
    "f1_score(Y_test, lr_pred)"
   ]
  },
  {
   "cell_type": "code",
   "execution_count": 122,
   "metadata": {},
   "outputs": [
    {
     "data": {
      "text/html": [
       "<div>\n",
       "<style scoped>\n",
       "    .dataframe tbody tr th:only-of-type {\n",
       "        vertical-align: middle;\n",
       "    }\n",
       "\n",
       "    .dataframe tbody tr th {\n",
       "        vertical-align: top;\n",
       "    }\n",
       "\n",
       "    .dataframe thead th {\n",
       "        text-align: right;\n",
       "    }\n",
       "</style>\n",
       "<table border=\"1\" class=\"dataframe\">\n",
       "  <thead>\n",
       "    <tr style=\"text-align: right;\">\n",
       "      <th></th>\n",
       "      <th>0</th>\n",
       "      <th>1</th>\n",
       "    </tr>\n",
       "  </thead>\n",
       "  <tbody>\n",
       "    <tr>\n",
       "      <td>0</td>\n",
       "      <td>40356</td>\n",
       "      <td>3</td>\n",
       "    </tr>\n",
       "    <tr>\n",
       "      <td>1</td>\n",
       "      <td>345</td>\n",
       "      <td>0</td>\n",
       "    </tr>\n",
       "  </tbody>\n",
       "</table>\n",
       "</div>"
      ],
      "text/plain": [
       "       0  1\n",
       "0  40356  3\n",
       "1    345  0"
      ]
     },
     "execution_count": 122,
     "metadata": {},
     "output_type": "execute_result"
    }
   ],
   "source": [
    "pd.DataFrame(confusion_matrix(Y_test, lr_pred))"
   ]
  },
  {
   "cell_type": "code",
   "execution_count": 124,
   "metadata": {},
   "outputs": [
    {
     "data": {
      "text/plain": [
       "0.9912784984276729"
      ]
     },
     "execution_count": 124,
     "metadata": {},
     "output_type": "execute_result"
    }
   ],
   "source": [
    "rfc = RandomForestClassifier(n_estimators=10).fit(X_train, Y_train)\n",
    "\n",
    "# predict on test set\n",
    "rfc_pred = rfc.predict(X_test)\n",
    "\n",
    "accuracy_score(Y_test, rfc_pred)"
   ]
  },
  {
   "cell_type": "code",
   "execution_count": 126,
   "metadata": {},
   "outputs": [
    {
     "data": {
      "text/plain": [
       "0.043126684636118594"
      ]
     },
     "execution_count": 126,
     "metadata": {},
     "output_type": "execute_result"
    }
   ],
   "source": [
    "f1_score(Y_test, rfc_pred)"
   ]
  },
  {
   "cell_type": "code",
   "execution_count": 134,
   "metadata": {},
   "outputs": [
    {
     "data": {
      "text/plain": [
       "1    161462\n",
       "0    161462\n",
       "Name: Expr1, dtype: int64"
      ]
     },
     "execution_count": 134,
     "metadata": {},
     "output_type": "execute_result"
    }
   ],
   "source": [
    "from sklearn.utils import resample\n",
    "not_fraud =x_pca_df[x_pca_df.Expr1==0]\n",
    "fraud = x_pca_df[x_pca_df.Expr1==1]\n",
    "\n",
    "# upsample minority\n",
    "fraud_upsampled = resample(fraud,\n",
    "                          replace=True, # sample with replacement\n",
    "                          n_samples=len(not_fraud), # match number in majority class\n",
    "                          random_state=27) # reproducible results\n",
    "\n",
    "# combine majority and upsampled minority\n",
    "upsampled = pd.concat([not_fraud, fraud_upsampled])\n",
    "\n",
    "# check new class counts\n",
    "upsampled.Expr1.value_counts()"
   ]
  },
  {
   "cell_type": "code",
   "execution_count": null,
   "metadata": {},
   "outputs": [],
   "source": []
  },
  {
   "cell_type": "code",
   "execution_count": 137,
   "metadata": {},
   "outputs": [
    {
     "data": {
      "text/plain": [
       "Index([                 0,                  1,                  2,\n",
       "                        3,                  4,                  5,\n",
       "                        6,                  7,                  8,\n",
       "                        9,                 10,                 11,\n",
       "                       12,                 13,                 14,\n",
       "                       15,                 16,                 17,\n",
       "                       18,                 19,                 20,\n",
       "                       21,                 22,                 23,\n",
       "                       24,                 25,                 26,\n",
       "                       27,                 28,                 29,\n",
       "                       30,                 31,                 32,\n",
       "                       33,                 34,                 35,\n",
       "                       36,                 37,                 38,\n",
       "                       39,                 40,                 41,\n",
       "                       42,                 43,                 44,\n",
       "                  'Expr1', 'c_institution_id'],\n",
       "      dtype='object')"
      ]
     },
     "execution_count": 137,
     "metadata": {},
     "output_type": "execute_result"
    }
   ],
   "source": [
    "upsampled.columns"
   ]
  },
  {
   "cell_type": "code",
   "execution_count": 138,
   "metadata": {},
   "outputs": [],
   "source": [
    "upsampled = upsampled.drop(columns=['c_institution_id'])\n",
    "Y_train = upsampled.Expr1\n",
    "X_train = upsampled.drop('Expr1', axis=1)\n",
    "\n",
    "upsampled = LogisticRegression(solver='liblinear').fit(X_train, Y_train)\n",
    "\n",
    "upsampled_pred = upsampled.predict(X_test)"
   ]
  },
  {
   "cell_type": "code",
   "execution_count": 139,
   "metadata": {},
   "outputs": [
    {
     "data": {
      "text/plain": [
       "0.050180691791430046"
      ]
     },
     "execution_count": 139,
     "metadata": {},
     "output_type": "execute_result"
    }
   ],
   "source": [
    "f1_score(Y_test, upsampled_pred)"
   ]
  },
  {
   "cell_type": "code",
   "execution_count": 140,
   "metadata": {},
   "outputs": [
    {
     "data": {
      "text/html": [
       "<div>\n",
       "<style scoped>\n",
       "    .dataframe tbody tr th:only-of-type {\n",
       "        vertical-align: middle;\n",
       "    }\n",
       "\n",
       "    .dataframe tbody tr th {\n",
       "        vertical-align: top;\n",
       "    }\n",
       "\n",
       "    .dataframe thead th {\n",
       "        text-align: right;\n",
       "    }\n",
       "</style>\n",
       "<table border=\"1\" class=\"dataframe\">\n",
       "  <thead>\n",
       "    <tr style=\"text-align: right;\">\n",
       "      <th></th>\n",
       "      <th>0</th>\n",
       "      <th>1</th>\n",
       "    </tr>\n",
       "  </thead>\n",
       "  <tbody>\n",
       "    <tr>\n",
       "      <td>0</td>\n",
       "      <td>31262</td>\n",
       "      <td>9097</td>\n",
       "    </tr>\n",
       "    <tr>\n",
       "      <td>1</td>\n",
       "      <td>102</td>\n",
       "      <td>243</td>\n",
       "    </tr>\n",
       "  </tbody>\n",
       "</table>\n",
       "</div>"
      ],
      "text/plain": [
       "       0     1\n",
       "0  31262  9097\n",
       "1    102   243"
      ]
     },
     "execution_count": 140,
     "metadata": {},
     "output_type": "execute_result"
    }
   ],
   "source": [
    "pd.DataFrame(confusion_matrix(Y_test, upsampled_pred))"
   ]
  },
  {
   "cell_type": "code",
   "execution_count": 151,
   "metadata": {},
   "outputs": [
    {
     "name": "stdout",
     "output_type": "stream",
     "text": [
      "Error rate  :  0.008230351571137263\n",
      "Accuracy  :  0.9917696484288627\n",
      "Sensitivity  :  0.0009940357852882703\n",
      "Specificity  :  0.0009940357852882703\n",
      "False positive rate  :  0.0\n"
     ]
    }
   ],
   "source": [
    "from sklearn.metrics import confusion_matrix\n",
    "tn, fp, fn, tp = confusion_matrix(train_y, xgb6.predict(train_X)).ravel()\n",
    "# Error rate : \n",
    "err_rate = (fp + fn) / (tp + tn + fn + fp)\n",
    "print(\"Error rate  : \", err_rate)\n",
    "# Accuracy : \n",
    "acc_ = (tp + tn) / (tp + tn + fn + fp)\n",
    "print(\"Accuracy  : \", acc_)\n",
    "# Sensitivity : \n",
    "sens_ = tp / (tp + fn)\n",
    "print(\"Sensitivity  : \", sens_)\n",
    "# Specificity \n",
    "sp_ = tn / (tn + fp)\n",
    "print(\"Specificity  : \", sens_)\n",
    "# False positive rate (FPR)\n",
    "FPR = fp / (tn + fp)\n",
    "print(\"False positive rate  : \", FPR)"
   ]
  },
  {
   "cell_type": "code",
   "execution_count": 141,
   "metadata": {},
   "outputs": [
    {
     "name": "stderr",
     "output_type": "stream",
     "text": [
      "D:\\anac\\lib\\site-packages\\sklearn\\utils\\deprecation.py:87: FutureWarning: Function safe_indexing is deprecated; safe_indexing is deprecated in version 0.22 and will be removed in version 0.24.\n",
      "  warnings.warn(msg, category=FutureWarning)\n"
     ]
    }
   ],
   "source": [
    "from imblearn.over_sampling import SMOTE\n",
    "\n",
    "# Separate input features and target\n",
    "X = x_pca_df.drop(columns=['Expr1','c_institution_id'])\n",
    "Y = x_pca_df['Expr1']\n",
    "\n",
    "# setting up testing and training sets\n",
    "X_train, X_test, y_train, y_test = train_test_split(X, Y, test_size=0.25, random_state=27)\n",
    "\n",
    "sm = SMOTE(random_state=27, ratio=1.0)\n",
    "X_train, y_train = sm.fit_sample(X_train, y_train)"
   ]
  },
  {
   "cell_type": "code",
   "execution_count": 152,
   "metadata": {},
   "outputs": [
    {
     "data": {
      "text/plain": [
       "0.0909090909090909"
      ]
     },
     "execution_count": 152,
     "metadata": {},
     "output_type": "execute_result"
    }
   ],
   "source": [
    "smote = RandomForestClassifier(n_estimators = 10, criterion = 'entropy', random_state = 0).fit(X_train, y_train)\n",
    "\n",
    "smote_pred = smote.predict(X_test)\n",
    "\n",
    "# Checking accuracy\n",
    "#accuracy_score(y_test, smote_pred)\n",
    "f1_score(y_test, smote_pred)"
   ]
  },
  {
   "cell_type": "code",
   "execution_count": 153,
   "metadata": {},
   "outputs": [
    {
     "name": "stdout",
     "output_type": "stream",
     "text": [
      "(69778, 45)\n"
     ]
    },
    {
     "name": "stderr",
     "output_type": "stream",
     "text": [
      "D:\\anac\\lib\\site-packages\\ipykernel_launcher.py:6: SettingWithCopyWarning: \n",
      "A value is trying to be set on a copy of a slice from a DataFrame.\n",
      "Try using .loc[row_indexer,col_indexer] = value instead\n",
      "\n",
      "See the caveats in the documentation: http://pandas.pydata.org/pandas-docs/stable/user_guide/indexing.html#returning-a-view-versus-a-copy\n",
      "  \n"
     ]
    },
    {
     "data": {
      "text/html": [
       "<div>\n",
       "<style scoped>\n",
       "    .dataframe tbody tr th:only-of-type {\n",
       "        vertical-align: middle;\n",
       "    }\n",
       "\n",
       "    .dataframe tbody tr th {\n",
       "        vertical-align: top;\n",
       "    }\n",
       "\n",
       "    .dataframe thead th {\n",
       "        text-align: right;\n",
       "    }\n",
       "</style>\n",
       "<table border=\"1\" class=\"dataframe\">\n",
       "  <thead>\n",
       "    <tr style=\"text-align: right;\">\n",
       "      <th>Predicted FK_FLAG</th>\n",
       "      <th>0</th>\n",
       "      <th>1</th>\n",
       "    </tr>\n",
       "    <tr>\n",
       "      <th>Expr1</th>\n",
       "      <th></th>\n",
       "      <th></th>\n",
       "    </tr>\n",
       "  </thead>\n",
       "  <tbody>\n",
       "    <tr>\n",
       "      <td>0</td>\n",
       "      <td>68424</td>\n",
       "      <td>727</td>\n",
       "    </tr>\n",
       "    <tr>\n",
       "      <td>1</td>\n",
       "      <td>549</td>\n",
       "      <td>78</td>\n",
       "    </tr>\n",
       "  </tbody>\n",
       "</table>\n",
       "</div>"
      ],
      "text/plain": [
       "Predicted FK_FLAG      0    1\n",
       "Expr1                        \n",
       "0                  68424  727\n",
       "1                    549   78"
      ]
     },
     "execution_count": 153,
     "metadata": {},
     "output_type": "execute_result"
    }
   ],
   "source": [
    "d3_X = d3.drop(columns=['Expr1','c_institution_id','Predicted FK_FLAG'])\n",
    "d3_Y = d3['Expr1']\n",
    "print(d3_X.shape)\n",
    "X_T_pred = smote.predict(d3_X)\n",
    "#X_T_pred = [ 1 if y>=0.5 else 0 for y in X_T_pred ]\n",
    "d3['Predicted FK_FLAG'] = X_T_pred\n",
    "#X_T['c_institution_id'] = G['c_institution_id']\n",
    "X_T['Actual FK_FLAG'] = G['Expr1']\n",
    "#c = ['c_institution_id','Actual FK_FLAG','Predicted FK_FLAG']\n",
    "#X_T_pred = pd.DataFrame(X_T_pred)\n",
    "#X_T_pred['Actual FK_FLAG'] = d3['Expr1']\n",
    "#X_T_pred['c_institution_id'] = d3['c_institution_id']\n",
    "#X_T_pred[0].value_counts()\n",
    "pd.crosstab(d3['Expr1'],d3['Predicted FK_FLAG'])"
   ]
  },
  {
   "cell_type": "code",
   "execution_count": null,
   "metadata": {},
   "outputs": [],
   "source": []
  },
  {
   "cell_type": "code",
   "execution_count": null,
   "metadata": {},
   "outputs": [],
   "source": [
    "pd.DataFrame(confusion_matrix(y_test, smote_pred))"
   ]
  }
 ],
 "metadata": {
  "kernelspec": {
   "display_name": "Python 3",
   "language": "python",
   "name": "python3"
  },
  "language_info": {
   "codemirror_mode": {
    "name": "ipython",
    "version": 3
   },
   "file_extension": ".py",
   "mimetype": "text/x-python",
   "name": "python",
   "nbconvert_exporter": "python",
   "pygments_lexer": "ipython3",
   "version": "3.7.4"
  }
 },
 "nbformat": 4,
 "nbformat_minor": 2
}
